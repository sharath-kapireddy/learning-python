{
 "cells": [
  {
   "cell_type": "markdown",
   "id": "24a92d2d",
   "metadata": {},
   "source": [
    "# multiprocessing Intro\n",
    "\n",
    "### Python multiprocessing vs multiprocess\n",
    "**🔹 multiprocessing (✅ Built-in)**\n",
    "- Standard library module in Python (since Python 2.6)\n",
    "- Enables true parallelism using multiple processes\n",
    "- Bypasses Python’s GIL, making it ideal for CPU-bound tasks\n",
    "- Comes with tools like:\n",
    "    - `Process`, `Queue`, `Pool`, `Pipe`, `Manager`\n",
    "\n",
    "**🔸 multiprocess (🔁 Third-party package)**\n",
    "- An external library (install via pip install multiprocess)\n",
    "- A fork of multiprocessing, developed by the pathos team\n",
    "- Supports more advanced serialization using dill instead of pickle\n",
    "- Meaning: it can handle closures, lambdas, and more complex objects\n",
    "- API is almost identical to multiprocessing\n",
    "\n",
    "**Basic Example**"
   ]
  },
  {
   "cell_type": "code",
   "execution_count": 1,
   "id": "e39ac10c",
   "metadata": {},
   "outputs": [
    {
     "name": "stdout",
     "output_type": "stream",
     "text": [
      "[Main] result = {1: 1, 22: 484}\n",
      "All processing done\n"
     ]
    }
   ],
   "source": [
    "from multiprocess import Process, Manager\n",
    "import time\n",
    "\n",
    "def square(x, res):\n",
    "    res[x] = x ** 2\n",
    "    print(f\"[Child] square[{x}] = {x**2}, res = {dict(res)}\")\n",
    "\n",
    "if __name__ == \"__main__\":\n",
    "    with Manager() as manager:\n",
    "        result = manager.dict()\n",
    "\n",
    "        p1 = Process(target=square, args=(1, result))\n",
    "        p2 = Process(target=square, args=(22, result))\n",
    "\n",
    "        p1.start()\n",
    "        p2.start()\n",
    "\n",
    "        p1.join()\n",
    "        p2.join()\n",
    "\n",
    "        print(f\"[Main] result = {dict(result)}\")\n",
    "    print(\"All processing done\")\n"
   ]
  },
  {
   "cell_type": "markdown",
   "id": "5d70b873",
   "metadata": {},
   "source": [
    "**✅ Important Points**\n",
    "- Each process in multiprocessing runs in its own memory space, so regular Python objects like dict aren't shared across processes.\n",
    "    - ✅ To share data, use Manager().dict() — a shared dictionary proxy accessible by all child processes.\n",
    "-⚠️ Avoid running multiprocessing code in interactive environments (like IDLE, Jupyter, or REPLs), as it may behave unexpectedly.\n",
    "    - ✅ Prefer running your multiprocessing code as a standalone script (.py file) via terminal or command prompt.\n",
    "- 🔁 Common Pitfall:\n",
    "    - Always wrap multiprocessing code inside the if __name__ == \"__main__\": guard.\n",
    "    - ❌ Missing this on Windows/macOS can lead to unexpected behavior or infinite process spawning.\n",
    "- 🧪 In notebooks, the built-in multiprocessing module may not function as expected.\n",
    "    - ✅ To work around this, use the multiprocess package instead.\n",
    "    - ✅ If running the same code as a script, you can safely switch back to:\n",
    "    - `from multiprocessing import Process, Manager`\n",
    "\n",
    "\n",
    "## What is Manager()?\n",
    "- Manager() is a special helper in the multiprocessing module that allows you to create shared objects like: dict, list, Namespace, Lock, Queue, etc.\n",
    "- These shared objects can be safely accessed and modified across multiple processes.\n",
    "\n",
    "**🔧 Why do you need it?**\n",
    "- In multithreading, threads share memory. But in multiprocessing, each process has its own memory space. So, if you do this: `result = {}`\n",
    "and then pass it to two Processes — it won’t work. Each process gets a copy, not the original.\n",
    "\n",
    "- To fix that, you use:\n",
    "    -   ```python\n",
    "        from multiprocessing import Manager\n",
    "        result = Manager().dict()\n",
    "        ```\n",
    "- Now result is a proxy object, backed by a server process that all child processes can talk to safely.\n",
    "\n",
    "**🔁 Behind the Scenes**\n",
    "- Manager() spawns a server process internally.\n",
    "- When you use manager.dict() or manager.list(), it returns proxy objects.\n",
    "- These proxies handle inter-process communication (IPC) and synchronize access."
   ]
  }
 ],
 "metadata": {
  "kernelspec": {
   "display_name": "Python 3",
   "language": "python",
   "name": "python3"
  },
  "language_info": {
   "codemirror_mode": {
    "name": "ipython",
    "version": 3
   },
   "file_extension": ".py",
   "mimetype": "text/x-python",
   "name": "python",
   "nbconvert_exporter": "python",
   "pygments_lexer": "ipython3",
   "version": "3.13.2"
  }
 },
 "nbformat": 4,
 "nbformat_minor": 5
}
