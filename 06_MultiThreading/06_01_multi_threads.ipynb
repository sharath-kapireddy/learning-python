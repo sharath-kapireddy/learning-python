{
 "cells": [
  {
   "cell_type": "markdown",
   "id": "03aeb23f",
   "metadata": {},
   "source": [
    "# Multithreading Intro\n",
    "\n",
    "Multithreading allows a program to run multiple threads (smaller units of a process) concurrently. It's useful when you have tasks that can run independently, especially I/O-bound operations (like file reads/writes, API calls).\n",
    "\n",
    "**Python and the GIL (Global Interpreter Lock)**\n",
    "- Python (specifically CPython) has a Global Interpreter Lock (GIL), which ensures only one thread executes Python bytecode at a time.\n",
    "- This means multithreading in Python is not suitable for CPU-bound tasks (e.g., heavy calculations).\n",
    "- But it's great for I/O-bound tasks — like downloading files, reading from databases, or waiting for user input.\n",
    "\n",
    "**✅ Use it for:**\n",
    "- File I/O operations\n",
    "- Network requests\n",
    "- Delayed response systems (e.g., sleep, user wait)\n",
    "\n",
    "**🚫 Avoid it for:**\n",
    "- CPU-intensive tasks — use multiprocessing instead\n",
    "\n",
    "**Examples:**"
   ]
  },
  {
   "cell_type": "code",
   "execution_count": 1,
   "id": "273ce443",
   "metadata": {},
   "outputs": [
    {
     "name": "stdout",
     "output_type": "stream",
     "text": [
      "{3: 9, 2: 4}\n",
      "All thread processing completed\n"
     ]
    }
   ],
   "source": [
    "import threading\n",
    "import time\n",
    "\n",
    "result = {}\n",
    "lock = threading.Lock()\n",
    "\n",
    "def square(x):\n",
    "    time.sleep(1)\n",
    "    res = x**2\n",
    "    # lock = threading.Lock() and with lock: ensures that only one thread writes to result at a time (thread-safe).\n",
    "    # result[x] = res\n",
    "    # with threading.Lock():\n",
    "    with lock:\n",
    "       result[x] = res\n",
    "\n",
    "t1 = threading.Thread(target=square, args=(2,))\n",
    "t2 = threading.Thread(target=square, args=(3,))\n",
    "\n",
    "t1.start()\n",
    "t2.start()\n",
    "\n",
    "t1.join()\n",
    "t2.join()\n",
    "\n",
    "print(result)\n",
    "print(\"All thread processing completed\")\n"
   ]
  },
  {
   "cell_type": "code",
   "execution_count": 2,
   "id": "94072315",
   "metadata": {},
   "outputs": [
    {
     "name": "stdout",
     "output_type": "stream",
     "text": [
      "{1: 1, 2: 4, 3: 9, 4: 16, 6: 36, 5: 25, 7: 49, 9: 81, 8: 64, 10: 100, 12: 144, 11: 121, 13: 169, 14: 196, 15: 225, 16: 256, 17: 289, 18: 324, 19: 361, 20: 400, 21: 441, 22: 484, 24: 576, 23: 529, 26: 676, 27: 729, 25: 625, 30: 900, 28: 784, 29: 841, 31: 961, 32: 1024, 33: 1089, 34: 1156, 36: 1296, 35: 1225, 38: 1444, 37: 1369, 40: 1600, 39: 1521, 43: 1849, 42: 1764, 41: 1681, 45: 2025, 44: 1936, 47: 2209, 46: 2116, 50: 2500, 48: 2304, 49: 2401, 51: 2601, 52: 2704, 53: 2809, 54: 2916, 55: 3025, 57: 3249, 56: 3136, 58: 3364, 59: 3481, 60: 3600, 61: 3721, 62: 3844, 63: 3969, 64: 4096, 65: 4225, 66: 4356, 67: 4489, 68: 4624, 69: 4761, 70: 4900, 71: 5041, 72: 5184, 74: 5476, 73: 5329, 75: 5625, 76: 5776, 77: 5929, 79: 6241, 78: 6084, 81: 6561, 80: 6400, 83: 6889, 82: 6724, 84: 7056, 86: 7396, 85: 7225, 88: 7744, 87: 7569, 89: 7921, 91: 8281, 90: 8100, 92: 8464, 94: 8836, 93: 8649, 96: 9216, 95: 9025, 98: 9604, 97: 9409, 99: 9801, 100: 10000}\n",
      "All thread processing completed\n"
     ]
    }
   ],
   "source": [
    "import threading\n",
    "import time\n",
    "\n",
    "result = {}\n",
    "lock = threading.Lock()\n",
    "\n",
    "def square(x):\n",
    "    time.sleep(1)  # Reduced sleep for faster demo\n",
    "    with lock:\n",
    "        result[x] = x**2\n",
    "\n",
    "threads = [threading.Thread(target=square, args=(x,))\n",
    "           for x in range(1, 101)]\n",
    "\n",
    "# for t in threads:\n",
    "#     t.start()\n",
    "# for t in threads:\n",
    "#     t.join()\n",
    "[t.start() for t in threads]\n",
    "[t.join() for t in threads]\n",
    "\n",
    "print(result)\n",
    "print(\"All thread processing completed\")\n"
   ]
  },
  {
   "cell_type": "markdown",
   "id": "bc69ebcd",
   "metadata": {},
   "source": [
    "**🔹 Tips and Good Practices**\n",
    "- Use threading.Lock() to avoid race conditions when threads access shared data.\n",
    "- Prefer concurrent.futures.ThreadPoolExecutor for easier thread management.\n",
    "- If you're looking for return values from threads, you can switch to ThreadPoolExecutor. "
   ]
  }
 ],
 "metadata": {
  "kernelspec": {
   "display_name": "Python 3",
   "language": "python",
   "name": "python3"
  },
  "language_info": {
   "codemirror_mode": {
    "name": "ipython",
    "version": 3
   },
   "file_extension": ".py",
   "mimetype": "text/x-python",
   "name": "python",
   "nbconvert_exporter": "python",
   "pygments_lexer": "ipython3",
   "version": "3.13.2"
  }
 },
 "nbformat": 4,
 "nbformat_minor": 5
}
