{
 "cells": [
  {
   "cell_type": "markdown",
   "id": "b654dd3b",
   "metadata": {},
   "source": [
    "# 📦 Intro: Python Modules\n",
    "\n",
    "In Python, **modules** and **packages** are used to organize and reuse code.\n",
    "\n",
    "### 🔹 Modules\n",
    "\n",
    "A **module** is simply a **single Python file** (`.py`) that contains definitions of functions, variables, classes, etc.\n",
    "\n",
    "- Modules help break large programs into small, manageable, and reusable components.\n",
    "- You can import a module using `import modulename`.\n",
    "\n",
    "#### ✅ Example — Custom Module\n",
    "📄 `mymath.py` (your module):\n",
    "```python\n",
    "def add(a, b):\n",
    "    return a + b\n",
    "\n",
    "def subtract(a, b):\n",
    "    return a - b\n",
    "\n",
    "PI = 3.14159"
   ]
  },
  {
   "cell_type": "code",
   "execution_count": 3,
   "id": "a94be9d7",
   "metadata": {},
   "outputs": [
    {
     "name": "stdout",
     "output_type": "stream",
     "text": [
      "15\n",
      "5\n",
      "3.14159\n"
     ]
    }
   ],
   "source": [
    "import mymath\n",
    "\n",
    "print(mymath.add(10, 5))       # Output: 15\n",
    "print(mymath.subtract(10, 5))  # Output: 5\n",
    "print(mymath.PI)               # Output: 3.14159\n"
   ]
  },
  {
   "cell_type": "markdown",
   "id": "7ff53638",
   "metadata": {},
   "source": [
    "**✅ Different Ways to Import and Use mymath**\n",
    "1. Standard Import\n",
    "2. Import with Alias\n",
    "3. Import Specific Members\n",
    "4. Import All Members (⚠️ Not Recommended)\n",
    "    - ⚠️ This approach can pollute the namespace and cause name conflicts. Use it sparingly."
   ]
  },
  {
   "cell_type": "code",
   "execution_count": 5,
   "id": "3bb16374",
   "metadata": {},
   "outputs": [
    {
     "name": "stdout",
     "output_type": "stream",
     "text": [
      "15\n",
      "5\n",
      "3.14159\n",
      "10\n",
      "3.14159\n",
      "28\n",
      "3.14159\n",
      "3\n",
      "2\n",
      "3.14159\n"
     ]
    }
   ],
   "source": [
    "# 1. Standard Import\n",
    "import mymath\n",
    "\n",
    "print(mymath.add(10, 5))       # 15\n",
    "print(mymath.subtract(10, 5))  # 5\n",
    "print(mymath.PI)               # 3.14159\n",
    "\n",
    "#2. Import with Alias\n",
    "import mymath as mm\n",
    "\n",
    "print(mm.add(7, 3))       # 10\n",
    "print(mm.PI)              # 3.14159\n",
    "\n",
    "#3. Import Specific Members\n",
    "from mymath import add, PI\n",
    "\n",
    "print(add(20, 8))         # 28\n",
    "print(PI)                 # 3.14159\n",
    "\n",
    "#4. Import All Members (⚠️ Not Recommended)\n",
    "from mymath import *\n",
    "\n",
    "print(add(1, 2))          # 3\n",
    "print(subtract(5, 3))     # 2\n",
    "print(PI)                 # 3.14159\n",
    "\n"
   ]
  },
  {
   "cell_type": "code",
   "execution_count": 6,
   "id": "0b5672c3",
   "metadata": {},
   "outputs": [
    {
     "name": "stdout",
     "output_type": "stream",
     "text": [
      "hello...\n",
      "HELLO!!!\n"
     ]
    }
   ],
   "source": [
    "from utils.string_ops import whisper, shout\n",
    "\n",
    "print(whisper(\"hello\"))\n",
    "print(shout(\"hello\"))\n"
   ]
  },
  {
   "cell_type": "markdown",
   "id": "86032030",
   "metadata": {},
   "source": [
    "**Summary of Best Practices while importing**\n",
    "- Use specific imports (e.g., from utils import add) when only a few elements are needed.\n",
    "- Use the full package import (e.g., import utils) when the package is small and well-structured.\n",
    "- Use module imports (e.g., import utils.string_ops) for clarity and when working with larger projects.\n",
    "- Aliasing is recommended when module names are long or frequently used (e.g., import numpy as np).\n",
    "- Avoid wildcard imports as they clutter the namespace and reduce readability.\n",
    "\n",
    "**Suggested Standard Python Import Style**\n",
    "- Standard Library Imports:\n",
    "    - These are imports from Python's built-in libraries, like os, sys, math, etc.\n",
    "- Third-party Imports:\n",
    "    - Libraries installed via pip, like numpy, pandas, requests, etc.\n",
    "- Local Application/Package Imports:\n",
    "    - Imports from your own codebase, e.g., import utils.\n",
    "\n",
    "---\n",
    "\n",
    "**Summary of __name__ Behavior\n",
    "- Running Directly:\n",
    "    - `__name__ = \"__main__\"` when the script is executed directly (e.g., python script.py).\n",
    "\n",
    "- Imported as a Module:\n",
    "    - `__name__ = \"module_name\"` when the script is imported as a module (e.g., import script).\n",
    "\n",
    "- Part of a Package and Imported:\n",
    "    - `__name__ = \"package.module.submodule\"` when the script is part of a package and imported with its full module path (e.g., import package.module)."
   ]
  }
 ],
 "metadata": {
  "kernelspec": {
   "display_name": "Python 3",
   "language": "python",
   "name": "python3"
  },
  "language_info": {
   "codemirror_mode": {
    "name": "ipython",
    "version": 3
   },
   "file_extension": ".py",
   "mimetype": "text/x-python",
   "name": "python",
   "nbconvert_exporter": "python",
   "pygments_lexer": "ipython3",
   "version": "3.13.2"
  }
 },
 "nbformat": 4,
 "nbformat_minor": 5
}
