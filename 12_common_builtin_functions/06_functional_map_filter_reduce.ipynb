{
 "cells": [
  {
   "cell_type": "markdown",
   "id": "86060b12",
   "metadata": {},
   "source": [
    "# Functional operators\n",
    "- Functional operators are typically higher-order functions that are used to process data in a functional programming style. \n",
    "- These include functions like `map()`, `filter()`, `reduce()`, and lambda functions. "
   ]
  },
  {
   "cell_type": "code",
   "execution_count": 1,
   "id": "62eabb58",
   "metadata": {},
   "outputs": [
    {
     "name": "stdout",
     "output_type": "stream",
     "text": [
      "8\n"
     ]
    }
   ],
   "source": [
    "# A lambda function is an anonymous function, meaning it doesn’t have a name. It is often used for short, throwaway functions.\n",
    "# Lambda function to add two numbers\n",
    "add = lambda x, y: x + y\n",
    "print(add(3, 5))  # Output: 8\n"
   ]
  },
  {
   "cell_type": "markdown",
   "id": "576507db",
   "metadata": {},
   "source": [
    "### map() Function\n",
    "The map() function applies a given function to all items in an input list (or any other iterable) and returns a map object (which is an iterator).\n",
    "\n",
    "### filter() Function\n",
    "The filter() function constructs an iterator from elements of an iterable for which a function returns True."
   ]
  },
  {
   "cell_type": "code",
   "execution_count": 2,
   "id": "ac32db67",
   "metadata": {},
   "outputs": [
    {
     "name": "stdout",
     "output_type": "stream",
     "text": [
      "Map object: <map object at 0x0000016CC994EA10>\n",
      "Squared Numbers: [1, 4, 9, 16, 25]\n",
      "Filter object: <filter object at 0x0000016CC994E110>\n",
      "Even Numbers: [2, 4]\n"
     ]
    }
   ],
   "source": [
    "# Function to return the square of a number\n",
    "def square(x):\n",
    "    return x ** 2\n",
    "\n",
    "# Function to check if a number is even\n",
    "def is_even(x):\n",
    "    return x % 2 == 0\n",
    "\n",
    "# Sample list of integers\n",
    "numbers = [1, 2, 3, 4, 5]\n",
    "\n",
    "# -------------------------\n",
    "# map()\n",
    "# -------------------------\n",
    "# Use map to apply the square function to each element\n",
    "squared_numbers = map(square, numbers)\n",
    "print(\"Map object:\", squared_numbers)  # Output: Map object: <map object at 0x...>\n",
    "print(\"Squared Numbers:\", list(squared_numbers)) # Output: Squared Numbers: [1, 4, 9, 16, 25]\n",
    "\n",
    "# -------------------------\n",
    "# filter()\n",
    "# -------------------------\n",
    "# Use filter to get only even numbers from the list\n",
    "even_numbers = filter(is_even, numbers)\n",
    "print(\"Filter object:\", even_numbers)  # Output: Filter object: <filter object at 0x...>\n",
    "print(\"Even Numbers:\", list(even_numbers)) # Output: Even Numbers: [2, 4]\n"
   ]
  },
  {
   "cell_type": "markdown",
   "id": "5904b665",
   "metadata": {},
   "source": [
    "### reduce() Function\n",
    "- The `reduce()` function is part of the `functools` module. \n",
    "- It applies a binary function (i.e., a function that takes two arguments) cumulatively to the items of an iterable, from left to right."
   ]
  },
  {
   "cell_type": "code",
   "execution_count": 3,
   "id": "a28bb64e",
   "metadata": {},
   "outputs": [
    {
     "name": "stdout",
     "output_type": "stream",
     "text": [
      "Product of all numbers: 120\n"
     ]
    }
   ],
   "source": [
    "from functools import reduce\n",
    "\n",
    "# Function to multiply two numbers\n",
    "def multiply(x, y):\n",
    "    return x * y\n",
    "\n",
    "# Sample list of numbers\n",
    "numbers = [1, 2, 3, 4, 5]\n",
    "\n",
    "# -------------------------\n",
    "# reduce()\n",
    "# -------------------------\n",
    "# Use reduce to apply the multiply function cumulatively\n",
    "result = reduce(multiply, numbers)\n",
    "print(\"Product of all numbers:\", result) # Output: Product of all numbers: 120\n"
   ]
  },
  {
   "cell_type": "markdown",
   "id": "3cebdfc2",
   "metadata": {},
   "source": [
    "### Summary\n",
    "- **Lambda Functions**: For short, simple functions.\n",
    "- **`map()`**: Apply a transformation to each element in an iterable.\n",
    "- **`filter()`**: Filter elements based on a condition.\n",
    "- **`reduce()`**: Combine all elements of an iterable to a single value.\n",
    "- **`sorted()`**: Sort an iterable based on custom logic.\n",
    "\n",
    "These functional operators are great tools for writing concise, readable code in Python, especially when dealing with iterables."
   ]
  }
 ],
 "metadata": {
  "kernelspec": {
   "display_name": "Python 3",
   "language": "python",
   "name": "python3"
  },
  "language_info": {
   "codemirror_mode": {
    "name": "ipython",
    "version": 3
   },
   "file_extension": ".py",
   "mimetype": "text/x-python",
   "name": "python",
   "nbconvert_exporter": "python",
   "pygments_lexer": "ipython3",
   "version": "3.13.2"
  }
 },
 "nbformat": 4,
 "nbformat_minor": 5
}
