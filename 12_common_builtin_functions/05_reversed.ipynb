{
 "cells": [
  {
   "cell_type": "markdown",
   "id": "44a2176c",
   "metadata": {},
   "source": [
    "### reversed()\n",
    "\n",
    "The `reversed()` function in Python is a built-in function that returns an iterator that accesses the elements of the iterable in the reverse order.\n",
    "\n",
    "**Key Points:**\n",
    "- `reversed()` can only be applied to sequences such as lists, tuples, or strings. It is not available for sets or dictionaries.\n",
    "- The function returns an iterator, which means it can be used with `list()` or other sequence data types to materialize the reversed result.\n",
    "- `reversed()` does not take a `key` argument, unlike `sorted()`, because it simply reverses the iterable. However, you can reverse the result of a sorted iterable.\n",
    "\n",
    "---\n",
    "**reversed() vs my_list1.reverse() vs slicing[::-1]**\n",
    "- reverse(): reverses a mutable sequence in-place. And so is not available for immutable sequences like strings\n",
    "- slicing[::-1]: Creates a reverse copy of sequence. However, in some cases can be memory intense (consider a sequence of million items)\n",
    "- reversed(): Returns a reverse iterator (NOT A COPY OF SEQUENCE); SO, can be memory efficient\n"
   ]
  },
  {
   "cell_type": "code",
   "execution_count": 1,
   "id": "b91fc742",
   "metadata": {},
   "outputs": [
    {
     "name": "stdout",
     "output_type": "stream",
     "text": [
      "[2, 4, 9, 5, 1]\n",
      "olleh\n",
      "['ball', 'Cat', 'Apple']\n"
     ]
    }
   ],
   "source": [
    "# -------------------------\n",
    "# Reversing a list\n",
    "# -------------------------\n",
    "list1 = [1, 5, 9, 4, 2]\n",
    "reversed_list = list(reversed(list1))  # Convert iterator to list\n",
    "print(reversed_list)  # [2, 4, 9, 5, 1]\n",
    "\n",
    "# Reversing a string\n",
    "s = \"hello\"\n",
    "reversed_string = ''.join(reversed(s))  # Join reversed string\n",
    "print(reversed_string)  # 'olleh'\n",
    "\n",
    "# -------------------------\n",
    "# Reversing a sorted list without using sorted(lsit1, reverse=true)\n",
    "# -------------------------\n",
    "list1 = [\"Apple\", \"ball\", \"Cat\"]\n",
    "sorted_list = sorted(list1)\n",
    "reversed_sorted_list = list(reversed(sorted_list))\n",
    "print(reversed_sorted_list)  # ['ball', 'Cat', 'Apple']\n"
   ]
  }
 ],
 "metadata": {
  "kernelspec": {
   "display_name": "Python 3",
   "language": "python",
   "name": "python3"
  },
  "language_info": {
   "codemirror_mode": {
    "name": "ipython",
    "version": 3
   },
   "file_extension": ".py",
   "mimetype": "text/x-python",
   "name": "python",
   "nbconvert_exporter": "python",
   "pygments_lexer": "ipython3",
   "version": "3.13.2"
  }
 },
 "nbformat": 4,
 "nbformat_minor": 5
}
