{
 "cells": [
  {
   "cell_type": "markdown",
   "id": "d1cb9878",
   "metadata": {},
   "source": [
    "### zip()\n",
    "The `zip()` function in Python is used to combine multiple iterables (such as lists, tuples, etc.) element-wise into tuples. It returns an iterator of tuples where each tuple contains the elements from the iterables at the same index.\n",
    "\n",
    "**Key Points:**\n",
    "- `zip()` can combine two or more iterables into tuples.\n",
    "- It stops when the shortest iterable is exhausted. If the iterables have different lengths, the remaining elements from the longer iterables are ignored.\n",
    "- You can use `zip(*iterables)` to unzip or separate the elements back into their original form.\n",
    "\n"
   ]
  },
  {
   "cell_type": "code",
   "execution_count": 1,
   "id": "21f33991",
   "metadata": {},
   "outputs": [
    {
     "name": "stdout",
     "output_type": "stream",
     "text": [
      "[(1, 'a'), (2, 'b'), (3, 'c')]\n",
      "[(1, 'a'), (2, 'b'), (3, 'c')]\n",
      "[(1, 'a', 10), (2, 'b', 20), (3, 'c', 30)]\n",
      "[(1, 'a', 10, 'x'), (2, 'b', 20, 'y'), (3, 'c', 30, 'z')]\n"
     ]
    }
   ],
   "source": [
    "# -------------------------\n",
    "# Using zip with two lists\n",
    "# -------------------------\n",
    "list1 = [1, 2, 3]\n",
    "list2 = ['a', 'b', 'c']\n",
    "zipped_list = list(zip(list1, list2))  # Combine two lists\n",
    "print(zipped_list)  # [(1, 'a'), (2, 'b'), (3, 'c')]\n",
    "\n",
    "# -------------------------\n",
    "# Using zip with different-length lists\n",
    "# -------------------------\n",
    "list3 = [1, 2, 3, 4]\n",
    "list4 = ['a', 'b', 'c']\n",
    "zipped_diff_length = list(zip(list3, list4))  # Stops when the shortest iterable is exhausted\n",
    "print(zipped_diff_length)  # [(1, 'a'), (2, 'b'), (3, 'c')]\n",
    "\n",
    "# -------------------------\n",
    "# Using zip with three lists\n",
    "# -------------------------\n",
    "list1 = [1, 2, 3]\n",
    "list2 = ['a', 'b', 'c']\n",
    "list3 = [10, 20, 30]\n",
    "zipped_three_lists = list(zip(list1, list2, list3))  # Combine three lists\n",
    "print(zipped_three_lists)  # [(1, 'a', 10), (2, 'b', 20), (3, 'c', 30)]\n",
    "\n",
    "# -------------------------\n",
    "# Using zip with four lists\n",
    "# -------------------------\n",
    "list4 = ['x', 'y', 'z']\n",
    "zipped_four_lists = list(zip(list1, list2, list3, list4))  # Combine four lists\n",
    "print(zipped_four_lists)  # [(1, 'a', 10, 'x'), (2, 'b', 20, 'y'), (3, 'c', 30, 'z')]\n"
   ]
  },
  {
   "cell_type": "markdown",
   "id": "a57ae193",
   "metadata": {},
   "source": [
    "### unzipping\n",
    "The zip(*zipped_data) with the * operator is a neat trick to \"reverse\" the effect of zip(), allowing you to break a list of tuples back into separate lists."
   ]
  },
  {
   "cell_type": "code",
   "execution_count": 2,
   "id": "59410c86",
   "metadata": {},
   "outputs": [
    {
     "name": "stdout",
     "output_type": "stream",
     "text": [
      "[(1, 2, 3), ('a', 'b', 'c')]\n"
     ]
    }
   ],
   "source": [
    "\n",
    "# -------------------------\n",
    "# Using zip to unzip (separate tuples back into lists)\n",
    "# -------------------------\n",
    "zipped_data = [(1, 'a'), (2, 'b'), (3, 'c')]\n",
    "unzipped_data = list(zip(*zipped_data))  # Unzipping\n",
    "print(unzipped_data)  # [(1, 2, 3), ('a', 'b', 'c')]\n"
   ]
  },
  {
   "cell_type": "markdown",
   "id": "2d4895ed",
   "metadata": {},
   "source": [
    "### 🔗 `itertools.zip_longest`\n",
    "\n",
    "`zip_longest()` is a function from the `itertools` module that\n",
    "combines two or more iterables **element-wise**, just like `zip()`.\n",
    "\n",
    "🧩 Difference:\n",
    "- Unlike `zip()`, it **doesn't stop at the shortest iterable**.\n",
    "- It continues until the **longest iterable is exhausted**.\n",
    "- Fills missing values with a user-defined `fillvalue` (default is `None`).\n",
    "\n",
    "#### 📦 Syntax:\n",
    "```python\n",
    "from itertools import zip_longest\n",
    "zip_longest(iter1, iter2, ..., fillvalue=None)\n"
   ]
  },
  {
   "cell_type": "code",
   "execution_count": 3,
   "id": "12e26c34",
   "metadata": {},
   "outputs": [
    {
     "name": "stdout",
     "output_type": "stream",
     "text": [
      "[(1, 'x'), (2, 'y'), (3, None)]\n",
      "[(1, 'x'), (2, 'y'), (3, '-')]\n",
      "[(1, 'x', True), (2, 'y', '*'), (3, '*', '*')]\n",
      "zip: [(1, 'x'), (2, 'y')]\n",
      "zip_longest: [(1, 'x'), (2, 'y'), (3, None)]\n"
     ]
    }
   ],
   "source": [
    "from itertools import zip_longest\n",
    "\n",
    "########################\n",
    "# ✅ 1. zip_longest with default fillvalue (None)\n",
    "# Continues till the longest list is exhausted\n",
    "########################\n",
    "a = [1, 2, 3]\n",
    "b = ['x', 'y']\n",
    "print(list(zip_longest(a, b)))\n",
    "# [(1, 'x'), (2, 'y'), (3, None)]\n",
    "\n",
    "########################\n",
    "# ✅ 2. zip_longest with custom fillvalue\n",
    "# Use '-' to fill missing values\n",
    "########################\n",
    "print(list(zip_longest(a, b, fillvalue='-')))\n",
    "# [(1, 'x'), (2, 'y'), (3, '-')]\n",
    "\n",
    "########################\n",
    "# ✅ 3. More than 2 iterables\n",
    "########################\n",
    "c = [True]\n",
    "print(list(zip_longest(a, b, c, fillvalue='*')))\n",
    "# [(1, 'x', True), (2, 'y', '*'), (3, '-', '*')]\n",
    "\n",
    "########################\n",
    "# ✅ 4. zip vs zip_longest behavior comparison\n",
    "########################\n",
    "print(\"zip:\", list(zip(a, b)))  # Stops at shortest\n",
    "print(\"zip_longest:\", list(zip_longest(a, b)))  # Fills remaining\n"
   ]
  }
 ],
 "metadata": {
  "kernelspec": {
   "display_name": "Python 3",
   "language": "python",
   "name": "python3"
  },
  "language_info": {
   "codemirror_mode": {
    "name": "ipython",
    "version": 3
   },
   "file_extension": ".py",
   "mimetype": "text/x-python",
   "name": "python",
   "nbconvert_exporter": "python",
   "pygments_lexer": "ipython3",
   "version": "3.13.2"
  }
 },
 "nbformat": 4,
 "nbformat_minor": 5
}
