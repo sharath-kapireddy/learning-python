{
 "cells": [
  {
   "cell_type": "markdown",
   "id": "d201bef0",
   "metadata": {},
   "source": [
    "## 🧠 Context Managers with `open()` in Python\n",
    "\n",
    "When working with files in Python, it's important to ensure that \n",
    "resources like file handles are properly managed. Using a context \n",
    "manager with `open()` helps automate this process.\n",
    "\n",
    "### ✅ Why Use Context Managers?\n",
    "- Automatically opens and **closes** the file.\n",
    "- Helps avoid common bugs like **resource leaks**.\n",
    "- Ensures cleanup even if an **exception occurs**.\n",
    "\n",
    "### 🔄 Syntax\n",
    "```python\n",
    "with open('filename.txt', 'mode') as file:\n",
    "    # Perform file operations\n",
    "    pass\n",
    "```\n",
    "\n",
    "### 🔐 Benefits\n",
    "- Cleaner and more readable code.\n",
    "- No need to call file.close() explicitly.\n",
    "- Safe file handling.\n",
    "- This pattern is a best practice when working with file I/O in Python."
   ]
  },
  {
   "cell_type": "code",
   "execution_count": 1,
   "id": "67767b04",
   "metadata": {},
   "outputs": [
    {
     "name": "stdout",
     "output_type": "stream",
     "text": [
      "Hello, Sharath!\n",
      "Welcome to context managers.\n"
     ]
    }
   ],
   "source": [
    "file_path = 'testfile.txt'\n",
    "\n",
    "# Write to file\n",
    "with open(file_path, 'w') as f:\n",
    "    f.write('Hello, Sharath!\\nWelcome to context managers.')\n",
    "\n",
    "# Read from file\n",
    "with open(file_path, 'r') as f:\n",
    "    content = f.read()\n",
    "    print(content)\n"
   ]
  }
 ],
 "metadata": {
  "kernelspec": {
   "display_name": "Python 3",
   "language": "python",
   "name": "python3"
  },
  "language_info": {
   "codemirror_mode": {
    "name": "ipython",
    "version": 3
   },
   "file_extension": ".py",
   "mimetype": "text/x-python",
   "name": "python",
   "nbconvert_exporter": "python",
   "pygments_lexer": "ipython3",
   "version": "3.13.2"
  }
 },
 "nbformat": 4,
 "nbformat_minor": 5
}
