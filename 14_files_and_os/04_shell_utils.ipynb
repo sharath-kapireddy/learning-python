{
 "cells": [
  {
   "cell_type": "markdown",
   "id": "bfd910c8",
   "metadata": {},
   "source": [
    "# Advanced file operations (can be skipped)\n",
    "\n",
    "* **Backing up files:** Creating a duplicate of an existing file.\n",
    "* **Renaming files:** Changing the name of a file.\n",
    "* **Archiving files:** Creating a ZIP archive of files and directories.\n",
    "\n",
    "**Example:**"
   ]
  },
  {
   "cell_type": "code",
   "execution_count": 1,
   "id": "4b7a6144",
   "metadata": {},
   "outputs": [
    {
     "name": "stderr",
     "output_type": "stream",
     "text": [
      "2025-04-23 02:23:46,994 - INFO - Source file: c:\\Users\\admin\\Downloads\\learning-python-main\\learning-python-main\\14_files_and_os\\textfile.txt\n",
      "2025-04-23 02:23:47,000 - INFO - Backup created: c:\\Users\\admin\\Downloads\\learning-python-main\\learning-python-main\\14_files_and_os\\textfile.txt.bak\n",
      "2025-04-23 02:23:47,008 - INFO - Renamed 'textfile.txt' to 'newfile.txt'\n",
      "2025-04-23 02:23:47,044 - INFO - ZIP archive created: c:\\Users\\admin\\Downloads\\learning-python-main\\learning-python-main\\14_files_and_os\\archive.zip\n",
      "2025-04-23 02:23:47,047 - INFO - Added 'newfile.txt' to 'testzip.zip'\n",
      "2025-04-23 02:23:47,050 - INFO - Added 'c:\\Users\\admin\\Downloads\\learning-python-main\\learning-python-main\\14_files_and_os\\textfile.txt.bak' to 'testzip.zip'\n",
      "2025-04-23 02:23:47,052 - INFO - ZIP archive with specific files created: testzip.zip\n"
     ]
    }
   ],
   "source": [
    "import os\n",
    "from os import path\n",
    "import shutil\n",
    "from shutil import make_archive\n",
    "from zipfile import ZipFile\n",
    "import logging\n",
    "\n",
    "# Configure logging for better output and potential error tracking\n",
    "logging.basicConfig(level=logging.INFO, format='%(asctime)s - %(levelname)s - %(message)s')\n",
    "\n",
    "def main():\n",
    "    \"\"\"\n",
    "    Performs file operations including backing up, renaming, and archiving files.\n",
    "    \"\"\"\n",
    "    filename = \"textfile.txt\"\n",
    "\n",
    "    # Creating a sample file for demonstration:\n",
    "    f = open(filename, \"w+\")\n",
    "    for i in range(3):\n",
    "        f.write(f\"{i+1} - some text\\n\")\n",
    "    f.close()\n",
    "    \n",
    "    if path.exists(filename):\n",
    "        try:\n",
    "            # Get the absolute path to the file\n",
    "            src = path.abspath(filename)\n",
    "            logging.info(f\"Source file: {src}\")\n",
    "\n",
    "            # Create a backup copy by appending \".bak\" to the name\n",
    "            backup_dst = src + \".bak\"\n",
    "            shutil.copy(src, backup_dst)\n",
    "            logging.info(f\"Backup created: {backup_dst}\")\n",
    "\n",
    "            # Rename the original file\n",
    "            new_filename = \"newfile.txt\"\n",
    "            os.rename(filename, new_filename)\n",
    "            logging.info(f\"Renamed '{filename}' to '{new_filename}'\")\n",
    "\n",
    "            # Create a ZIP archive of the current directory\n",
    "            root_dir = path.dirname(src)\n",
    "            archive_name = \"archive\"\n",
    "            archive_format = \"zip\"\n",
    "            archive_path = make_archive(archive_name, archive_format, root_dir)\n",
    "            logging.info(f\"ZIP archive created: {archive_path}\")\n",
    "\n",
    "            # Create a ZIP archive with specific files\n",
    "            zip_filename = \"testzip.zip\"\n",
    "            with ZipFile(zip_filename, \"w\") as newzip:\n",
    "                if path.exists(new_filename):\n",
    "                    newzip.write(new_filename)\n",
    "                    logging.info(f\"Added '{new_filename}' to '{zip_filename}'\")\n",
    "                else:\n",
    "                    logging.warning(f\"'{new_filename}' not found, skipping adding to '{zip_filename}'\")\n",
    "\n",
    "                if path.exists(backup_dst):\n",
    "                    newzip.write(backup_dst)\n",
    "                    logging.info(f\"Added '{backup_dst}' to '{zip_filename}'\")\n",
    "                else:\n",
    "                    logging.warning(f\"'{backup_dst}' not found, skipping adding to '{zip_filename}'\")\n",
    "\n",
    "            logging.info(f\"ZIP archive with specific files created: {zip_filename}\")\n",
    "\n",
    "        except Exception as e:\n",
    "            logging.error(f\"An error occurred: {e}\")\n",
    "    else:\n",
    "        logging.warning(f\"File '{filename}' does not exist.\")\n",
    "\n",
    "if __name__ == \"__main__\":\n",
    "    main()"
   ]
  }
 ],
 "metadata": {
  "kernelspec": {
   "display_name": "Python 3",
   "language": "python",
   "name": "python3"
  },
  "language_info": {
   "codemirror_mode": {
    "name": "ipython",
    "version": 3
   },
   "file_extension": ".py",
   "mimetype": "text/x-python",
   "name": "python",
   "nbconvert_exporter": "python",
   "pygments_lexer": "ipython3",
   "version": "3.13.2"
  }
 },
 "nbformat": 4,
 "nbformat_minor": 5
}
