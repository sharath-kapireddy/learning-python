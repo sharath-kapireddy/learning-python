{
 "cells": [
  {
   "cell_type": "markdown",
   "id": "71fe70cf",
   "metadata": {},
   "source": [
    "## timedelta"
   ]
  },
  {
   "cell_type": "code",
   "execution_count": 1,
   "id": "d698bfd3",
   "metadata": {},
   "outputs": [
    {
     "name": "stdout",
     "output_type": "stream",
     "text": [
      "365 days, 5:01:00\n",
      "today is: 2025-04-20 12:58:16.451659\n",
      "one year from now it will be: 2026-04-20 12:58:16.451659\n",
      "in two weeks and 3 days it will be: 2025-05-07 12:58:16.451659\n",
      "one week ago it was Sunday April 13, 2025\n",
      "April Fool's day already went by 19 days ago\n",
      "It's just 346 days until next April Fools' Day!\n"
     ]
    }
   ],
   "source": [
    "from datetime import date\n",
    "from datetime import datetime\n",
    "from datetime import timedelta\n",
    "\n",
    "# construct a basic timedelta and print it\n",
    "print (timedelta(days=365, hours=5, minutes=1))\n",
    "\n",
    "# print today's date\n",
    "now = datetime.now()\n",
    "print (\"today is:\", now)\n",
    "\n",
    "# print today's date one year from now\n",
    "print (\"one year from now it will be:\",now + timedelta(days=365))\n",
    "\n",
    "# create a timedelta that uses more than one argument\n",
    "print (\"in two weeks and 3 days it will be:\", now + timedelta(weeks=2, days=3))\n",
    "\n",
    "# calculate the date 1 week ago, formatted as a string\n",
    "t = datetime.now() - timedelta(weeks=1)\n",
    "s = t.strftime(\"%A %B %d, %Y\")\n",
    "print (\"one week ago it was\", s)\n",
    "\n",
    "### How many days until April Fools' Day?\n",
    "\n",
    "today = date.today()  # get today's date\n",
    "afd = date(today.year, 4, 1)  # get April Fool's for the same year\n",
    "# use date comparison to see if April Fool's has already gone for this year\n",
    "# if it has, use the replace() function to get the date for next year\n",
    "# today = datetime.datetime(2024, 12, 9)\n",
    "if afd < today:\n",
    "    print (f\"April Fool's day already went by {(today-afd).days} days ago\")\n",
    "    afd = afd.replace(year=today.year + 1)  # if so, get the date for next year\n",
    "\n",
    "# Now calculate the amount of time until April Fool's Day  \n",
    "time_to_afd = afd - today\n",
    "print (f\"It's just {time_to_afd.days} days until next April Fools' Day!\")"
   ]
  }
 ],
 "metadata": {
  "kernelspec": {
   "display_name": "Python 3",
   "language": "python",
   "name": "python3"
  },
  "language_info": {
   "codemirror_mode": {
    "name": "ipython",
    "version": 3
   },
   "file_extension": ".py",
   "mimetype": "text/x-python",
   "name": "python",
   "nbconvert_exporter": "python",
   "pygments_lexer": "ipython3",
   "version": "3.13.2"
  }
 },
 "nbformat": 4,
 "nbformat_minor": 5
}
