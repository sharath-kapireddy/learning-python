{
 "cells": [
  {
   "cell_type": "markdown",
   "id": "75142be2",
   "metadata": {},
   "source": [
    "# 🔁 Python Generators vs Lists – Introduction\n",
    "\n",
    "Python provides two efficient ways to create sequences:\n",
    "\n",
    "1. **List Comprehensions**  \n",
    "   - Eager evaluation  \n",
    "   - All values are computed and stored in memory immediately  \n",
    "   - Example: `[x * 2 for x in range(10_000_000)]`\n",
    "\n",
    "2. **Generator Expressions**  \n",
    "   - Lazy evaluation  \n",
    "   - Values are computed one at a time on demand  \n",
    "   - Example: `(x * 2 for x in range(10_000_000))`\n",
    "\n",
    "Generators are highly memory-efficient for large data sizes and useful when you don’t need all elements at once.\n"
   ]
  },
  {
   "cell_type": "code",
   "execution_count": 2,
   "id": "face6ef8",
   "metadata": {},
   "outputs": [
    {
     "name": "stdout",
     "output_type": "stream",
     "text": [
      "First 10 from list: [0, 2, 4, 6, 8, 10, 12, 14, 16, 18]\n",
      "First value from generator: 0\n",
      "Next 4 values from generator: [2, 4, 6, 8]\n",
      "Generator object size: 200 bytes\n",
      "\n"
     ]
    }
   ],
   "source": [
    "import sys\n",
    "# ✅ List Comprehension (Eager Evaluation)\n",
    "nums_list = [x * 2 for x in range(10_000_000)]\n",
    "print(\"First 10 from list:\", nums_list[:10])\n",
    "# Note: This list is fully created in memory\n",
    "\n",
    "# ✅ Generator Expression (Lazy Evaluation)\n",
    "nums_gen = (x * 2 for x in range(10_000_000))\n",
    "print(\"First value from generator:\", next(nums_gen))\n",
    "# Generator computes values on the fly, using minimal memory\n",
    "\n",
    "# 🔄 Continue retrieving values using next()\n",
    "print(\"Next 4 values from generator:\", [next(nums_gen) for _ in range(4)])\n",
    "\n",
    "# size\n",
    "print(\"Generator object size:\", sys.getsizeof(nums_gen), \"bytes\\n\")\n",
    "\n",
    "# Uncomment below to see how the full list chokes memory\n",
    "# full_list = list(nums_gen)  # Consumes significant memory\n"
   ]
  },
  {
   "cell_type": "markdown",
   "id": "ee734082",
   "metadata": {},
   "source": [
    "### ✅ When to Use List vs Generator\n",
    "\n",
    "| Feature / Need                | Use List           | Use Generator         |\n",
    "|------------------------------|--------------------|------------------------|\n",
    "| Need all values at once      | ✅ Yes              | ❌ No                 |\n",
    "| Need random access / indexing| ✅ Yes              | ❌ No                 |\n",
    "| Memory efficiency is key     | ❌ No               | ✅ Yes                |\n",
    "| Iterating large data streams | ❌ Risky            | ✅ Ideal              |\n",
    "| Performance for small data   | ✅ Slightly better  | ✅ Efficient too      |\n",
    "| Works with slicing           | ✅ Yes              | ❌ Only next()/loop   |\n",
    "\n",
    "👉 Use **lists** when:\n",
    "- You need fast access to any element\n",
    "- You want to modify, sort, or reverse the sequence\n",
    "\n",
    "👉 Use **generators** when:\n",
    "- You're processing large datasets\n",
    "- You want to optimize for memory and performance\n",
    "- You don’t need the full dataset all at once\n"
   ]
  }
 ],
 "metadata": {
  "kernelspec": {
   "display_name": "Python 3",
   "language": "python",
   "name": "python3"
  },
  "language_info": {
   "codemirror_mode": {
    "name": "ipython",
    "version": 3
   },
   "file_extension": ".py",
   "mimetype": "text/x-python",
   "name": "python",
   "nbconvert_exporter": "python",
   "pygments_lexer": "ipython3",
   "version": "3.13.2"
  }
 },
 "nbformat": 4,
 "nbformat_minor": 5
}
