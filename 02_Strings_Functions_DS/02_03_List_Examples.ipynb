{
 "cells": [
  {
   "cell_type": "markdown",
   "id": "63722bb5",
   "metadata": {},
   "source": []
  },
  {
   "cell_type": "code",
   "execution_count": 3,
   "id": "32e68cc4",
   "metadata": {},
   "outputs": [
    {
     "name": "stdout",
     "output_type": "stream",
     "text": [
      "4\n",
      "4\n",
      "[1, 2, 3, 4, 5]\n",
      "['0.0', 1, 2, 3, 4, 5]\n",
      "['0.0', 1, 2, 4, 5]\n",
      "['0.0', 1, 2, 4, 5, 5, 6, 7, 8, 9, 4]\n",
      "Courses: ['a', 'b', 'c'] \n",
      "Courses: a, b, c\n"
     ]
    }
   ],
   "source": [
    "my_list = [1,2,3,4]\n",
    "another_list = [5,6,7,8,9,4]\n",
    "\n",
    "print(len(my_list))\n",
    "print(my_list[3])\n",
    "\n",
    "my_list.append(5)\n",
    "print(my_list)\n",
    "\n",
    "my_list.insert(0,\"0.0\")\n",
    "print(my_list)\n",
    "\n",
    "del(my_list[3])\n",
    "print(my_list)\n",
    "\n",
    "my_list = my_list + another_list\n",
    "print(my_list)\n",
    "\n",
    "\n",
    "courses = ['a','b','c']\n",
    "print(f\"Courses: {courses} \")\n",
    "print(f\"Courses: {', '.join(courses)}\")\n",
    "    "
   ]
  }
 ],
 "metadata": {
  "kernelspec": {
   "display_name": "Python 3",
   "language": "python",
   "name": "python3"
  },
  "language_info": {
   "codemirror_mode": {
    "name": "ipython",
    "version": 3
   },
   "file_extension": ".py",
   "mimetype": "text/x-python",
   "name": "python",
   "nbconvert_exporter": "python",
   "pygments_lexer": "ipython3",
   "version": "3.13.2"
  }
 },
 "nbformat": 4,
 "nbformat_minor": 5
}
