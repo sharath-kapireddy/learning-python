{
 "cells": [
  {
   "cell_type": "markdown",
   "id": "63722bb5",
   "metadata": {},
   "source": []
  },
  {
   "cell_type": "code",
   "execution_count": null,
   "id": "32e68cc4",
   "metadata": {},
   "outputs": [
    {
     "name": "stdout",
     "output_type": "stream",
     "text": [
      "4\n",
      "4\n",
      "[1, 2, 3, 4, 5]\n",
      "['0.0', 1, 2, 3, 4, 5]\n",
      "['0.0', 1, 2, 4, 5]\n",
      "['0.0', 1, 2, 4, 5, 5, 6, 7, 8, 9, 4]\n",
      "Courses: ['a', 'b', 'c'] \n",
      "Courses: a, b, c\n",
      "[0, 1, 2, 3, 4, 5, 6, 7, 8, 9, 10, 11, 12, 13, 14, 15, 16, 17, 18, 19, 20, 21, 22, 23, 24, 25, 26, 27, 28, 29, 30, 31, 32, 33, 34, 35, 36, 37, 38, 39, 40, 41, 42, 43, 44, 45, 46, 47, 48, 49, 50, 51, 52, 53, 54, 55, 56, 57, 58, 59, 60, 61, 62, 63, 64, 65, 66, 67, 68, 69, 70, 71, 72, 73, 74, 75, 76, 77, 78, 79, 80, 81, 82, 83, 84, 85, 86, 87, 88, 89, 90, 91, 92, 93, 94, 95, 96, 97, 98, 99]\n",
      "[1, 2, 3, 4, 5]\n",
      "[1, 2, 3, 4]\n"
     ]
    }
   ],
   "source": [
    "my_list = [1,2,3,4]\n",
    "another_list = [5,6,7,8,9,4]\n",
    "\n",
    "print(len(my_list))\n",
    "print(my_list[3])\n",
    "\n",
    "my_list.append(5)\n",
    "print(my_list)\n",
    "\n",
    "my_list.insert(0,\"0.0\")\n",
    "print(my_list)\n",
    "\n",
    "del(my_list[3])\n",
    "print(my_list)\n",
    "\n",
    "my_list = my_list + another_list\n",
    "print(my_list)\n",
    "\n",
    "\n",
    "courses = ['a','b','c']\n",
    "print(f\"Courses: {courses} \")\n",
    "print(f\"Courses: {', '.join(courses)}\")\n",
    "\n",
    "\n",
    "myList = list(range(100))\n",
    "print(myList)\n",
    "\n",
    "# list remove and pop methods\n",
    "\n",
    "a = [1,2,3,4]\n",
    "# b = a\n",
    "b = a.copy()\n",
    "a.append(5)\n",
    "\n",
    "print(a)\n",
    "print(b)\n",
    "    \n",
    "\n"
   ]
  }
 ],
 "metadata": {
  "kernelspec": {
   "display_name": "Python 3",
   "language": "python",
   "name": "python3"
  },
  "language_info": {
   "codemirror_mode": {
    "name": "ipython",
    "version": 3
   },
   "file_extension": ".py",
   "mimetype": "text/x-python",
   "name": "python",
   "nbconvert_exporter": "python",
   "pygments_lexer": "ipython3",
   "version": "3.13.2"
  }
 },
 "nbformat": 4,
 "nbformat_minor": 5
}
