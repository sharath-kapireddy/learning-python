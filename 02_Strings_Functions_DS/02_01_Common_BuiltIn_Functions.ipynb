{
 "cells": [
  {
   "cell_type": "markdown",
   "id": "3a386507",
   "metadata": {},
   "source": [
    "## Typical"
   ]
  },
  {
   "cell_type": "code",
   "execution_count": 1,
   "id": "6df3f177",
   "metadata": {},
   "outputs": [],
   "source": [
    "str()\n",
    "int(\"1\")\n",
    "float(1)\n",
    "\n",
    "my_list = [1,2,3,4]\n",
    "\t\n",
    "chr(97)\n",
    "ord(\"a\") # Return the Unicode code point for a one-character string.\n",
    "\t\n",
    "len(my_list) #Works with any sequence. Example: String. List, Tuple, Set, Dict\n",
    "\t\n",
    "del(my_list[0])\n",
    "\t"
   ]
  }
 ],
 "metadata": {
  "kernelspec": {
   "display_name": "Python 3",
   "language": "python",
   "name": "python3"
  },
  "language_info": {
   "codemirror_mode": {
    "name": "ipython",
    "version": 3
   },
   "file_extension": ".py",
   "mimetype": "text/x-python",
   "name": "python",
   "nbconvert_exporter": "python",
   "pygments_lexer": "ipython3",
   "version": "3.13.2"
  }
 },
 "nbformat": 4,
 "nbformat_minor": 5
}
