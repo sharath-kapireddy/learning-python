{
 "cells": [
  {
   "cell_type": "markdown",
   "id": "3a386507",
   "metadata": {},
   "source": [
    "## Typical"
   ]
  },
  {
   "cell_type": "markdown",
   "id": "0173c597",
   "metadata": {},
   "source": [
    "# Built-in functions\n",
    "https://docs.python.org/3/library/functions.html\n",
    "\n"
   ]
  },
  {
   "cell_type": "code",
   "execution_count": null,
   "id": "6df3f177",
   "metadata": {},
   "outputs": [
    {
     "name": "stdout",
     "output_type": "stream",
     "text": [
      "0.19999999999999996\n",
      "0.2\n",
      "4\n",
      "3.14\n",
      "3.1416\n"
     ]
    }
   ],
   "source": [
    "import math\n",
    "\n",
    "# Note int(0 is a built-in class and not a fn) same is the case with str, float, list, etc\n",
    "\n",
    "my_list = [1,2,3,4]\n",
    "\n",
    "print(1.2 - 1.0)\n",
    "print(round(1.2 - 1.0, 2) )\n",
    "\t\n",
    "chr(97)\n",
    "ord(\"a\") # Return the Unicode code point for a one-character string.\n",
    "\t\n",
    "len(my_list) #Works with any sequence. Example: String. List, Tuple, Set, Dict\n",
    "min([1,2,3,4,5])\n",
    "max(['a','b','c'])\n",
    "\n",
    "del(my_list[0])\n",
    "\n",
    "\n",
    "# converting between different bases\n",
    "print(int('100', 2))\n",
    "\n",
    "pi = math.pi\n",
    "print(round(pi, 2))\n",
    "print(round(pi, 4))\n",
    "\n",
    "\n",
    "\n",
    "\n",
    "###############################################################\n",
    "words = [\"banana\", \"fig\", \"apple\", \"kiwi\"]\n",
    "sorted_words = sorted(words, key=len)\n",
    "print(sorted_words)\n",
    "# ['fig', 'kiwi', 'apple', 'banana']\n",
    "\n",
    "names = [\"Alice\", \"bob\", \"Charlie\"]\n",
    "sorted_names = sorted(names, key=str.lower)\n",
    "# ['Alice', 'bob', 'Charlie']\n",
    "\n",
    "\n",
    "## while using keys\n",
    "# If you’re sorting by just one criterion, return a single value\n",
    "# If you want to sort by multiple criteria in order, return tuple \n",
    "names = [\"Sharath\", \"kapireddy\", \"Krishna\"]\n",
    "sorted(names, key=lambda x: len(x))  # sort by length\n",
    "\n",
    "# Sorts by name first, then age.\n",
    "people = [(\"Alice\", 30), (\"Bob\", 25), (\"Alice\", 25)]\n",
    "sorted(people, key=lambda x: (x[0], x[1]))\n",
    "\n",
    "\n",
    "items = [5, \"abc\", 2, \"x\", 9]\n",
    "sorted_items = sorted(items, \n",
    "    key=lambda x: (not isinstance(x, int), x if isinstance(x, int) else 0))\n"
   ]
  }
 ],
 "metadata": {
  "kernelspec": {
   "display_name": "Python 3",
   "language": "python",
   "name": "python3"
  },
  "language_info": {
   "codemirror_mode": {
    "name": "ipython",
    "version": 3
   },
   "file_extension": ".py",
   "mimetype": "text/x-python",
   "name": "python",
   "nbconvert_exporter": "python",
   "pygments_lexer": "ipython3",
   "version": "3.13.2"
  }
 },
 "nbformat": 4,
 "nbformat_minor": 5
}
