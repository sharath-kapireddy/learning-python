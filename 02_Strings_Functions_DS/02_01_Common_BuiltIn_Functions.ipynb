{
 "cells": [
  {
   "cell_type": "markdown",
   "id": "3a386507",
   "metadata": {},
   "source": [
    "## Typical"
   ]
  },
  {
   "cell_type": "markdown",
   "id": "0173c597",
   "metadata": {},
   "source": [
    "# Built-in functions\n",
    "https://docs.python.org/3/library/functions.html\n",
    "\n"
   ]
  },
  {
   "cell_type": "code",
   "execution_count": null,
   "id": "6df3f177",
   "metadata": {},
   "outputs": [
    {
     "name": "stdout",
     "output_type": "stream",
     "text": [
      "0.19999999999999996\n",
      "0.2\n"
     ]
    }
   ],
   "source": [
    "str()\n",
    "int(\"1\")\n",
    "float(1)\n",
    "\n",
    "# Note int(0 is a built-in class and not a fn) same is the case with str, float, list, etc\n",
    "\n",
    "my_list = [1,2,3,4]\n",
    "\n",
    "print(1.2 - 1.0)\n",
    "print(round(1.2 - 1.0, 2) )\n",
    "\t\n",
    "chr(97)\n",
    "ord(\"a\") # Return the Unicode code point for a one-character string.\n",
    "\t\n",
    "len(my_list) #Works with any sequence. Example: String. List, Tuple, Set, Dict\n",
    "min([1,2,3,4,5])\n",
    "max(['a','b','c'])\n",
    "\n",
    "del(my_list[0])\n",
    "\n",
    "\n",
    "# converting between different bases\n",
    "print(int('100', 2))\n",
    "\t"
   ]
  }
 ],
 "metadata": {
  "kernelspec": {
   "display_name": "Python 3",
   "language": "python",
   "name": "python3"
  },
  "language_info": {
   "codemirror_mode": {
    "name": "ipython",
    "version": 3
   },
   "file_extension": ".py",
   "mimetype": "text/x-python",
   "name": "python",
   "nbconvert_exporter": "python",
   "pygments_lexer": "ipython3",
   "version": "3.13.2"
  }
 },
 "nbformat": 4,
 "nbformat_minor": 5
}
