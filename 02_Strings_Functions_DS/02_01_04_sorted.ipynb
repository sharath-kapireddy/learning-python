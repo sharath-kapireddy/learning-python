{
 "cells": [
  {
   "cell_type": "markdown",
   "id": "a0fd8185",
   "metadata": {},
   "source": [
    "### sorted()\n",
    "\n",
    "- The `sorted()` method in Python is a built-in function used to sort an iterable (like a list, tuple, or string) in ascending order by default. \n",
    "- The `sorted()` function returns a new list with the elements sorted, while the original iterable remains unchanged.\n",
    "- **syntax**: `sorted(iterable, key=None, reverse=False)`\n",
    "    - key: A function to be used for sorting. This function takes one item from the iterable and returns a value that will be used for comparison. If no key is provided, the elements are sorted directly.\n",
    "    - reverse: A boolean value. If True, the list is sorted in descending order.\n",
    "\n",
    "\n",
    "**Sorting with key and lambda**\n",
    "- The key argument can be used to specify a custom sort order, such as sorting based on length, case-insensitive sorting, or even sorting by multiple criteria.\n",
    "- Key Principles:\n",
    "    - Single Criterion: When sorting by one criterion, the key function should return a single value.\n",
    "    - Multiple Criteria: When sorting by multiple criteria, you can return a tuple. Python compares each value in the tuple in order until it finds a difference."
   ]
  },
  {
   "cell_type": "code",
   "execution_count": 4,
   "id": "7c1d0c4e",
   "metadata": {},
   "outputs": [
    {
     "name": "stdout",
     "output_type": "stream",
     "text": [
      "[1, 2, 4, 5, 9]\n",
      "[9, 5, 4, 2, 1]\n",
      "['Apple', 'Cat', 'ball']\n",
      "['Apple', 'ball', 'Cat']\n",
      "['Cat', 'ball', 'Apple']\n",
      "['Cat', 'ball', 'Apple']\n"
     ]
    }
   ],
   "source": [
    "# -------------------------\n",
    "# Sorting Basics\n",
    "# -------------------------\n",
    "\n",
    "# Simple list of numbers\n",
    "list1 = [1, 5, 9, 4, 2]\n",
    "sorted_list = sorted(list1)\n",
    "print(sorted_list)  # [1, 2, 4, 5, 9]\n",
    "\n",
    "# reverse\n",
    "sorted_list= sorted(list1, reverse=True)\n",
    "print(sorted_list)\n",
    "\n",
    "# Sorting a list of strings (case-sensitive by default)\n",
    "list1 = [\"Apple\", \"ball\", \"Cat\"]\n",
    "sorted_list = sorted(list1)\n",
    "print(sorted_list)  # ['Apple', 'Cat', 'ball'] ; default - case-sensitive\n",
    "\n",
    "# Case-insensitive sorting\n",
    "sorted_list = sorted(list1, key=str.lower)\n",
    "print(sorted_list)  # ['Apple', 'ball', 'Cat']\n",
    "\n",
    "# Sorting by length\n",
    "sorted_list = sorted(list1, key=len)\n",
    "print(sorted_list)  # ['Cat', 'ball', 'Apple']\n",
    "\n",
    "# same example with lambda\n",
    "sorted_list = sorted(list1, key=lambda x: len(x))\n",
    "print(sorted_list)  # ['Cat', 'ball', 'Apple']\n"
   ]
  },
  {
   "cell_type": "code",
   "execution_count": 5,
   "id": "e7494893",
   "metadata": {},
   "outputs": [
    {
     "name": "stdout",
     "output_type": "stream",
     "text": [
      "['Cat', 'ball', 'boat', 'zone', 'Apple']\n",
      "['Cat', 'ball', 'boat', 'zone', 'Apple']\n"
     ]
    }
   ],
   "source": [
    "# -------------------------\n",
    "# Sorting with Multiple Criteria\n",
    "# -------------------------\n",
    "# lambda Sort first by length, then alphabetically (case-insensitive)\n",
    "list1 = [\"Apple\", \"ball\", \"Cat\", \"boat\", \"zone\"]\n",
    "sorted_list = sorted(list1, key=lambda x: (len(x), x.lower()))\n",
    "print(sorted_list)  # ['Cat', 'ball', 'boat', 'zone', 'Apple']\n",
    "\n",
    "# -------------------------\n",
    "# Sorting with Multiple Criteria without using lambda\n",
    "# -------------------------\n",
    "# Custom function to handle sorting by length and alphabetically\n",
    "\n",
    "def sort_criteria(item):\n",
    "    return (len(item), item.lower())  # First by length, then alphabetically\n",
    "\n",
    "# Sort using the custom function\n",
    "sorted_names = sorted(list1, key=sort_criteria)\n",
    "\n",
    "print(sorted_names)  # ['Cat', 'ball', 'boat', 'zone', 'Apple']\n",
    "\n"
   ]
  },
  {
   "cell_type": "code",
   "execution_count": 6,
   "id": "49d58463",
   "metadata": {},
   "outputs": [
    {
     "name": "stdout",
     "output_type": "stream",
     "text": [
      "['Sharath', 'Krishna', 'kapireddy']\n",
      "[1, 2, 3, 5, 9, 'abc', 'a', None, nan]\n",
      "[1, 2, 3, 5, 9, 'abc', 'a', None, nan]\n"
     ]
    }
   ],
   "source": [
    "# -------------------------\n",
    "# Sorting with Complex Keys\n",
    "# -------------------------\n",
    "\n",
    "# Sorting names by length using lambda\n",
    "names = [\"Sharath\", \"kapireddy\", \"Krishna\"]\n",
    "sorted_list = sorted(names, key=lambda x: len(x))  # Sort by length\n",
    "print(sorted_list)  # ['Sharath', 'Krishna', 'kapireddy']\n",
    "\n",
    "# Sorting numbers followed by strings, handling None and NaN values\n",
    "import math\n",
    "my_list1 = [9, 2, None, 5, float('nan'), \"abc\", 1, \"a\", 3]\n",
    "# Sort numbers, followed by strings in the place order, followed by None and NaN in occurrence order\n",
    "sorted_list = (\n",
    "    sorted(x for x in my_list1 if isinstance(x, (int, float)) and not math.isnan(x)) +\n",
    "    [x for x in my_list1 if not isinstance(x, (int, float)) and x is not None] +\n",
    "    [x for x in my_list1 if x is None or (isinstance(x, float) and math.isnan(x))]\n",
    ")\n",
    "print(sorted_list)  # [1, 2, 3, 5, 9, 'abc', 'a', None, nan]\n",
    "\n",
    "# Same example using a complex lambda function\n",
    "sorted_list = sorted(my_list1, key=lambda x: (\n",
    "    0 if isinstance(x, (int, float)) and not math.isnan(x) else \n",
    "    2 if x is None or (isinstance(x, float) and math.isnan(x)) else \n",
    "    1,\n",
    "    x if isinstance(x, (int, float)) and not math.isnan(x) else 0\n",
    "))\n",
    "print(sorted_list)  # [1, 2, 3, 5, 9, 'abc', 'a', None, nan]"
   ]
  }
 ],
 "metadata": {
  "kernelspec": {
   "display_name": "Python 3",
   "language": "python",
   "name": "python3"
  },
  "language_info": {
   "codemirror_mode": {
    "name": "ipython",
    "version": 3
   },
   "file_extension": ".py",
   "mimetype": "text/x-python",
   "name": "python",
   "nbconvert_exporter": "python",
   "pygments_lexer": "ipython3",
   "version": "3.13.2"
  }
 },
 "nbformat": 4,
 "nbformat_minor": 5
}
