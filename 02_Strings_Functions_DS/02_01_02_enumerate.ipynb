{
 "cells": [
  {
   "cell_type": "markdown",
   "id": "faf0637c",
   "metadata": {},
   "source": [
    "### enumerate()\n",
    "The `enumerate()` function in Python adds a counter to an iterable and returns it as an enumerate object, which is an iterator of tuples containing the index and the value from the iterable.\n",
    "\n",
    "**Key Points:**\n",
    "- `enumerate()` can be applied to any iterable (lists, tuples, strings, etc.).\n",
    "- It returns an iterator of tuples where each tuple contains two elements: the index and the value at that index.\n",
    "- You can optionally specify a `start` parameter to change the starting index (default is 0).\n"
   ]
  },
  {
   "cell_type": "code",
   "execution_count": null,
   "id": "1b336e82",
   "metadata": {},
   "outputs": [
    {
     "name": "stdout",
     "output_type": "stream",
     "text": [
      "1 a\n",
      "2 b\n",
      "3 c\n",
      "4 d\n"
     ]
    }
   ],
   "source": [
    "# -------------------------\n",
    "# Using enumerate with a list\n",
    "# -------------------------\n",
    "list1 = ['a', 'b', 'c', 'd']\n",
    "enumerated_list = list(enumerate(list1))  # Convert iterator to list\n",
    "print(enumerated_list)  # [(0, 'a'), (1, 'b'), (2, 'c'), (3, 'd')]\n",
    "\n",
    "# -------------------------\n",
    "# Using enumerate with a string\n",
    "# -------------------------\n",
    "s = \"hello\"\n",
    "enumerated_string = list(enumerate(s))  # Enumerate string\n",
    "print(enumerated_string)  # [(0, 'h'), (1, 'e'), (2, 'l'), (3, 'l'), (4, 'o')]\n",
    "\n",
    "# -------------------------\n",
    "# Using enumerate with a custom start index\n",
    "# -------------------------\n",
    "list2 = [\"Apple\", \"ball\", \"Cat\"]\n",
    "enumerated_custom = list(enumerate(list2, start=1))  # Start index at 1\n",
    "print(enumerated_custom)  # [(1, 'Apple'), (2, 'ball'), (3, 'Cat')]\n",
    "\n",
    "# -------------------------\n",
    "# Using enumerate with a custom start index to lop\n",
    "# -------------------------\n",
    "for i, ch in enumerate(\"abcd\", start = 1):\n",
    "    print(i, ch)"
   ]
  }
 ],
 "metadata": {
  "kernelspec": {
   "display_name": "Python 3",
   "language": "python",
   "name": "python3"
  },
  "language_info": {
   "codemirror_mode": {
    "name": "ipython",
    "version": 3
   },
   "file_extension": ".py",
   "mimetype": "text/x-python",
   "name": "python",
   "nbconvert_exporter": "python",
   "pygments_lexer": "ipython3",
   "version": "3.13.2"
  }
 },
 "nbformat": 4,
 "nbformat_minor": 5
}
