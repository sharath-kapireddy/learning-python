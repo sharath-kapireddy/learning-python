{
 "cells": [
  {
   "cell_type": "markdown",
   "id": "0173c597",
   "metadata": {},
   "source": [
    "# Introduction to Python Built-in Functions\n",
    "- Python offers a rich set of built-in functions that allow you to perform a variety of tasks, such as data type conversions, mathematical operations, and sequence manipulations. \n",
    "- These functions are part of Python's core functionality and are readily available without the need for importing additional modules.\n",
    "\n",
    "### Commonly used built-in functions\n",
    "1. **Data Type Conversion**\n",
    "2. **Mathematical Operations**\n",
    "3. **Iterable and Sequence Operations**\n",
    "4. **Functional Operations**\n",
    "5. **String Operations**\n",
    "6. **Object Inspection**\n",
    "7. **Error Handling**\n",
    "8. **File Handling**\n",
    "9. **Logical Operations**\n",
    "10. **Miscellaneous**"
   ]
  },
  {
   "cell_type": "code",
   "execution_count": 1,
   "id": "81a6a25f",
   "metadata": {},
   "outputs": [
    {
     "name": "stdout",
     "output_type": "stream",
     "text": [
      "123\n",
      "3.14\n",
      "456\n",
      "['h', 'e', 'l', 'l', 'o']\n",
      "(1, 2, 3)\n",
      "{1, 2, 3}\n",
      "{1: 'a', 2: 'b'}\n",
      "False\n"
     ]
    }
   ],
   "source": [
    "# -------------------------\n",
    "# Data Type Conversion\n",
    "# -------------------------\n",
    "\n",
    "# int() - Converts a value to an integer\n",
    "x = int(\"123\")\n",
    "print(x)  # Output: 123\n",
    "\n",
    "# float() - Converts a value to a floating-point number\n",
    "y = float(\"3.14\")\n",
    "print(y)  # Output: 3.14\n",
    "\n",
    "# str() - Converts a value to a string\n",
    "z = str(456)\n",
    "print(z)  # Output: \"456\"\n",
    "\n",
    "# list() - Converts an iterable to a list\n",
    "a = list(\"hello\")\n",
    "print(a)  # Output: ['h', 'e', 'l', 'l', 'o']\n",
    "\n",
    "# tuple() - Converts an iterable to a tuple\n",
    "b = tuple([1, 2, 3])\n",
    "print(b)  # Output: (1, 2, 3)\n",
    "\n",
    "# set() - Converts an iterable to a set\n",
    "c = set([1, 2, 2, 3])\n",
    "print(c)  # Output: {1, 2, 3}\n",
    "\n",
    "# dict() - Creates a dictionary from a sequence of key-value pairs\n",
    "d = dict([(1, 'a'), (2, 'b')])\n",
    "print(d)  # Output: {1: 'a', 2: 'b'}\n",
    "\n",
    "# bool() - Converts a value to a boolean\n",
    "e = bool(0)\n",
    "print(e)  # Output: False\n"
   ]
  },
  {
   "cell_type": "code",
   "execution_count": 2,
   "id": "8f050c2f",
   "metadata": {},
   "outputs": [
    {
     "name": "stdout",
     "output_type": "stream",
     "text": [
      "4\n",
      "10\n"
     ]
    }
   ],
   "source": [
    "# -------------------------\n",
    "# convert between different bases\n",
    "# -------------------------\n",
    "print(int('100', 2)) # 4\n",
    "print(int('a',16))   # 10"
   ]
  },
  {
   "cell_type": "code",
   "execution_count": 3,
   "id": "87f05bfe",
   "metadata": {},
   "outputs": [
    {
     "name": "stdout",
     "output_type": "stream",
     "text": [
      "7\n",
      "5\n",
      "1\n",
      "3\n",
      "6\n"
     ]
    }
   ],
   "source": [
    "# -------------------------\n",
    "# Mathematical Operations\n",
    "#       - min() and max() work for the same data types like int and str.\n",
    "#       - They compare strings lexicographically and numeric values based on their value.\n",
    "#       - If mixed data types are used, a TypeError will occur.\n",
    "#\n",
    "# -------------------------\n",
    "\n",
    "# abs() - Returns the absolute value of a number\n",
    "f = abs(-7)\n",
    "print(f)  # Output: 7\n",
    "\n",
    "# round() - Rounds a floating-point number to the nearest integer\n",
    "g = round(4.6)\n",
    "print(g)  # Output: 5\n",
    "\n",
    "# min() - Returns the smallest item in an iterable\n",
    "h = min([1, 2, 3])\n",
    "print(h)  # Output: 1\n",
    "\n",
    "# max() - Returns the largest item in an iterable\n",
    "i = max([1, 2, 3])\n",
    "print(i)  # Output: 3\n",
    "\n",
    "# sum() - Returns the sum of items in an iterable\n",
    "j = sum([1, 2, 3])\n",
    "print(j)  # Output: 6"
   ]
  },
  {
   "cell_type": "code",
   "execution_count": 4,
   "id": "11aa27e1",
   "metadata": {},
   "outputs": [
    {
     "name": "stdout",
     "output_type": "stream",
     "text": [
      "5\n",
      "[0, 1, 2, 3, 4]\n",
      "[(0, 'a'), (1, 'b'), (2, 'c')]\n",
      "[1, 2, 3]\n",
      "[3, 2, 1]\n",
      "False\n",
      "True\n",
      "[(1, 'a'), (2, 'b'), (3, 'c')]\n"
     ]
    }
   ],
   "source": [
    "# -------------------------\n",
    "# Iterable and Sequence Operations\n",
    "# -------------------------\n",
    "\n",
    "# len() - Returns the number of items in an object\n",
    "k = len(\"hello\")\n",
    "print(k)  # Output: 5\n",
    "\n",
    "# range() - Generates a sequence of numbers\n",
    "l = list(range(5))\n",
    "print(l)  # Output: [0, 1, 2, 3, 4]\n",
    "\n",
    "# enumerate() - Adds a counter to an iterable\n",
    "m = list(enumerate(['a', 'b', 'c']))\n",
    "print(m)  # Output: [(0, 'a'), (1, 'b'), (2, 'c')]\n",
    "\n",
    "# sorted() - Returns a sorted list of the specified iterable\n",
    "n = sorted([3, 1, 2])\n",
    "print(n)  # Output: [1, 2, 3]\n",
    "\n",
    "# reversed() - Returns a reversed iterator\n",
    "o = list(reversed([1, 2, 3]))\n",
    "print(o)  # Output: [3, 2, 1]\n",
    "\n",
    "# all() - Returns True if all items in an iterable are true\n",
    "p = all([True, True, False])\n",
    "print(p)  # Output: False\n",
    "\n",
    "# any() - Returns True if any item in an iterable is true\n",
    "q = any([False, False, True])\n",
    "print(q)  # Output: True\n",
    "\n",
    "# zip() - Combines iterables into a single iterator of tuples\n",
    "r = list(zip([1, 2, 3], ['a', 'b', 'c']))\n",
    "print(r)  # Output: [(1, 'a'), (2, 'b'), (3, 'c')]"
   ]
  },
  {
   "cell_type": "code",
   "execution_count": 5,
   "id": "8b560cc6",
   "metadata": {},
   "outputs": [],
   "source": [
    "# -------------------------\n",
    "# Functional Operations\n",
    "#       map(), filter(), reduce() will be discussed in a seperate section\n",
    "# -------------------------"
   ]
  },
  {
   "cell_type": "code",
   "execution_count": 6,
   "id": "5caa761b",
   "metadata": {},
   "outputs": [
    {
     "name": "stdout",
     "output_type": "stream",
     "text": [
      "5\n"
     ]
    }
   ],
   "source": [
    "# -------------------------\n",
    "# String Operations\n",
    "#       other string operations are discussed in detail in strings section\n",
    "# -------------------------\n",
    "\n",
    "# len() - Returns the length of a string\n",
    "v = len(\"hello\")\n",
    "print(v)  # Output: 5\n"
   ]
  },
  {
   "cell_type": "code",
   "execution_count": 7,
   "id": "2f8c72ae",
   "metadata": {},
   "outputs": [
    {
     "name": "stdout",
     "output_type": "stream",
     "text": [
      "<class 'int'>\n",
      "140726260929256\n",
      "True\n",
      "['__add__', '__class__', '__contains__', '__delattr__', '__dir__', '__doc__', '__eq__', '__format__', '__ge__', '__getattribute__', '__getitem__', '__getnewargs__', '__getstate__', '__gt__', '__hash__', '__init__', '__init_subclass__', '__iter__', '__le__', '__len__', '__lt__', '__mod__', '__mul__', '__ne__', '__new__', '__reduce__', '__reduce_ex__', '__repr__', '__rmod__', '__rmul__', '__setattr__', '__sizeof__', '__str__', '__subclasshook__', 'capitalize', 'casefold', 'center', 'count', 'encode', 'endswith', 'expandtabs', 'find', 'format', 'format_map', 'index', 'isalnum', 'isalpha', 'isascii', 'isdecimal', 'isdigit', 'isidentifier', 'islower', 'isnumeric', 'isprintable', 'isspace', 'istitle', 'isupper', 'join', 'ljust', 'lower', 'lstrip', 'maketrans', 'partition', 'removeprefix', 'removesuffix', 'replace', 'rfind', 'rindex', 'rjust', 'rpartition', 'rsplit', 'rstrip', 'split', 'splitlines', 'startswith', 'strip', 'swapcase', 'title', 'translate', 'upper', 'zfill']\n"
     ]
    }
   ],
   "source": [
    "# -------------------------\n",
    "# Object Inspection\n",
    "# -------------------------\n",
    "\n",
    "# type() - Returns the type of an object\n",
    "b1 = type(123)\n",
    "print(b1)  # Output: <class 'int'>\n",
    "\n",
    "# id() - Returns the identity of an object\n",
    "c1 = id(123)\n",
    "print(c1)  # Output: Unique id of the object\n",
    "           # 140726260929256\n",
    "\n",
    "# isinstance() - Checks if an object is an instance of a class or a subclass\n",
    "d1 = isinstance(123, int)\n",
    "print(d1)  # Output: True\n",
    "\n",
    "# dir() - Returns a list of attributes of an object\n",
    "e1 = dir(\"hello\")\n",
    "print(e1)  # Output: List of string methods\n",
    "           # ['__add__', '__class__', '__contains__', '__delattr__', '__dir__', '__doc__', '__eq__', '__format__', '__ge__', '__getattribute__', '__getitem__', '__getnewargs__', '__getstate__', '__gt__', '__hash__', '__init__', '__init_subclass__', '__iter__', '__le__', '__len__', '__lt__', '__mod__', '__mul__', '__ne__', '__new__', '__reduce__', '__reduce_ex__', '__repr__', '__rmod__', '__rmul__', '__setattr__', '__sizeof__', '__str__', '__subclasshook__', 'capitalize', 'casefold', 'center', 'count', 'encode', 'endswith', 'expandtabs', 'find', 'format', 'format_map', 'index', 'isalnum', 'isalpha', 'isascii', 'isdecimal', 'isdigit', 'isidentifier', 'islower', 'isnumeric', 'isprintable', 'isspace', 'istitle', 'isupper', 'join', 'ljust', 'lower', 'lstrip', 'maketrans', 'partition', 'removeprefix', 'removesuffix', 'replace', 'rfind', 'rindex', 'rjust', 'rpartition', 'rsplit', 'rstrip', 'split', 'splitlines', 'startswith', 'strip', 'swapcase', 'title', 'translate', 'upper', 'zfill']"
   ]
  },
  {
   "cell_type": "code",
   "execution_count": 8,
   "id": "888fbfb6",
   "metadata": {},
   "outputs": [
    {
     "name": "stdout",
     "output_type": "stream",
     "text": [
      "Cannot divide by zero\n",
      "finally\n"
     ]
    }
   ],
   "source": [
    "# -------------------------\n",
    "# Error Handling\n",
    "#       - discussed in detail in the error handling section\n",
    "# -------------------------\n",
    "\n",
    "# try...except - Used for handling exceptions\n",
    "try:\n",
    "    x = 1 / 0\n",
    "except ZeroDivisionError:\n",
    "    print(\"Cannot divide by zero\")  # Output: Cannot divide by zero\n",
    "finally:\n",
    "    print(\"finally\")"
   ]
  },
  {
   "cell_type": "code",
   "execution_count": 9,
   "id": "b3b49b65",
   "metadata": {},
   "outputs": [],
   "source": [
    "# -------------------------\n",
    "# File Handling\n",
    "#       - refer files section\n",
    "# -------------------------"
   ]
  },
  {
   "cell_type": "code",
   "execution_count": 10,
   "id": "30bfa9f7",
   "metadata": {},
   "outputs": [
    {
     "name": "stdout",
     "output_type": "stream",
     "text": [
      "True\n",
      "True\n",
      "True\n"
     ]
    }
   ],
   "source": [
    "# -------------------------\n",
    "# Logical Operations\n",
    "# -------------------------\n",
    "\n",
    "# all() - Returns True if all elements are true\n",
    "g1 = all([1, 2, 3])\n",
    "print(g1)  # Output: True\n",
    "\n",
    "# any() - Returns True if any element is true\n",
    "g2 = any([0, 0, 1])\n",
    "print(g2)  # Output: True\n",
    "\n",
    "# not() - Returns True if the argument is false\n",
    "g3 = not False\n",
    "print(g3)  # Output: True\n"
   ]
  },
  {
   "cell_type": "code",
   "execution_count": 17,
   "id": "868d245b",
   "metadata": {},
   "outputs": [
    {
     "name": "stdout",
     "output_type": "stream",
     "text": [
      "5\n",
      "7\n"
     ]
    }
   ],
   "source": [
    "# -------------------------\n",
    "# Miscellaneous\n",
    "# -------------------------\n",
    "\n",
    "# help() - Displays help information about an object\n",
    "#  help(str)  # Displays documentation for str class\n",
    "# commenting the command, because it prints too much content\n",
    "# Output sample:\n",
    "# Help on class str in module builtins:\n",
    "\n",
    "# class str(object)\n",
    "#  |  str(object='') -> str\n",
    "#  |  str(bytes_or_buffer[, encoding[, errors]]) -> str\n",
    "#  |\n",
    "#  |  Create a new string object from the given object. If encoding or\n",
    "#  |  errors is specified, then the object must expose a data buffer\n",
    "#  |  that will be decoded using the given encoding and error handler.\n",
    "#  |  Otherwise, returns the result of object.__str__() (if defined)\n",
    "#  |  or repr(object).\n",
    "#  |  encoding defaults to 'utf-8'.\n",
    "#  |  errors defaults to 'strict'.\n",
    "#  |\n",
    "#  |  Methods defined here:\n",
    "#  |\n",
    "#  |  __add__(self, value, /)\n",
    "#  |      Return self+value.\n",
    "#  |\n",
    "\n",
    "# exec() - Executes a dynamically created Python code\n",
    "exec(\"x = 5\")\n",
    "print(x)  # Output: 5\n",
    "\n",
    "# eval() - Evaluates a Python expression within a string\n",
    "y1 = eval(\"3 + 4\")\n",
    "print(y1)  # Output: 7"
   ]
  },
  {
   "cell_type": "markdown",
   "id": "1a8917d6",
   "metadata": {},
   "source": [
    "**exec()**\n",
    "- Use `exec()` when you need to execute multi-line statements dynamically (e.g., functions, loops, or complex logic).\n",
    "- **Syntax:** `exec(object, globals=None, locals=None)`\n",
    "\n",
    "**eval()**\n",
    "- Use `eval()` when you need to evaluate simple expressions dynamically and expect a return value. \n",
    "- Syntax: `eval(expression, globals=None, locals=None)`\n",
    "  \n",
    "**globals and locals:** optional dictionaries to define the global and local variables used in the expression.\n",
    "\n",
    "| **Aspect**       | **exec()**                                         | **eval()**                                                               |\n",
    "|------------------|----------------------------------------------------|-------------------------------------------------------------------------|\n",
    "| **Purpose**      | Used for executing blocks of code (statements).    | Used for evaluating single expressions and returns a result.            |\n",
    "| **Return Value** | Does not return anything (returns `None`).         | Returns the result of the evaluated expression.                         |\n",
    "| **Input**        | Can execute multi-line code                        | Limited to single expressions (no statements like loops or conditionals). |\n",
    "\n",
    "**Note:** Both exec() and eval() have security risks and should be used with caution, particularly with untrusted input. Always sanitize or validate input before passing it to these functions.\n",
    "\n",
    "**Example**: "
   ]
  },
  {
   "cell_type": "code",
   "execution_count": 18,
   "id": "440b2d8e",
   "metadata": {},
   "outputs": [
    {
     "name": "stdout",
     "output_type": "stream",
     "text": [
      "8\n",
      "8\n"
     ]
    }
   ],
   "source": [
    "# -------------------------\n",
    "# exec() and eval()\n",
    "# -------------------------\n",
    "# Using exec() to define a function dynamically\n",
    "code = \"\"\"\n",
    "def add(x, y):\n",
    "    return x + y\n",
    "\"\"\"\n",
    "exec(code)\n",
    "print(add(5, 3))  # Output: 8  (exec defined the function dynamically)\n",
    "\n",
    "# Using eval() to evaluate an expression\n",
    "result = eval(\"5 + 3\")\n",
    "print(result)  # Output: 8  (eval evaluated a simple expression)\n"
   ]
  },
  {
   "cell_type": "markdown",
   "id": "aca18e15",
   "metadata": {},
   "source": [
    "### Summary\n",
    "\n",
    "1. **Data Type Conversion**\n",
    "\n",
    "- `int()`: Converts a value to an integer.\n",
    "- `float()`: Converts a value to a floating-point number.\n",
    "- `str()`: Converts a value to a string.\n",
    "- `list()`: Converts an iterable to a list.\n",
    "- `tuple()`: Converts an iterable to a tuple.\n",
    "- `set()`: Converts an iterable to a set.\n",
    "- `dict()`: Creates a dictionary from a sequence of key-value pairs.\n",
    "- `bool()`: Converts a value to a boolean.\n",
    "\n",
    "2. **Mathematical Operations**\n",
    "\n",
    "- `abs()`: Returns the absolute value of a number.\n",
    "- `round()`: Rounds a floating-point number to the nearest integer.\n",
    "- `min()`: Returns the smallest item in an iterable or the smallest of two or more arguments.\n",
    "- `max()`: Returns the largest item in an iterable or the largest of two or more arguments.\n",
    "- `sum()`: Returns the sum of items in an iterable.\n",
    "\n",
    "3. **Iterable and Sequence Operations**\n",
    "\n",
    "- `len()`: Returns the number of items in an object.\n",
    "- `range()`: Generates a sequence of numbers.\n",
    "- `enumerate()`: Adds a counter to an iterable and returns it as an enumerate object.\n",
    "- `sorted()`: Returns a sorted list of the specified iterable.\n",
    "- `reversed()`: Returns a reversed iterator.\n",
    "- `all()`: Returns `True` if all items in an iterable are true.\n",
    "- `any()`: Returns `True` if any item in an iterable is true.\n",
    "- `zip()`: Combines iterables into a single iterator of tuples.\n",
    "\n",
    "4. **Functional Operations**\n",
    "\n",
    "- `map()`: Applies a function to all items in an iterable.\n",
    "- `filter()`: Filters items in an iterable based on a function.\n",
    "- `reduce()`: Applies a rolling computation to items in an iterable (from `functools` module).\n",
    "\n",
    "5. **String Operations**\n",
    "\n",
    "- `len()`: Returns the length of a string.\n",
    "- `str.lower()`: Converts a string to lowercase.\n",
    "- `str.upper()`: Converts a string to uppercase.\n",
    "- `str.strip()`: Removes leading and trailing whitespace from a string.\n",
    "- `str.split()`: Splits a string into a list based on a delimiter.\n",
    "- `str.join()`: Joins a list of strings into one string.\n",
    "\n",
    "6. **Object Inspection**\n",
    "\n",
    "- `type()`: Returns the type of an object.\n",
    "- `id()`: Returns the identity of an object.\n",
    "- `isinstance()`: Checks if an object is an instance of a class or a subclass.\n",
    "- `dir()`: Returns a list of attributes of an object.\n",
    "\n",
    "7. **Error Handling**\n",
    "\n",
    "- `try...except`: Used for handling exceptions.\n",
    "\n",
    "8. **File Handling**\n",
    "\n",
    "- `open()`: Opens a file and returns a file object.\n",
    "- `read()`: Reads the content of a file.\n",
    "- `write()`: Writes to a file.\n",
    "- `close()`: Closes an open file.\n",
    "\n",
    "9. **Logical Operations**\n",
    "\n",
    "- `all()`: Returns `True` if all elements are true.\n",
    "- `any()`: Returns `True` if any element is true.\n",
    "- `not()`: Returns `True` if the argument is false.\n",
    "\n",
    "10. **Miscellaneous**\n",
    "\n",
    "- `help()`: Displays help information about an object.\n",
    "- `exec()`: Executes a dynamically created Python code.\n",
    "- `eval()`: Evaluates a Python expression within a string.\n"
   ]
  },
  {
   "cell_type": "markdown",
   "id": "420a751a",
   "metadata": {},
   "source": []
  },
  {
   "cell_type": "markdown",
   "id": "294d37c8",
   "metadata": {},
   "source": []
  }
 ],
 "metadata": {
  "kernelspec": {
   "display_name": "Python 3",
   "language": "python",
   "name": "python3"
  },
  "language_info": {
   "codemirror_mode": {
    "name": "ipython",
    "version": 3
   },
   "file_extension": ".py",
   "mimetype": "text/x-python",
   "name": "python",
   "nbconvert_exporter": "python",
   "pygments_lexer": "ipython3",
   "version": "3.13.2"
  }
 },
 "nbformat": 4,
 "nbformat_minor": 5
}
