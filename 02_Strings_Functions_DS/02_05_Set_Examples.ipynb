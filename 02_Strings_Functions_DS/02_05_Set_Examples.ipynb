{
 "cells": [
  {
   "cell_type": "markdown",
   "id": "4c477e79",
   "metadata": {},
   "source": []
  },
  {
   "cell_type": "code",
   "execution_count": null,
   "id": "72c9b1c2",
   "metadata": {},
   "outputs": [
    {
     "name": "stdout",
     "output_type": "stream",
     "text": [
      "[1, 2, 3, 4, 23]\n"
     ]
    }
   ],
   "source": [
    "mylist = [1,2,23,3,3,4]\n",
    "\n",
    "mylist = list(set(mylist))\n",
    "print(mylist)\n",
    "\n",
    "\n",
    "# set.add()\n",
    "\n",
    "# set.pop()"
   ]
  }
 ],
 "metadata": {
  "kernelspec": {
   "display_name": "Python 3",
   "language": "python",
   "name": "python3"
  },
  "language_info": {
   "codemirror_mode": {
    "name": "ipython",
    "version": 3
   },
   "file_extension": ".py",
   "mimetype": "text/x-python",
   "name": "python",
   "nbconvert_exporter": "python",
   "pygments_lexer": "ipython3",
   "version": "3.13.2"
  }
 },
 "nbformat": 4,
 "nbformat_minor": 5
}
