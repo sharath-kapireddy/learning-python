{
 "cells": [
  {
   "cell_type": "markdown",
   "id": "c3a4087e",
   "metadata": {},
   "source": []
  },
  {
   "cell_type": "code",
   "execution_count": null,
   "id": "5b5dce1c",
   "metadata": {},
   "outputs": [
    {
     "name": "stdout",
     "output_type": "stream",
     "text": [
      "['\\nHey', ' abcd', '    adcb \\n\\nww\\n\\nxya\\n']\n",
      "['Hey,', 'abcd,', 'adcb', 'ww', 'xya']\n"
     ]
    }
   ],
   "source": [
    "my_string1 = \"\"\"\n",
    "Hey, abcd,    adcb \n",
    "\n",
    "test\n",
    "\n",
    "abcd\n",
    "\"\"\"\n",
    "\n",
    "# split variants\n",
    "words1 = my_string1.split(\",\")\n",
    "print(words1)\n",
    "\n",
    "words2 = my_string1.split()  # will handle multi lines, tabs, etc etc\n",
    "print(words2)\n",
    "\n",
    "len(my_string1)\n",
    "\t\t\n",
    "my_string1.lower()\n",
    "my_string1.isalnum()\n",
    "\n",
    "my_string1[::-1]"
   ]
  }
 ],
 "metadata": {
  "kernelspec": {
   "display_name": "Python 3",
   "language": "python",
   "name": "python3"
  },
  "language_info": {
   "codemirror_mode": {
    "name": "ipython",
    "version": 3
   },
   "file_extension": ".py",
   "mimetype": "text/x-python",
   "name": "python",
   "nbconvert_exporter": "python",
   "pygments_lexer": "ipython3",
   "version": "3.13.2"
  }
 },
 "nbformat": 4,
 "nbformat_minor": 5
}
