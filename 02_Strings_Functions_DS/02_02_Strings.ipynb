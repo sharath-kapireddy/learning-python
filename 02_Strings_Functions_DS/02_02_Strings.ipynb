{
 "cells": [
  {
   "cell_type": "markdown",
   "id": "c3a4087e",
   "metadata": {},
   "source": [
    "# String\n",
    "- A string is an immutable sequence of characters in Python.\n",
    "\n",
    "### Common String Operations in Python\n",
    "1. String Creation\n",
    "2. Concatenation\n",
    "3. Length\n",
    "4. Accessing Elements\n",
    "5. Modifying Elements\n",
    "6. Slicing\n",
    "7. Adding Elements\n",
    "8. Removing Elements\n",
    "9. Copying\n",
    "10. Reordering\n",
    "11. String Info\n",
    "12. Unpacking\n",
    "13. Checking Conditions\n",
    "14. Looping\n"
   ]
  },
  {
   "cell_type": "code",
   "execution_count": 3,
   "id": "5b5dce1c",
   "metadata": {},
   "outputs": [
    {
     "name": "stdout",
     "output_type": "stream",
     "text": [
      "['\\nHey', ' abcd', '    adcb \\n\\ntest\\n\\nabcd\\n']\n",
      "['Hey,', 'abcd,', 'adcb', 'test', 'abcd']\n",
      "Hellrdf344\n"
     ]
    }
   ],
   "source": [
    "my_string1 = \"\"\"\n",
    "Hey, abcd,    adcb \n",
    "\n",
    "test\n",
    "\n",
    "abcd\n",
    "\"\"\"\n",
    "\n",
    "# split variants\n",
    "words1 = my_string1.split(\",\")\n",
    "print(words1)\n",
    "\n",
    "words2 = my_string1.split()  # will handle multi lines, tabs, etc etc\n",
    "print(words2)\n",
    "\n",
    "len(my_string1)\n",
    "\t\t\n",
    "my_string1.lower()\n",
    "my_string1.isalnum()\n",
    "\n",
    "my_string1[::-1]\n",
    "\n",
    "## joins the items of an iterable to a single string\n",
    "def remove_non_alphanum(s):\n",
    "    return ''.join(char for char in s if char.isalnum())\n",
    "\n",
    "print(remove_non_alphanum(\"H#ellrdf@!344\"))"
   ]
  },
  {
   "cell_type": "markdown",
   "id": "14d4c248",
   "metadata": {},
   "source": [
    "### Summary\n",
    "\n",
    "**✅ String Creation**\n",
    "- \"Hello\" → Basic string creation\n",
    "- str() → Convert other data types to string\n",
    "- \"abc\" * 3 → Repeats string\n",
    "\n",
    "**➕ Concatenation**\n",
    "- + → Combines two strings\n",
    "\n",
    "**📏 Length**\n",
    "- len(string) → Returns number of characters\n",
    "\n",
    "**🔢 Accessing Elements**\n",
    "- string[i] → Access by index\n",
    "- string[i:j] → Slicing\n",
    "- string[-i:] → Negative indexing (from end)\n",
    "\n",
    "**✍️ Modifying Elements**\n",
    "- string[i] = value → Not possible (strings are immutable)\n",
    "- Replace using concatenation and slicing\n",
    "\n",
    "**➕ Adding Elements**\n",
    "- Concatenate using + → Create new string\n",
    "\n",
    "**❌ Removing Elements**\n",
    "- .replace(old, \"\") → Removes all occurrences of old substring\n",
    "- .strip() → Removes whitespace from ends\n",
    "\n",
    "**🔁 Copying**\n",
    "- slicing (string[:]) → Creates a new copy\n",
    "\n",
    "**🔄 Reordering**\n",
    "- Reversing via slicing: string[::-1]\n",
    "\n",
    "**🧠 String Info**\n",
    "- .index(value) → First index of value\n",
    "- .count(value) → Count occurrences\n",
    "\n",
    "**🪄 Unpacking**\n",
    "- a, b, *rest = \"abcde\" → Unpacking string into variables\n",
    "\n",
    "**🔍 Checking Conditions**\n",
    "- any(list) → True if any character is truthy\n",
    "- all(list) → True if all characters are truthy\n",
    "\n",
    "**🔁 Looping**\n",
    "- for char in string: → Iterate through characters\n"
   ]
  }
 ],
 "metadata": {
  "kernelspec": {
   "display_name": "Python 3",
   "language": "python",
   "name": "python3"
  },
  "language_info": {
   "codemirror_mode": {
    "name": "ipython",
    "version": 3
   },
   "file_extension": ".py",
   "mimetype": "text/x-python",
   "name": "python",
   "nbconvert_exporter": "python",
   "pygments_lexer": "ipython3",
   "version": "3.13.2"
  }
 },
 "nbformat": 4,
 "nbformat_minor": 5
}
