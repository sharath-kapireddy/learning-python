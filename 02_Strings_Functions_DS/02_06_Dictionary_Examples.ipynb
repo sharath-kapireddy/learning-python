{
 "cells": [
  {
   "cell_type": "markdown",
   "id": "fca9c24e",
   "metadata": {},
   "source": []
  },
  {
   "cell_type": "code",
   "execution_count": 5,
   "id": "17ba9ce1",
   "metadata": {},
   "outputs": [
    {
     "name": "stdout",
     "output_type": "stream",
     "text": [
      "2\n",
      "key: two and its value is 2 \n",
      "{'one': 1, 'two': 2, 'three': 3, 'four': 4.0}\n",
      "{'one': 1, 'two': 2, 'three': 3}\n"
     ]
    }
   ],
   "source": [
    "my_dict = {\"one\":1, \"two\":2}\n",
    "print(len(my_dict))\n",
    "\n",
    "print(f\"key: two and its value is {my_dict[\"two\"]} \")\n",
    "\n",
    "my_dict[\"three\"] = 3\n",
    "my_dict[\"four\"] = 4\n",
    "my_dict[\"four\"] = 4.0\n",
    "\n",
    "print(my_dict)\n",
    "\n",
    "del(my_dict[\"four\"])\n",
    "print(my_dict)"
   ]
  }
 ],
 "metadata": {
  "kernelspec": {
   "display_name": "Python 3",
   "language": "python",
   "name": "python3"
  },
  "language_info": {
   "codemirror_mode": {
    "name": "ipython",
    "version": 3
   },
   "file_extension": ".py",
   "mimetype": "text/x-python",
   "name": "python",
   "nbconvert_exporter": "python",
   "pygments_lexer": "ipython3",
   "version": "3.13.2"
  }
 },
 "nbformat": 4,
 "nbformat_minor": 5
}
