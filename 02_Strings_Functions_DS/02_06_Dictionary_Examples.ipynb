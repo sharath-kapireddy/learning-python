{
 "cells": [
  {
   "cell_type": "markdown",
   "id": "fca9c24e",
   "metadata": {},
   "source": []
  },
  {
   "cell_type": "code",
   "execution_count": 3,
   "id": "17ba9ce1",
   "metadata": {},
   "outputs": [
    {
     "name": "stdout",
     "output_type": "stream",
     "text": [
      "2\n",
      "key: two and its value is 2 \n",
      "{'one': 1, 'two': 2, 'three': 3, 'four': 4.0}\n",
      "{'one': 1, 'two': 2, 'three': 3}\n",
      "-------\n",
      "keys dict_keys(['one', 'two', 'three'])\n",
      "vals dict_values([1, 2, 3])\n",
      "one --> 1\n",
      "two --> 2\n",
      "three --> 3\n"
     ]
    }
   ],
   "source": [
    "my_dict = {\"one\":1, \"two\":2}\n",
    "print(len(my_dict))\n",
    "\n",
    "print(f\"key: two and its value is {my_dict[\"two\"]} \")\n",
    "\n",
    "my_dict[\"three\"] = 3\n",
    "my_dict[\"four\"] = 4\n",
    "my_dict[\"four\"] = 4.0\n",
    "\n",
    "print(my_dict)\n",
    "\n",
    "del(my_dict[\"four\"])\n",
    "print(my_dict)\n",
    "\n",
    "print('-------')\n",
    "\n",
    "# retrieve keys, values\n",
    "print(\"keys\", my_dict.keys())\n",
    "print(\"vals\", my_dict.values())\n",
    "#Iterate\n",
    "\n",
    "for k,v in my_dict.items():\n",
    "    print(f\"{k} --> {v}\")"
   ]
  }
 ],
 "metadata": {
  "kernelspec": {
   "display_name": "Python 3",
   "language": "python",
   "name": "python3"
  },
  "language_info": {
   "codemirror_mode": {
    "name": "ipython",
    "version": 3
   },
   "file_extension": ".py",
   "mimetype": "text/x-python",
   "name": "python",
   "nbconvert_exporter": "python",
   "pygments_lexer": "ipython3",
   "version": "3.13.2"
  }
 },
 "nbformat": 4,
 "nbformat_minor": 5
}
