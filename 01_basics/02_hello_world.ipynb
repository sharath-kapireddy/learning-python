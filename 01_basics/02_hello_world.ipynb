{
 "cells": [
  {
   "cell_type": "markdown",
   "id": "982110e3",
   "metadata": {},
   "source": [
    "## First Python Program: \"Hello World!\"\n",
    "\n",
    "Note: Strings can be enclosed using any of the following:\n",
    "- `'single quotes'`\n",
    "- `\"double quotes\"`\n",
    "- `'''triple single quotes'''`\n",
    "- `\"\"\"triple double quotes\"\"\"`"
   ]
  },
  {
   "cell_type": "code",
   "execution_count": 3,
   "id": "d9d8ab42",
   "metadata": {},
   "outputs": [
    {
     "name": "stdout",
     "output_type": "stream",
     "text": [
      "Hello World!\n",
      "Hello test1\n"
     ]
    }
   ],
   "source": [
    "# function named main1\n",
    "def main1():\n",
    "    print(\"\"\"Hello World!\"\"\")\n",
    "    # x = input(\"Enter your name: \")\n",
    "    x = \"test1\"\n",
    "    print('Hello', x)\n",
    "    \n",
    "    #Note: String can be enclosed in '' OR \"\" OR ''' ''' OR \"\"\" \"\"\"\n",
    "\n",
    "# This block runs when the script is executed directly\n",
    "if __name__ == \"__main__\":\n",
    "    main1()"
   ]
  }
 ],
 "metadata": {
  "kernelspec": {
   "display_name": "Python 3",
   "language": "python",
   "name": "python3"
  },
  "language_info": {
   "codemirror_mode": {
    "name": "ipython",
    "version": 3
   },
   "file_extension": ".py",
   "mimetype": "text/x-python",
   "name": "python",
   "nbconvert_exporter": "python",
   "pygments_lexer": "ipython3",
   "version": "3.13.2"
  }
 },
 "nbformat": 4,
 "nbformat_minor": 5
}
