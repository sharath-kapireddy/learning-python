{
 "cells": [
  {
   "cell_type": "markdown",
   "id": "30336a1c",
   "metadata": {},
   "source": [
    "## Understanding `if __name__ == \"__main__\":`\n",
    "\n",
    "Unlike Java's `public static void main(String[] args)`, Python doesn't automatically execute a function named `main()` when a script starts.\n",
    "\n",
    "In Python, the special built-in variable `__name__` helps control how a script behaves when run **directly** vs when **imported as a module**.\n",
    "\n",
    "---\n",
    "\n",
    "### 🧠 Why use this block?\n",
    "\n",
    "#### ✅ 1. When the script is run directly:\n",
    "Example: `python my_script.py`\n",
    "\n",
    "Python sets `__name__ = \"__main__\"`\n",
    "\n",
    "So the block:\n",
    "```python\n",
    "if __name__ == \"__main__\":\n",
    "    main1()\n",
    "```\n",
    "executes ✅\n",
    "\n",
    "---\n",
    "\n",
    "#### 🚫 2. When imported as a module:\n",
    "Example: `import my_script`\n",
    "\n",
    "Python sets __name__ = \"my_script\" (or the actual module name)\n",
    "\n",
    "So, the block does not execute automatically ❌\n",
    "\n",
    "---\n",
    "\n",
    "#### 🔁 Why it matters:\n",
    "- Keeps reusable functions & logic from auto-running during import.\n",
    "- Makes code modular, testable, and reusable.\n",
    "- `if __name__ == \"__main__\"` is Python’s way of saying **Run this block only if this file is being run directly, not when it’s being imported.**"
   ]
  }
 ],
 "metadata": {
  "language_info": {
   "name": "python"
  }
 },
 "nbformat": 4,
 "nbformat_minor": 5
}
