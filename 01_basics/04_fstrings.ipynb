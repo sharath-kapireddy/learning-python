{
 "cells": [
  {
   "cell_type": "markdown",
   "id": "fdacaafc",
   "metadata": {},
   "source": [
    "## f-strings (formatted string literals)\n",
    "\n",
    "F-strings are a modern and readable way to embed expressions inside string literals.  \n",
    "They are prefixed with `f` or `F` and allow **inline expression evaluation** using `{}`.\n",
    "\n",
    "### 🛠️ Syntax:\n",
    "```python\n",
    "f\"some text {expression}\"\n",
    "```\n",
    "\n",
    "**✅ Advantages:**\n",
    "- Readable – variables and expressions are embedded directly\n",
    "- Fast – better performance than older formatting methods\n",
    "- Powerful – supports variables, expressions, function calls, and object attributes\n",
    "\n",
    "**⚠️ Note:**\n",
    "- Expressions inside {} are evaluated at runtime.\n",
    "- If you want to show curly braces literally, use double braces: {{ and }}.\n",
    "- You can embed almost any Python expression inside the curly braces, including: **Variables, Arithmetic operations, Function calls,Object attributes**"
   ]
  },
  {
   "cell_type": "code",
   "execution_count": 1,
   "id": "3acf9a37",
   "metadata": {},
   "outputs": [
    {
     "name": "stdout",
     "output_type": "stream",
     "text": [
      "The sum of 5 and 10 is 15.\n",
      "Hello, Bob!\n",
      "The value is 42.\n"
     ]
    }
   ],
   "source": [
    "# Variables and arithmetic\n",
    "x = 5\n",
    "y = 10\n",
    "print(f\"The sum of {x} and {y} is {x + y}.\")\n",
    "\n",
    "# Function calls\n",
    "def greet(person):\n",
    "    return f\"Hello, {person}!\"\n",
    "\n",
    "print(greet(\"Bob\"))\n",
    "\n",
    "# Object attribute access\n",
    "class MyClass:\n",
    "    value = 42\n",
    "\n",
    "obj = MyClass()\n",
    "print(f\"The value is {obj.value}.\")\n"
   ]
  }
 ],
 "metadata": {
  "kernelspec": {
   "display_name": "Python 3",
   "language": "python",
   "name": "python3"
  },
  "language_info": {
   "codemirror_mode": {
    "name": "ipython",
    "version": 3
   },
   "file_extension": ".py",
   "mimetype": "text/x-python",
   "name": "python",
   "nbconvert_exporter": "python",
   "pygments_lexer": "ipython3",
   "version": "3.13.2"
  }
 },
 "nbformat": 4,
 "nbformat_minor": 5
}
