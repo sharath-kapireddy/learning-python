{
 "cells": [
  {
   "cell_type": "markdown",
   "id": "d10ad40d",
   "metadata": {},
   "source": [
    "# context manager protocol\n",
    "\n",
    "A context manager in Python is a way to allocate and release resources precisely when you want to. The most common example is using a `with` block to manage resources like files, sockets, or locks. It ensures:\n",
    "- Proper acquisition and release of resources.\n",
    "- Clean, readable, and error-safe code.\n",
    "\n",
    "### 🔧 Built-in Example using with:\n",
    "```python\n",
    "# Opens file and assigns to f.\n",
    "# Automatically closes the file after the block (even if an error occurs).\n",
    "with open('demo.txt', 'w') as f:\n",
    "  f.write('Hello, world!')\n",
    "```\n",
    "\n",
    "### ✨ Custom Context Manager using Class:\n",
    "To create a custom context manager, your class must implement two special methods that support the context management protocol:\n",
    "- `__enter__(self)`\n",
    "- `__exit__(self, exc_type, exc_val, exc_tb)`\n",
    "\n",
    "#### ✅ __enter__ Method\n",
    "- Called at the beginning of the with block.\n",
    "- Used to set up any required resources.\n",
    "- It can return any object, which will be assigned to the variable after as in the with statement.\n",
    "- If you don’t need to return anything specific, simply return self or None.\n",
    "\n",
    "#### ✅ __exit__ Method\n",
    "- This method is automatically invoked at the end of the with block, regardless of whether the block exited normally or due to an exception.\n",
    "- 🔍 Parameters:\n",
    "    - exc_type\tThe type of exception raised (e.g., ZeroDivisionError)\n",
    "    - exc_val\tThe actual exception object (e.g., ZeroDivisionError('div by zero'))\n",
    "    - exc_tb\tA traceback object (includes file name, line number, etc.)\n",
    "\n",
    "**✅ Responsibilities of __exit__**\n",
    "- Perform cleanup (e.g., close files, release locks).\n",
    "- Handle any exceptions that occurred in the with block.\n",
    "-Optionally suppress exceptions based on the return value.\n",
    "  - 🔁 If __exit__ Returns:\n",
    "    - **True**: The exception is suppressed, and program execution continues.\n",
    "    - **False** or **None**: The exception is re-raised after the block exits."
   ]
  },
  {
   "cell_type": "code",
   "execution_count": 1,
   "id": "00d8ca60",
   "metadata": {},
   "outputs": [
    {
     "name": "stdout",
     "output_type": "stream",
     "text": [
      "🔓 Setting up the context...\n",
      "✅ Inside the with block.\n",
      "⚠️ Exception: division by zero\n",
      "🔒 Cleaning up the context...\n"
     ]
    }
   ],
   "source": [
    "class MyContext:\n",
    "    def __enter__(self):\n",
    "        print(\"🔓 Setting up the context...\")\n",
    "        return self\n",
    "\n",
    "    def __exit__(self, exc_type, exc_val, exc_tb):\n",
    "        if exc_type:\n",
    "            print(f\"⚠️ Exception: {exc_val}\")\n",
    "        print(\"🔒 Cleaning up the context...\")\n",
    "        return True  # Suppress exceptions\n",
    "\n",
    "# Using the custom context manager\n",
    "with MyContext() as ctx:\n",
    "    print(\"✅ Inside the with block.\")\n",
    "    1 / 0  # Simulate an exception (ZeroDivisionError)\n"
   ]
  }
 ],
 "metadata": {
  "kernelspec": {
   "display_name": "Python 3",
   "language": "python",
   "name": "python3"
  },
  "language_info": {
   "codemirror_mode": {
    "name": "ipython",
    "version": 3
   },
   "file_extension": ".py",
   "mimetype": "text/x-python",
   "name": "python",
   "nbconvert_exporter": "python",
   "pygments_lexer": "ipython3",
   "version": "3.13.2"
  }
 },
 "nbformat": 4,
 "nbformat_minor": 5
}
