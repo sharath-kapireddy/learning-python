{
 "cells": [
  {
   "cell_type": "markdown",
   "id": "a8481cfb",
   "metadata": {},
   "source": [
    "# date and time\n",
    "**Examples to create, manipulate, and extract information from date and datetime objects.**"
   ]
  },
  {
   "cell_type": "code",
   "execution_count": 1,
   "id": "25592dc5",
   "metadata": {},
   "outputs": [
    {
     "name": "stdout",
     "output_type": "stream",
     "text": [
      "Today's date is  2025-04-23\n",
      "Date Components:  23 4 2025\n",
      "Today's Weekday #:  2\n",
      "Which is a wednesday\n",
      "The current date and time is  2025-04-23 02:14:35.619602\n",
      "The current time is  02:14:35.619806\n"
     ]
    }
   ],
   "source": [
    "from datetime import date\n",
    "from datetime import datetime\n",
    "\n",
    "## DATE OBJECTS\n",
    "# Get today's date from the simple today() method from the date class\n",
    "today = date.today()\n",
    "print (\"Today's date is \", today)\n",
    "\n",
    "# print out the date's individual components\n",
    "print (\"Date Components: \", today.day, today.month, today.year)\n",
    "\n",
    "# retrieve today's weekday (0=Monday, 6=Sunday)\n",
    "print (\"Today's Weekday #: \", today.weekday())\n",
    "days = [\"monday\",\"tuesday\",\"wednesday\",\"thursday\",\"friday\",\"saturday\",\"sunday\"]\n",
    "print (\"Which is a \" + days[today.weekday()])\n",
    "\n",
    "## DATETIME OBJECTS\n",
    "# Get today's date from the datetime class\n",
    "today = datetime.now()\n",
    "print  (\"The current date and time is \", today)\n",
    "\n",
    "# Get the current time\n",
    "t = datetime.time(datetime.now())\n",
    "print (\"The current time is \", t)\n",
    "\n"
   ]
  },
  {
   "cell_type": "markdown",
   "id": "cb2e965d",
   "metadata": {},
   "source": [
    "## Formatting examples (can be skipped)"
   ]
  },
  {
   "cell_type": "code",
   "execution_count": 3,
   "id": "00f4ed1b",
   "metadata": {},
   "outputs": [
    {
     "name": "stdout",
     "output_type": "stream",
     "text": [
      "The current year is: 2025\n",
      "Today is Wed, 23 April, 25\n",
      "Locale date and time: Wed Apr 23 02:14:43 2025\n",
      "Locale date: 04/23/25\n",
      "Locale time: 02:14:43\n",
      "Current time: 02:14:43 AM\n",
      "24-hour time: 02:14\n"
     ]
    }
   ],
   "source": [
    "from datetime import datetime\n",
    "\n",
    "# Times and dates can be formatted using a set of predefined string\n",
    "# control codes \n",
    "now = datetime.now() # get the current date and time\n",
    "\n",
    "#### Date Formatting ####\n",
    "\n",
    "# %y/%Y - Year, %a/%A - weekday, %b/%B - month, %d - day of month\n",
    "print (now.strftime(\"The current year is: %Y\")) # full year with century\n",
    "print (now.strftime(\"Today is %a, %d %B, %y\")) # abbreviated day, num, full month, abbreviated year\n",
    "\n",
    "# %c - locale's date and time, %x - locale's date, %X - locale's time\n",
    "print (now.strftime(\"Locale date and time: %c\"))\n",
    "print (now.strftime(\"Locale date: %x\"))\n",
    "print (now.strftime(\"Locale time: %X\"))\n",
    "\n",
    "#### Time Formatting ####\n",
    "\n",
    "# %I/%H - 12/24 Hour, %M - minute, %S - second, %p - locale's AM/PM\n",
    "print (now.strftime(\"Current time: %I:%M:%S %p\")) # 12-Hour:Minute:Second:AM\n",
    "print (now.strftime(\"24-hour time: %H:%M\")) # 24-Hour:Minute\n"
   ]
  }
 ],
 "metadata": {
  "kernelspec": {
   "display_name": "Python 3",
   "language": "python",
   "name": "python3"
  },
  "language_info": {
   "codemirror_mode": {
    "name": "ipython",
    "version": 3
   },
   "file_extension": ".py",
   "mimetype": "text/x-python",
   "name": "python",
   "nbconvert_exporter": "python",
   "pygments_lexer": "ipython3",
   "version": "3.13.2"
  }
 },
 "nbformat": 4,
 "nbformat_minor": 5
}
