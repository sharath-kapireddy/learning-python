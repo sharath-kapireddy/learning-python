{
 "cells": [
  {
   "cell_type": "markdown",
   "id": "1e95aacc",
   "metadata": {},
   "source": [
    "# Basic File Operations in Python\n",
    "\n",
    "## Introduction\n",
    "\n",
    "In this session, we will explore the core functionalities for working with text files in Python. We will cover how to:\n",
    "\n",
    "- **Create and write** data to a new file.\n",
    "- **Append** new data to an existing file without overwriting its content.\n",
    "- **Read** the entire content of a file at once.\n",
    "- **Read** the content of a file line by line.\n",
    "\n",
    "We will primarily use the built-in `open()` function, which is the key to file manipulation in Python, along with various file object methods like `write()`, `read()`, and `readlines()`. \n",
    "\n",
    "**Example 1**"
   ]
  },
  {
   "cell_type": "code",
   "execution_count": 1,
   "id": "bf686b5a",
   "metadata": {},
   "outputs": [
    {
     "name": "stdout",
     "output_type": "stream",
     "text": [
      "File 'testfile.txt' opened in 'w+' mode.\n",
      "Wrote: '1 - some text' to the file.\n",
      "Wrote: '2 - some text' to the file.\n",
      "Wrote: '3 - some text' to the file.\n",
      "File 'testfile.txt' closed after writing.\n"
     ]
    }
   ],
   "source": [
    "def write_file():\n",
    "    \"\"\"\n",
    "    Opens a file in \"w+\" mode, writes a few lines, and then closes it.\n",
    "    \"\"\"\n",
    "    try:\n",
    "        f = open(\"testfile.txt\", \"w+\")\n",
    "        print(f\"File 'testfile.txt' opened in '{f.mode}' mode.\")\n",
    "\n",
    "        # Write some lines of data to the file\n",
    "        for i in range(3):\n",
    "            line = f\"{i+1} - some text\\n\"\n",
    "            f.write(line)\n",
    "            print(f\"Wrote: '{line.strip()}' to the file.\")\n",
    "\n",
    "        # Close the file when done\n",
    "        f.close()\n",
    "        print(\"File 'testfile.txt' closed after writing.\")\n",
    "\n",
    "    except Exception as e:\n",
    "        print(f\"An error occurred during writing: {e}\")\n",
    "\n",
    "\n",
    "write_file()"
   ]
  },
  {
   "cell_type": "code",
   "execution_count": 2,
   "id": "41701908",
   "metadata": {},
   "outputs": [
    {
     "name": "stdout",
     "output_type": "stream",
     "text": [
      "File 'testfile.txt' opened in 'a+' mode for appending.\n",
      "Appended: '1 - some modified text' to the file.\n",
      "Appended: '2 - some modified text' to the file.\n",
      "Appended: '3 - some modified text' to the file.\n",
      "File 'testfile.txt' closed after appending.\n"
     ]
    }
   ],
   "source": [
    "def append_file():\n",
    "    \"\"\"\n",
    "    Opens the 'testfile.txt' in \"a+\" mode, appends a few lines, and then closes it.\n",
    "    \"\"\"\n",
    "    try:\n",
    "        f = open(\"testfile.txt\", \"a+\")\n",
    "        print(f\"File 'testfile.txt' opened in '{f.mode}' mode for appending.\")\n",
    "\n",
    "        # Write some lines of data to the end of the file\n",
    "        for i in range(3):\n",
    "            line = f\"{i+1} - some modified text\\n\"\n",
    "            f.write(line)\n",
    "            print(f\"Appended: '{line.strip()}' to the file.\")\n",
    "\n",
    "        # Close the file when done\n",
    "        f.close()\n",
    "        print(\"File 'testfile.txt' closed after appending.\")\n",
    "\n",
    "    except Exception as e:\n",
    "        print(f\"An error occurred during appending: {e}\")\n",
    "\n",
    "\n",
    "append_file()"
   ]
  },
  {
   "cell_type": "code",
   "execution_count": 3,
   "id": "5a6522a7",
   "metadata": {},
   "outputs": [
    {
     "name": "stdout",
     "output_type": "stream",
     "text": [
      "File 'testfile.txt' opened in 'r' mode for reading.\n",
      "Contents of the file (read entirely):\n",
      "\n",
      "1 - some text\n",
      "2 - some text\n",
      "3 - some text\n",
      "1 - some modified text\n",
      "2 - some modified text\n",
      "3 - some modified text\n",
      "\n",
      "File 'testfile.txt' closed after reading.\n",
      "-------\n"
     ]
    }
   ],
   "source": [
    "def read_entire_file():\n",
    "    \"\"\"\n",
    "    Opens 'testfile.txt' in \"r\" mode and reads its entire content.\n",
    "    \"\"\"\n",
    "    try:\n",
    "        f = open(\"testfile.txt\", \"r\")\n",
    "        print(f\"File 'testfile.txt' opened in '{f.mode}' mode for reading.\")\n",
    "\n",
    "        if f.mode == \"r\":\n",
    "            result = f.read()\n",
    "            print(\"Contents of the file (read entirely):\\n\")\n",
    "            print(result)\n",
    "\n",
    "        # Close the file\n",
    "        f.close()\n",
    "        print(\"File 'testfile.txt' closed after reading.\")\n",
    "        print(\"-------\")\n",
    "\n",
    "    except Exception as e:\n",
    "        print(f\"An error occurred during reading (entire file): {e}\")\n",
    "\n",
    "read_entire_file()"
   ]
  },
  {
   "cell_type": "code",
   "execution_count": 4,
   "id": "00d5271f",
   "metadata": {},
   "outputs": [
    {
     "name": "stdout",
     "output_type": "stream",
     "text": [
      "File 'testfile.txt' opened in 'r' mode for reading line by line.\n",
      "Contents of the file (read line by line):\n",
      "\n",
      "1 - some text\n",
      "2 - some text\n",
      "3 - some text\n",
      "1 - some modified text\n",
      "2 - some modified text\n",
      "3 - some modified text\n",
      "File 'testfile.txt' closed after reading line by line.\n"
     ]
    }
   ],
   "source": [
    "def read_line_by_line():\n",
    "    \"\"\"\n",
    "    Opens 'testfile.txt' in \"r\" mode and reads its content line by line.\n",
    "    \"\"\"\n",
    "    try:\n",
    "        f = open(\"testfile.txt\", \"r\")\n",
    "        print(f\"File 'testfile.txt' opened in '{f.mode}' mode for reading line by line.\")\n",
    "\n",
    "        if f.mode == \"r\":\n",
    "            lines = f.readlines()\n",
    "            print(\"Contents of the file (read line by line):\\n\")\n",
    "            for line in lines:\n",
    "                print(line, end='') # Using end='' to avoid double newlines\n",
    "\n",
    "        # Close the file\n",
    "        f.close()\n",
    "        print(\"File 'testfile.txt' closed after reading line by line.\")\n",
    "\n",
    "    except Exception as e:\n",
    "        print(f\"An error occurred during reading (line by line): {e}\")\n",
    "\n",
    "read_line_by_line()"
   ]
  },
  {
   "cell_type": "markdown",
   "id": "f139f154",
   "metadata": {},
   "source": []
  }
 ],
 "metadata": {
  "kernelspec": {
   "display_name": "Python 3",
   "language": "python",
   "name": "python3"
  },
  "language_info": {
   "codemirror_mode": {
    "name": "ipython",
    "version": 3
   },
   "file_extension": ".py",
   "mimetype": "text/x-python",
   "name": "python",
   "nbconvert_exporter": "python",
   "pygments_lexer": "ipython3",
   "version": "3.13.2"
  }
 },
 "nbformat": 4,
 "nbformat_minor": 5
}
