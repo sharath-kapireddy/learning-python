{
 "cells": [
  {
   "cell_type": "markdown",
   "id": "fee17e03",
   "metadata": {},
   "source": [
    "# Exploring File System Operations and Time in Python\n",
    "\n",
    "## Introduction\n",
    "\n",
    "We will utilize the `os` and `os.path` modules for file system operations, and the `datetime` and `time` modules for handling temporal data.\n",
    "\n",
    "Understanding these modules is crucial for tasks such as checking file existence, determining file types, manipulating file paths, and tracking file modification times. We will also explore how to calculate time differences, which is valuable for various logging and monitoring applications.\n",
    "\n",
    "**Example 1**"
   ]
  },
  {
   "cell_type": "code",
   "execution_count": 1,
   "id": "adeb3da9",
   "metadata": {},
   "outputs": [
    {
     "name": "stdout",
     "output_type": "stream",
     "text": [
      "Created a sample file: testfile.txt\n",
      "-------\n",
      "Operating System Name: nt\n",
      "-------\n",
      "Does 'testfile.txt' exist? True\n",
      "Is 'testfile.txt' a file? True\n",
      "Is 'testfile.txt' a directory? False\n",
      "-------\n",
      "Real (absolute) path of 'testfile.txt': D:\\Study\\Python\\learning-python\\03_Files\\testfile.txt\n",
      "Split path (directory, filename): ('D:\\\\Study\\\\Python\\\\learning-python\\\\03_Files', 'testfile.txt')\n",
      "Directory part: D:\\Study\\Python\\learning-python\\03_Files\n",
      "Filename part: testfile.txt\n",
      "-------\n",
      "Modification timestamp (seconds since Epoch): 1744841032.3632288\n",
      "Modification time (ctime format): Thu Apr 17 03:33:52 2025\n",
      "Modification time (datetime object): 2025-04-17 03:33:52.363229\n",
      "-------\n",
      "Current timestamp: 2025-04-17 03:33:52.365144\n",
      "The file was modified 0:00:00.001915 ago. It is 0.001915 seconds.\n",
      "-------\n"
     ]
    }
   ],
   "source": [
    "import os\n",
    "from os import path\n",
    "import datetime\n",
    "from datetime import date, time as dt_time, timedelta\n",
    "import time\n",
    "\n",
    "def example():\n",
    "    # Creating a sample file for demonstration:\n",
    "    f = open(\"testfile.txt\", \"w+\")\n",
    "    for i in range(3):\n",
    "        f.write(f\"{i+1} - some text\\n\")\n",
    "    f.close()\n",
    "    print(\"Created a sample file: testfile.txt\")\n",
    "    print(\"-------\")\n",
    "\n",
    "    # Print the name of the operating system\n",
    "    print(f\"Operating System Name: {os.name}\") # Output: posix (for Linux/macOS) or nt (for Windows)\n",
    "    print(\"-------\")\n",
    "\n",
    "    # Check for item existence and type\n",
    "    print(f\"Does 'testfile.txt' exist? {path.exists('testfile.txt')}\") # Output: True\n",
    "    print(f\"Is 'testfile.txt' a file? {path.isfile('testfile.txt')}\") # Output: True\n",
    "    print(f\"Is 'testfile.txt' a directory? {path.isdir('testfile.txt')}\") # Output: False\n",
    "    print(\"-------\")\n",
    "\n",
    "    # Work with file paths\n",
    "    real_path = path.realpath(\"testfile.txt\")\n",
    "    print(f\"Real (absolute) path of 'testfile.txt': {real_path}\")\n",
    "    path_parts = path.split(real_path)\n",
    "    print(f\"Split path (directory, filename): {path_parts}\") # Output: ('/path/to', 'testfile.txt') - the directory part will vary\n",
    "    print(f\"Directory part: {path_parts[0]}\")\n",
    "    print(f\"Filename part: {path_parts[1]}\")\n",
    "    print(\"-------\")\n",
    "\n",
    "    # Get the modification time\n",
    "    mod_time = path.getmtime(\"testfile.txt\")\n",
    "    print(f\"Modification timestamp (seconds since Epoch): {mod_time}\") # Output: 1744817563.xxxxxx (will vary)\n",
    "    print(f\"Modification time (ctime format): {time.ctime(mod_time)}\") # Output: Wed Apr 16 21:02:43 2025 (will vary based on execution time)\n",
    "    print(f\"Modification time (datetime object): {datetime.datetime.fromtimestamp(mod_time)}\") # Output: 2025-04-16 21:02:43.xxxxxx (will vary)\n",
    "    print(\"-------\")\n",
    "\n",
    "    # Calculate how long ago the item was modified\n",
    "    now = datetime.datetime.now()\n",
    "    print(f\"Current timestamp: {now}\") # Output: 2025-04-16 21:04:40.xxxxxx (will vary)\n",
    "    modtime_dt = datetime.datetime.fromtimestamp(mod_time)\n",
    "    td = now - modtime_dt\n",
    "\n",
    "    print(f\"The file was modified {td} ago. It is {td.total_seconds()} seconds.\")\n",
    "    print(\"-------\")\n",
    "\n",
    "example()"
   ]
  }
 ],
 "metadata": {
  "kernelspec": {
   "display_name": "Python 3",
   "language": "python",
   "name": "python3"
  },
  "language_info": {
   "codemirror_mode": {
    "name": "ipython",
    "version": 3
   },
   "file_extension": ".py",
   "mimetype": "text/x-python",
   "name": "python",
   "nbconvert_exporter": "python",
   "pygments_lexer": "ipython3",
   "version": "3.13.2"
  }
 },
 "nbformat": 4,
 "nbformat_minor": 5
}
