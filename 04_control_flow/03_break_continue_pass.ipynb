{
 "cells": [
  {
   "cell_type": "markdown",
   "id": "dd190d81",
   "metadata": {},
   "source": [
    "### break\n",
    "- The break statement is used to **immediately terminate the loop** it is inside. \n",
    "- When a break statement is encountered 1  during the execution of a for or while loop, the program flow jumps out of the loop entirely, and the code following the loop will be executed (if any).\n",
    "```text\n",
    "\n",
    "```\n",
    "---\n",
    "\n",
    "### continue\n",
    "- The continue statement is used to skip the rest of the code within the current iteration of a loop and move on to the next iteration.\n",
    "```text\n",
    "\n",
    "```\n",
    "---\n",
    "\n",
    "### pass\n",
    "**pass is a null statement. It literally does nothing when it's executed.**\n",
    "Its main purpose is to act as a placeholder where the Python syntax requires a statement, but you don't want any code to run. This is useful in several situations:\n",
    "\n",
    "- **Empty Functions/Classes:** When you're designing the structure of your code and want to define a function or class but haven't written the implementation yet, you can use pass to make it syntactically valid:\n",
    "```python\n",
    "def my_future_function():\n",
    "    pass # TODO: Implement this later\n",
    "\n",
    "class MyEmptyClass:\n",
    "    pass\n",
    "```\n",
    "\n",
    "- **Conditional Statements/Loops:** If you have an if, elif, else, for, or while block where you need to handle a specific condition but don't want to perform any action for it:\n",
    "\n",
    "```Python\n",
    "value = 10\n",
    "if value > 5:\n",
    "    print(\"Greater than 5\")\n",
    "elif value == 5:\n",
    "    pass # Do nothing if value is exactly 5\n",
    "else:\n",
    "    print(\"Less than 5\")\n",
    "```\n",
    "\n",
    "- **Exception Handling:** Sometimes you might want to catch a specific exception but intentionally ignore it (use this carefully, as ignoring errors can hide problems):\n",
    "\n",
    "```Python\n",
    "try:\n",
    "    risky_operation()\n",
    "except SomeSpecificError:\n",
    "    pass # Ignore this specific error\n",
    "```\n",
    "\n",
    "> So, pass is essentially a way to say \"I need a statement here for the code to be valid, but I don't want to do anything.\""
   ]
  }
 ],
 "metadata": {
  "language_info": {
   "name": "python"
  }
 },
 "nbformat": 4,
 "nbformat_minor": 5
}
