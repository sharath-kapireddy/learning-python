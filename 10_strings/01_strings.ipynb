{
 "cells": [
  {
   "cell_type": "markdown",
   "id": "c3a4087e",
   "metadata": {},
   "source": [
    "# String\n",
    "- A string is an immutable sequence of characters in Python.\n",
    "\n",
    "### Common String Operations in Python\n",
    "1. ✅ String Creation  \n",
    "2. ➕ Concatenation & Repetition  \n",
    "3. 📏 Length & Copy  \n",
    "4. 🧱 Accessing & Slicing  \n",
    "5. ✍️ Modifying Strings  \n",
    "6. ⚙️ Cleaning & Reordering  \n",
    "7. 🔡 Case Conversion  \n",
    "8. 🔍 String Info & Search  \n",
    "9. 🧠 String Checks  \n",
    "10. 🔍 Condition Checks  \n",
    "11. 🔁 Looping & Unpacking  \n",
    "12. 🧪 String Formatting  \n",
    "13. ✂️ Splitting Strings  \n",
    "14. 🔗 Joining Strings  \n",
    "15. 🪄 Other Handy Methods\n",
    "\n"
   ]
  },
  {
   "cell_type": "code",
   "execution_count": 1,
   "id": "5b5dce1c",
   "metadata": {},
   "outputs": [
    {
     "name": "stdout",
     "output_type": "stream",
     "text": [
      "Hi There\n",
      "nananana\n"
     ]
    }
   ],
   "source": [
    "# -------------------------\n",
    "# String Creation\n",
    "# -------------------------\n",
    "s1 = 'Hello'\n",
    "s2 = \"World\"\n",
    "s3 = '''Triple quoted'''\n",
    "s4 = str(123)                     # '123'\n",
    "s5 = \"abc\" * 3                    # 'abcabcabc'\n",
    "s6 = \"\"\n",
    "\n",
    "# -------------------------\n",
    "# Concatenation & Repetition\n",
    "# -------------------------\n",
    "a = \"Hi\"\n",
    "b = \"There\"\n",
    "print(a + \" \" + b)                # 'Hi There'\n",
    "print(\"na\" * 4)                   # 'nananana'"
   ]
  },
  {
   "cell_type": "code",
   "execution_count": 2,
   "id": "cc6e6053",
   "metadata": {},
   "outputs": [
    {
     "name": "stdout",
     "output_type": "stream",
     "text": [
      "6\n",
      "Python\n"
     ]
    }
   ],
   "source": [
    "# -------------------------\n",
    "# Length & Copy\n",
    "# -------------------------\n",
    "s = \"Python\"\n",
    "print(len(s))                     # 6\n",
    "copy_s = s[:]\n",
    "print(copy_s)                     # 'Python'"
   ]
  },
  {
   "cell_type": "code",
   "execution_count": 3,
   "id": "4b6c4e24",
   "metadata": {},
   "outputs": [
    {
     "name": "stdout",
     "output_type": "stream",
     "text": [
      "S\n",
      "h\n",
      "har\n",
      "htarahS\n"
     ]
    }
   ],
   "source": [
    "# -------------------------\n",
    "# Accessing & Slicing\n",
    "# -------------------------\n",
    "s = \"Sharath\"\n",
    "print(s[0])                       # 'S'\n",
    "print(s[-1])                      # 'h'\n",
    "print(s[1:4])                     # 'har'\n",
    "print(s[::-1])                    # 'htarahS'"
   ]
  },
  {
   "cell_type": "code",
   "execution_count": 4,
   "id": "cce988b3",
   "metadata": {},
   "outputs": [
    {
     "name": "stdout",
     "output_type": "stream",
     "text": [
      "dock\n"
     ]
    }
   ],
   "source": [
    "# -------------------------\n",
    "# Modifying Strings (Immutable workaround)\n",
    "# -------------------------\n",
    "s = \"rock\"\n",
    "s = 'd' + s[1:]                   # change 'r' to 'd'\n",
    "print(s)                          # 'dock'"
   ]
  },
  {
   "cell_type": "code",
   "execution_count": 5,
   "id": "c02eb01f",
   "metadata": {},
   "outputs": [
    {
     "name": "stdout",
     "output_type": "stream",
     "text": [
      "hello world\n",
      "hello world  \n",
      "  hello world\n",
      "  dlrow olleh  \n"
     ]
    }
   ],
   "source": [
    "# -------------------------\n",
    "# Cleaning & Reordering\n",
    "# -------------------------\n",
    "s = \"  hello world  \"\n",
    "print(s.strip())                  # 'hello world'\n",
    "print(s.lstrip())                 # 'hello world  '\n",
    "print(s.rstrip())                 # '  hello world'\n",
    "print(s[::-1])                    # '  dlrow olleh  '"
   ]
  },
  {
   "cell_type": "code",
   "execution_count": 7,
   "id": "e19a0d67",
   "metadata": {},
   "outputs": [
    {
     "name": "stdout",
     "output_type": "stream",
     "text": [
      "python strings\n",
      "PYTHON STRINGS\n",
      "Python strings\n",
      "pYthON sTRinGS\n"
     ]
    }
   ],
   "source": [
    "# -------------------------\n",
    "# Case Conversion\n",
    "# -------------------------\n",
    "s = \"PyTHon StrINgs\"\n",
    "print(s.lower())                  # 'python strings'\n",
    "print(s.upper())                  # 'PYTHON STRINGS'\n",
    "print(s.capitalize())             # 'Python strings'\n",
    "print(s.swapcase())               # 'pYthON sTRinGS'\n"
   ]
  },
  {
   "cell_type": "code",
   "execution_count": 8,
   "id": "5ab2c1aa",
   "metadata": {},
   "outputs": [
    {
     "name": "stdout",
     "output_type": "stream",
     "text": [
      "3\n",
      "2\n",
      "4\n",
      "0\n",
      "True\n",
      "True\n"
     ]
    }
   ],
   "source": [
    "# -------------------------\n",
    "# String Info & Search\n",
    "#     Methods: count(), find(), rfind(), index(), rindex(), startswith(), endswith()\n",
    "#     Notes:\n",
    "#         - find() returns the index of the first occurrence\n",
    "#           of the substring, or -1 if not found\n",
    "#         - rfind() returns the last occurrence index, or -1 if not found\n",
    "#         - index() and rindex() behave like find/rfind\n",
    "#           but raise ValueError if not found\n",
    "# -------------------------\n",
    "s = \"banana\"\n",
    "print(s.count('a'))              # 3\n",
    "print(s.find('na'))              # 2\n",
    "print(s.rfind('na'))             # 4\n",
    "print(s.index('b'))              # 0\n",
    "# print(s.index('z'))           # ValueError\n",
    "print(s.startswith(\"ban\"))       # True\n",
    "print(s.endswith(\"na\"))          # True"
   ]
  },
  {
   "cell_type": "code",
   "execution_count": null,
   "id": "2c7f11b1",
   "metadata": {},
   "outputs": [
    {
     "name": "stdout",
     "output_type": "stream",
     "text": [
      "True\n",
      "False\n",
      "False\n",
      "True\n",
      "True\n",
      "True\n",
      "True\n",
      "True\n"
     ]
    }
   ],
   "source": [
    "# -------------------------\n",
    "# String Checks\n",
    "#     Methods: isalnum(), isalpha(), isnumeric(), isdigit(), islower(), isupper(), isspace(), istitle()\n",
    "#     Notes:     \n",
    "#       - isdigit() is more limited and only works for characters representing whole numbers (digits).\n",
    "#       - isnumeric() can return True for more types of numeric characters, including those from non-decimal systems.\n",
    "# -------------------------\n",
    "s = \"Python123\"\n",
    "print(s.isalnum())               # True\n",
    "print(s.isalpha())               # False\n",
    "print(s.isdigit())               # False\n",
    "print(\"123\".isnumeric())         # True\n",
    "print(\"   \".isspace())           # True\n",
    "print(\"hello\".islower())         # True\n",
    "print(\"HELLO\".isupper())         # True\n",
    "print(\"Hello World\".istitle())   # True\n"
   ]
  },
  {
   "cell_type": "code",
   "execution_count": 10,
   "id": "dd3f7d6a",
   "metadata": {},
   "outputs": [
    {
     "name": "stdout",
     "output_type": "stream",
     "text": [
      "True\n",
      "True\n"
     ]
    }
   ],
   "source": [
    "# -------------------------\n",
    "# Condition Checks\n",
    "# -------------------------\n",
    "s = \"apple pie\"\n",
    "print(\"pie\" in s)                # True\n",
    "print(\"banana\" not in s)         # True"
   ]
  },
  {
   "cell_type": "code",
   "execution_count": 11,
   "id": "45380c89",
   "metadata": {},
   "outputs": [
    {
     "name": "stdout",
     "output_type": "stream",
     "text": [
      "a b c d e \n"
     ]
    }
   ],
   "source": [
    "# -------------------------\n",
    "# Looping\n",
    "# -------------------------\n",
    "s = \"abcde\"\n",
    "for c in s:\n",
    "    print(c, end=' ')            # a b c d e\n",
    "print()"
   ]
  },
  {
   "cell_type": "code",
   "execution_count": 12,
   "id": "41730c67",
   "metadata": {},
   "outputs": [
    {
     "name": "stdout",
     "output_type": "stream",
     "text": [
      "a b ['c', 'd', 'e']\n"
     ]
    }
   ],
   "source": [
    "# -------------------------\n",
    "# Unpacking\n",
    "# -------------------------\n",
    "a, b, *rest = s\n",
    "print(a, b, rest)                # a b ['c', 'd', 'e']\n"
   ]
  },
  {
   "cell_type": "code",
   "execution_count": 13,
   "id": "ddb13bcc",
   "metadata": {},
   "outputs": [
    {
     "name": "stdout",
     "output_type": "stream",
     "text": [
      "My name is Sharath, age 30\n",
      "Name: Sharath, Age: 30\n"
     ]
    }
   ],
   "source": [
    "# -------------------------\n",
    "# String Formatting - f-string\n",
    "# -------------------------\n",
    "name = \"Sharath\"\n",
    "age = 30\n",
    "print(f\"My name is {name}, age {age}\")       # f-string\n",
    "print(\"Name: {}, Age: {}\".format(name, age)) # format()"
   ]
  },
  {
   "cell_type": "code",
   "execution_count": 14,
   "id": "98d05db7",
   "metadata": {},
   "outputs": [
    {
     "name": "stdout",
     "output_type": "stream",
     "text": [
      "['apple', 'banana', 'mango']\n",
      "['apple', 'banana,mango']\n",
      "['apple,banana', 'mango']\n",
      "('key', ':', 'value')\n",
      "('key', ':', 'value')\n",
      "['this', 'is', 'a', 'test']\n"
     ]
    }
   ],
   "source": [
    "# -------------------------\n",
    "# Splitting Strings\n",
    "#     Methods: split(), rsplit(), partition(), rpartition()\n",
    "#     Notes:\n",
    "#         - split() with no argument splits on any whitespace\n",
    "#         - Useful for splitting sentences or inputs by spaces/tabs/newlines\n",
    "# -------------------------\n",
    "s = \"apple,banana,mango\"\n",
    "print(s.split(\",\"))              # ['apple', 'banana', 'mango']\n",
    "print(s.split(\",\", 1))           # ['apple', 'banana,mango']\n",
    "print(s.rsplit(\",\", 1))          # ['apple,banana', 'mango']\n",
    "\n",
    "text = \"key:value\"\n",
    "print(text.partition(\":\"))       # ('key', ':', 'value')\n",
    "print(text.rpartition(\":\"))      # ('key', ':', 'value')\n",
    "\n",
    "# Variant: split with no argument (default = whitespace)\n",
    "s2 = \"  this  is   a test  \"\n",
    "print(s2.split())                # ['this', 'is', 'a', 'test']\n"
   ]
  },
  {
   "cell_type": "code",
   "execution_count": 15,
   "id": "34447d22",
   "metadata": {},
   "outputs": [
    {
     "name": "stdout",
     "output_type": "stream",
     "text": [
      "Key = user\n",
      "Value = admin:123\n",
      ":\n",
      "Key = user:admin\n",
      "Value = 123\n",
      ":\n"
     ]
    }
   ],
   "source": [
    "# -------------------------\n",
    "# partition and rpartition\n",
    "#     partition() splits at the first occurrence of the separator (:), and returns 3 parts: before, separator, and after the first occurrence.\n",
    "#     rpartition() splits at the last occurrence of the separator (:) and does the same.\n",
    "# -------------------------\n",
    "line = \"user:admin:123\"\n",
    "key, sep, value = line.partition(\":\")\n",
    "print(\"Key =\",key)  # key = user \n",
    "print(\"Value =\", value) # value = admin:123\n",
    "print(sep)          # :\n",
    "# --------------------------------\n",
    "key, sep, value = line.rpartition(\":\")\n",
    "print(\"Key =\",key)  # Key = user:admin\n",
    "print(\"Value =\", value) # Value = 123\n",
    "print(sep)          # :\n"
   ]
  },
  {
   "cell_type": "code",
   "execution_count": 16,
   "id": "301bb717",
   "metadata": {},
   "outputs": [
    {
     "name": "stdout",
     "output_type": "stream",
     "text": [
      "Python is fun\n",
      "abc\n",
      "1-2-3\n"
     ]
    }
   ],
   "source": [
    "# -------------------------\n",
    "# Joining Strings\n",
    "#     Method: join()\n",
    "# -------------------------\n",
    "words = [\"Python\", \"is\", \"fun\"]\n",
    "print(\" \".join(words))           # 'Python is fun'\n",
    "print(\"\".join(['a', 'b', 'c']))  # 'abc'\n",
    "print(\"-\".join(\"123\"))           # '1-2-3'"
   ]
  },
  {
   "cell_type": "code",
   "execution_count": 17,
   "id": "c6594991",
   "metadata": {},
   "outputs": [
    {
     "name": "stdout",
     "output_type": "stream",
     "text": [
      "65\n",
      "A\n",
      "eMesreveR\n"
     ]
    }
   ],
   "source": [
    "# -------------------------\n",
    "# Other Handy Methods\n",
    "# -------------------------\n",
    "print(ord('A'))                  # 65\n",
    "print(chr(65))                   # 'A'\n",
    "s = \"ReverseMe\"\n",
    "print(''.join(reversed(s)))      # 'eMesreveR'"
   ]
  },
  {
   "cell_type": "markdown",
   "id": "14d4c248",
   "metadata": {},
   "source": [
    "## Summary\n",
    "\n",
    "### ✅ String Creation\n",
    "- `'hello'`, `\"world\"` → Basic strings\n",
    "- `'''multi\\nline'''`, `\"\"\"docstrings\"\"\"`\n",
    "- `str(123)` → Convert number to string\n",
    "- `\"abc\" * 3` → Repeat string: `'abcabcabc'`\n",
    "\n",
    "### ➕ Concatenation & Repetition\n",
    "- `'abc' + '123'` → `'abc123'`\n",
    "- `'abc' * 3` → `'abcabcabc'`\n",
    "\n",
    "### 📏 Length & Copy\n",
    "- `len(s)` → Get string length\n",
    "- `s[:]` → Copy the string\n",
    "\n",
    "### 🧱 Accessing & Slicing\n",
    "- `s[i]`, `s[-1]` → Indexing\n",
    "- `s[i:j]` → Slicing substring\n",
    "- `s[::-1]` → Reverse the string\n",
    "\n",
    "### ✍️ Modifying Strings\n",
    "- Strings are immutable → Use slicing + concatenation\n",
    "- Example: `s = s[:2] + \"X\" + s[3:]`\n",
    "\n",
    "### ⚙️ Cleaning & Reordering\n",
    "- `s.strip()` → Remove leading & trailing whitespace\n",
    "- `s.lstrip()` / `s.rstrip()` → One-side removal\n",
    "- `s.replace(old, new)` → Replace substrings\n",
    "- `s.zfill(width)` → Pad with zeros\n",
    "- `''.join(reversed(s))` → Reverse string\n",
    "\n",
    "### 🔡 Case Conversion\n",
    "- `s.lower()`, `s.upper()`\n",
    "- `s.title()`, `s.capitalize()`\n",
    "- `s.swapcase()` → Swap upper/lower\n",
    "- `s.casefold()` → Aggressive lowercase (for comparisons)\n",
    "\n",
    "### 🔍 String Info & Search\n",
    "- `s.find(sub)` / `s.rfind(sub)` → -1 if not found\n",
    "- `s.index(sub)` / `s.rindex(sub)` → Error if not found\n",
    "- `s.count(sub)` → Count occurrences\n",
    "- `\"sub\" in s` / `\"sub\" not in s` → Boolean check\n",
    "\n",
    "### 🧠 String Checks\n",
    "- `s.isalpha()`, `s.isalnum()`\n",
    "- `s.isdigit()`, `s.isnumeric()`\n",
    "- `s.islower()`, `s.isupper()`\n",
    "- `s.isspace()`, `s.istitle()`\n",
    "\n",
    "### 🔍 Condition Checks\n",
    "- `s.startswith(prefix)`\n",
    "- `s.endswith(suffix)`\n",
    "\n",
    "### 🔁 Looping & Unpacking\n",
    "- `for char in s:` → Iterate each char\n",
    "- `a, b, *rest = s` → Unpacking\n",
    "\n",
    "### 🧪 String Formatting\n",
    "- `f\"My name is {name}\"`\n",
    "- `\"{} {}\".format(a, b)`\n",
    "\n",
    "### ✂️ Splitting Strings\n",
    "- `s.split()` → By whitespace\n",
    "- `s.split(',')` → By delimiter\n",
    "- `s.split(',', 1)` → Split once from left\n",
    "- `s.rsplit(',', 1)` → Split once from right\n",
    "- `s.partition(':')` → Tuple of (before, sep, after)\n",
    "- `s.rpartition(':')` → From right side\n",
    "\n",
    "### 🔗 Joining Strings\n",
    "- `' '.join(['A', 'B'])` → `'A B'`\n",
    "- `''.join(['a','b','c'])` → `'abc'`\n",
    "- `'-'.join('123')` → `'1-2-3'`\n",
    "- `'|'.join(list_of_strings)` → Custom join\n",
    "\n",
    "### 🪄 Other Handy Methods\n",
    "- `ord('A')` → ASCII: 65\n",
    "- `chr(66)` → Character: `'B'`\n"
   ]
  }
 ],
 "metadata": {
  "kernelspec": {
   "display_name": "Python 3",
   "language": "python",
   "name": "python3"
  },
  "language_info": {
   "codemirror_mode": {
    "name": "ipython",
    "version": 3
   },
   "file_extension": ".py",
   "mimetype": "text/x-python",
   "name": "python",
   "nbconvert_exporter": "python",
   "pygments_lexer": "ipython3",
   "version": "3.13.2"
  }
 },
 "nbformat": 4,
 "nbformat_minor": 5
}
