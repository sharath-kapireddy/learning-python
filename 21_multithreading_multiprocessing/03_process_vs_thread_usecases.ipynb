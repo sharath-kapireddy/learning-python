{
 "cells": [
  {
   "cell_type": "markdown",
   "id": "ac445f68",
   "metadata": {},
   "source": [
    "## 🧪 03_process_vs_thread_usecases.py\n",
    "\n",
    "This section demonstrates the difference between using **Processes** and **Threads** in Python, along with appropriate use cases.\n",
    "\n",
    "### 🔹 Process\n",
    "- Independent memory space  \n",
    "- Suitable for **CPU-bound** tasks  \n",
    "- Better **fault isolation**  \n",
    "\n",
    "### 🔹 Thread\n",
    "- Shared memory space  \n",
    "- Suitable for **I/O-bound** tasks  \n",
    "- Lightweight and faster **context switching**  \n",
    "\n",
    "**Use the right tool for the job:**\n",
    "- Use **threads** for tasks like network calls, file I/O, or sleep delays.\n",
    "- Use **processes** for tasks like image processing, simulations, or heavy computation.\n"
   ]
  },
  {
   "cell_type": "code",
   "execution_count": null,
   "id": "dd14fd86",
   "metadata": {},
   "outputs": [
    {
     "name": "stdout",
     "output_type": "stream",
     "text": [
      "\n",
      "🧵 Running I/O-bound with Threads\n",
      "[IO] Start Thread-1\n",
      "[IO] Start Thread-2\n",
      "[IO] Done Thread-1\n",
      "[IO] Done Thread-2\n",
      "⏱️ Total Time (Threads): 2.01 sec\n",
      "\n",
      "🧠 Running CPU-bound with Processes\n",
      "⏱️ Total Time (Processes): 0.88 sec\n"
     ]
    }
   ],
   "source": [
    "\n",
    "import time\n",
    "import threading\n",
    "import multiprocessing\n",
    "\n",
    "\n",
    "# ▶️ CPU-bound Task (e.g., number crunching)\n",
    "def cpu_bound_task(name):\n",
    "    print(f\"[CPU] Start {name}\")\n",
    "    count = 0\n",
    "    for i in range(10**7):\n",
    "        count += i\n",
    "    print(f\"[CPU] Done {name}\")\n",
    "\n",
    "\n",
    "# ▶️ I/O-bound Task (e.g., network/file/delay)\n",
    "def io_bound_task(name):\n",
    "    print(f\"[IO] Start {name}\")\n",
    "    time.sleep(2)\n",
    "    print(f\"[IO] Done {name}\")\n",
    "\n",
    "\n",
    "def run_with_threads():\n",
    "    t1 = threading.Thread(target=io_bound_task, args=(\"Thread-1\",))\n",
    "    t2 = threading.Thread(target=io_bound_task, args=(\"Thread-2\",))\n",
    "    t1.start()\n",
    "    t2.start()\n",
    "    t1.join()\n",
    "    t2.join()\n",
    "\n",
    "\n",
    "def run_with_processes():\n",
    "    p1 = multiprocessing.Process(target=cpu_bound_task, args=(\"Process-1\",))\n",
    "    p2 = multiprocessing.Process(target=cpu_bound_task, args=(\"Process-2\",))\n",
    "    p1.start()\n",
    "    p2.start()\n",
    "    p1.join()\n",
    "    p2.join()\n",
    "\n",
    "\n",
    "if __name__ == \"__main__\":\n",
    "    print(\"\\n🧵 Running I/O-bound with Threads\")\n",
    "    start = time.time()\n",
    "    run_with_threads()\n",
    "    print(f\"⏱️ Total Time (Threads): {time.time() - start:.2f} sec\")\n",
    "\n",
    "    print(\"\\n🧠 Running CPU-bound with Processes\")\n",
    "    start = time.time()\n",
    "    run_with_processes()\n",
    "    print(f\"⏱️ Total Time (Processes): {time.time() - start:.2f} sec\")\n"
   ]
  },
  {
   "cell_type": "markdown",
   "id": "1c5f942d",
   "metadata": {},
   "source": [
    "## 🧩 Process vs Thread — Use Cases in Python\n",
    "\n",
    "| Feature       | Thread                  | Process                  |\n",
    "|---------------|--------------------------|---------------------------|\n",
    "| Memory        | Shared (same process)    | Separate                 |\n",
    "| Suitable for  | I/O-bound tasks          | CPU-bound tasks          |\n",
    "| Overhead      | Low                      | High                     |\n",
    "| Crash Impact  | Affects all threads      | Isolated                 |\n",
    "\n",
    "### 🧵 Threads\n",
    "- Use when waiting for I/O (file, network).\n",
    "- Lightweight, faster to create.\n",
    "\n",
    "### 🧠 Processes\n",
    "- Use for parallel CPU computations.\n",
    "- True parallelism with multiple cores.\n"
   ]
  }
 ],
 "metadata": {
  "kernelspec": {
   "display_name": "Python 3",
   "language": "python",
   "name": "python3"
  },
  "language_info": {
   "codemirror_mode": {
    "name": "ipython",
    "version": 3
   },
   "file_extension": ".py",
   "mimetype": "text/x-python",
   "name": "python",
   "nbconvert_exporter": "python",
   "pygments_lexer": "ipython3",
   "version": "3.13.2"
  }
 },
 "nbformat": 4,
 "nbformat_minor": 5
}
