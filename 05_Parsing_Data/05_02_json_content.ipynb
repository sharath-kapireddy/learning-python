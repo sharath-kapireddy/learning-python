{
 "cells": [
  {
   "cell_type": "markdown",
   "id": "4f9b05e3",
   "metadata": {},
   "source": [
    "# json\n",
    "json module is a built-in Python library that provides functionality for working with JSON (JavaScript Object Notation) data\n",
    "\n",
    "- The json module allows you to:\n",
    "    - Parse JSON strings into Python objects: This process is called deserialization or decoding. `loads()`\n",
    "    - Convert Python objects into JSON strings: This process is called serialization or encoding. `dumps()`\n",
    "\n",
    "- **Main methods:**\n",
    "    - **`json.loads(json_string)`:** Loads from a string (JSON string to Python object - Deserialization).\n",
    "    - **`json.dumps(python_object)`:** Dumps to a string (Python object to JSON string - Serialization).\n",
    "\n",
    "### The json.loads() Method\n",
    "- **Purpose:** The `json.loads()` method is used to parse a JSON string and convert it into a Python object.\n",
    "- **Input:** It takes a single argument, which is a string containing valid JSON data.\n",
    "- **Output:** It returns a Python object corresponding to the JSON structure. This object will typically be a `dictionary` (for JSON objects), a `list` (for JSON arrays), a `string` (for JSON strings), a `number` (for JSON numbers), or a `boolean`/`None` (for JSON booleans/null).\n",
    "- **Error Handling:** If the input string is not valid JSON, `json.loads()` will raise a `json.JSONDecodeError`. It's good practice to wrap calls to json.loads() in a try...except block to handle potential parsing errors.\n",
    "\n",
    "\n",
    "### The json.dumps() Method\n",
    "\n",
    "- **Purpose:** The json.dumps() method is used to convert a Python object into a JSON formatted string.\n",
    "- **Input:** It takes a Python object as its primary argument. This object can be a dictionary, list, tuple, string, number, boolean, or None.\n",
    "- **Output:** It returns a string representation of the Python object in JSON format.\n",
    "- **Optional Arguments:** json.dumps() accepts several optional arguments to control the formatting of the output JSON string, such as:\n",
    "    - **indent:** Specifies the number of spaces to use for indentation, making the JSON output more readable (pretty-printed).\n",
    "    - **sort_keys:** If set to True, the keys of dictionaries in the output JSON will be sorted alphabetically.\n",
    "    - **separators:** A tuple specifying the separator for item pairs and the separator between items (e.g., (',', ': ') for a more compact output).\n",
    "\n",
    "\n"
   ]
  },
  {
   "cell_type": "code",
   "execution_count": null,
   "id": "5ae94d6c",
   "metadata": {},
   "outputs": [
    {
     "name": "stdout",
     "output_type": "stream",
     "text": [
      "Name: Alice\n",
      "Age: 30\n",
      "City: New York\n",
      "Is Student: False\n",
      "Courses: ['Math', 'Science', 'History'] \n",
      "Courses: Math, Science, History\n",
      "Street: 123 Main St\n",
      "Zipcode: 10001\n",
      "\n",
      "Python Dictionary as JSON:\n",
      "{\n",
      "    \"company\": \"Tech Innovations\",\n",
      "    \"founded\": 2020,\n",
      "    \"employees\": 150\n",
      "}\n"
     ]
    }
   ],
   "source": [
    "import json\n",
    "\n",
    "# Sample JSON string\n",
    "json_string = '''\n",
    "{\n",
    "  \"name\": \"Alice\",\n",
    "  \"age\": 30,\n",
    "  \"city\": \"New York\",\n",
    "  \"isStudent\": false,\n",
    "  \"courses\": [\"Math\", \"Science\", \"History\"],\n",
    "  \"address\": {\n",
    "    \"street\": \"123 Main St\",\n",
    "    \"zipcode\": \"10001\"\n",
    "  }\n",
    "}\n",
    "'''\n",
    "\n",
    "try:\n",
    "    # Parse the JSON string into a Python dictionary\n",
    "    data = json.loads(json_string)\n",
    "\n",
    "    print(f\"Name: {data[\"name\"]}\")\n",
    "    print(f\"Age: {data[\"age\"]}\")\n",
    "    print(f\"City: {data[\"city\"]}\")\n",
    "    print(f\"Is Student: {data[\"isStudent\"]}\")\n",
    "    print(f\"Courses: {data[\"courses\"]} \")\n",
    "    print(f\"Courses: {', '.join(data[\"courses\"])}\")\n",
    "    print(f\"Street: {data[\"address\"][\"street\"]}\")\n",
    "    print(f\"Zipcode: {data[\"address\"][\"zipcode\"]}\")\n",
    "\n",
    "except json.JSONDecodeError as e:\n",
    "    print(f\"Error decoding JSON: {e}\")\n",
    "\n",
    "# Example of converting a Python dictionary back to a JSON string\n",
    "python_dict = {\n",
    "    \"company\": \"Tech Innovations\",\n",
    "    \"founded\": 2020,\n",
    "    \"employees\": 150\n",
    "}\n",
    "\n",
    "json_output = json.dumps(python_dict, indent=4) # indent for pretty printing\n",
    "print(\"\\nPython Dictionary as JSON:\")\n",
    "print(json_output)"
   ]
  }
 ],
 "metadata": {
  "kernelspec": {
   "display_name": "Python 3",
   "language": "python",
   "name": "python3"
  },
  "language_info": {
   "codemirror_mode": {
    "name": "ipython",
    "version": 3
   },
   "file_extension": ".py",
   "mimetype": "text/x-python",
   "name": "python",
   "nbconvert_exporter": "python",
   "pygments_lexer": "ipython3",
   "version": "3.13.2"
  }
 },
 "nbformat": 4,
 "nbformat_minor": 5
}
