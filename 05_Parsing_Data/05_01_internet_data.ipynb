{
 "cells": [
  {
   "cell_type": "markdown",
   "id": "78e69c54",
   "metadata": {},
   "source": [
    "# Example: Retrieving data from internet"
   ]
  },
  {
   "cell_type": "code",
   "execution_count": 1,
   "id": "52dbb89c",
   "metadata": {},
   "outputs": [
    {
     "name": "stdout",
     "output_type": "stream",
     "text": [
      "result code:  200\n",
      "b'<!doctype html><html itemscope=\"\" itemtype=\"http://schema.org/WebPage\" lang=\"en-IN\"><head><meta content=\"text/html; charset=UTF-8\" http-equiv=\"Content-Type\"><meta content=\"/images/branding/googleg/1x/googleg_standard_color_128dp.png\" itemprop=\"image\"><title>Google</title><script nonce=\"unkmrpnqBk1KwwlOY9svvQ\">(function(){var _g={kEI:\\'b7QEaKzWK8_15OUP26ns6AY\\',kEXPI:\\'0,18168,184624,3497491,666,435,503817,34844,85211,9707,344796,94242,153077,42725,11106,5230575,107,87,32768739,4043710,25240237,3482'\n"
     ]
    }
   ],
   "source": [
    "import urllib.request # instead of urllib2 like in Python 2.7\n",
    "\n",
    "def main():\n",
    "    # open a connection to a URL using urllib2\n",
    "    webUrl = urllib.request.urlopen(\"http://www.google.com\")\n",
    "    \n",
    "    # get the result code and print it\n",
    "    print (\"result code: \", webUrl.getcode())\n",
    "    \n",
    "    # read the data from the URL and print it\n",
    "    data = webUrl.read()\n",
    "    print (data[:500])\n",
    "\n",
    "main()"
   ]
  },
  {
   "cell_type": "markdown",
   "id": "878ed925",
   "metadata": {},
   "source": [
    "## Same Example using context manager protocol (with block)"
   ]
  },
  {
   "cell_type": "code",
   "execution_count": 2,
   "id": "3d9caf21",
   "metadata": {},
   "outputs": [
    {
     "name": "stdout",
     "output_type": "stream",
     "text": [
      "Attempting to open connection to: http://www.google.com\n",
      "Result Code: 200\n",
      "\n",
      "--- Content of the Web Page ---\n",
      "<!doctype html><html itemscope=\"\" itemtype=\"http://schema.org/WebPage\" lang=\"en-IN\"><head><meta content=\"text/html; charset=UTF-8\" http-equiv=\"Content-Type\"><meta content=\"/images/branding/googleg/1x/googleg_standard_color_128dp.png\" itemprop=\"image\"><title>Google</title><script nonce=\"jUFK5571ALMBbcsy0huVCQ\">(function(){var _g={kEI:'dLQEaJHCMvrF5OUPqbu48Qw',kEXPI:'0,202791,3497477,171,945,538661,48791,30022,16105,344796,249733,40311,11106,5230575,107,86,36812450,25240237,126712,7147,6963,11948,...\n"
     ]
    }
   ],
   "source": [
    "# -*- coding: utf-8 -*-\n",
    "\n",
    "# Import the `urllib.request` module\n",
    "import urllib.request\n",
    "\n",
    "def main():\n",
    "    try:\n",
    "        # Define the URL to access\n",
    "        url = \"http://www.google.com\"\n",
    "\n",
    "        # Open a connection to the URL using urllib.request.urlopen\n",
    "        print(f\"Attempting to open connection to: {url}\")\n",
    "        with urllib.request.urlopen(url) as webUrl:\n",
    "            # Get the HTTP result code and print it\n",
    "            result_code = webUrl.getcode()\n",
    "            print(f\"Result Code: {result_code}\")\n",
    "\n",
    "            # Check if the request was successful (HTTP status code 200)\n",
    "            if result_code == 200:\n",
    "                # Read the data from the URL\n",
    "                data = webUrl.read().decode('utf-8') # Decode bytes to string\n",
    "                print(\"\\n--- Content of the Web Page ---\")\n",
    "                # Print a snippet of the data to avoid overwhelming output\n",
    "                print(data[:500] + \"...\" if len(data) > 500 else data)\n",
    "            else:\n",
    "                print(f\"Failed to retrieve content. HTTP status code: {result_code}\")\n",
    "\n",
    "    except urllib.error.URLError as e:\n",
    "        print(f\"Error accessing URL: {e}\")\n",
    "    except Exception as e:\n",
    "        print(f\"An unexpected error occurred: {e}\")\n",
    "\n",
    "main()"
   ]
  }
 ],
 "metadata": {
  "kernelspec": {
   "display_name": "Python 3",
   "language": "python",
   "name": "python3"
  },
  "language_info": {
   "codemirror_mode": {
    "name": "ipython",
    "version": 3
   },
   "file_extension": ".py",
   "mimetype": "text/x-python",
   "name": "python",
   "nbconvert_exporter": "python",
   "pygments_lexer": "ipython3",
   "version": "3.13.2"
  }
 },
 "nbformat": 4,
 "nbformat_minor": 5
}
