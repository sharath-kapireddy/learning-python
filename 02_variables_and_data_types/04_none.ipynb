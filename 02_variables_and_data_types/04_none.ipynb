{
 "cells": [
  {
   "cell_type": "markdown",
   "id": "ca3d0af3",
   "metadata": {},
   "source": [
    "## **None**\n",
    "\n",
    "**`None` is a special singleton object in Python used to represent the absence of a value or a null value. Its type is `NoneType`.**\n",
    "\n",
    "**In Python, `None` is a special constant that represents the absence of a value or a null value. It's an object of its own data type, `NoneType`. Think of it as Python's way of saying \"nothing here.\"**\n",
    "\n",
    "Here's why it's used:\n",
    "- **Default Return Value**: Functions that don't explicitly use a `return` statement to send back a value automatically return `None`. You saw this in the example code with `print(fn1())`.\n",
    "- **Optional Arguments**: It's often used as a default value for function arguments when you want to signify that the argument wasn't provided by the caller. The function can then check `if argument is None:` to see if a value was passed.\n",
    "- **Placeholders**: Sometimes `None` is used to initialize a variable before it's assigned a meaningful value later in the code.\n",
    "- **Signaling Absence**: It's commonly used to indicate that a value isn't present or a condition hasn't been met, distinct from values like `0`, `False`, or an empty string (`\"\"`), which might be valid data in some contexts.\n",
    "\n",
    "> Essentially, `None` provides a clear and unambiguous way to represent \"no value.\"\n",
    "\n",
    "---\n",
    "\n",
    "### **Comparison with Other Values**\n",
    "\n",
    "- `None` is **not equal to** `0`, `False`, or an empty string (`\"\"`). \n",
    "- You should use the `is` operator to compare against `None` (e.g., `if variable is None:`) instead of `==`, since `None` is a singleton object.\n",
    "\n",
    "---\n"
   ]
  },
  {
   "cell_type": "code",
   "execution_count": 1,
   "id": "001632b1",
   "metadata": {},
   "outputs": [
    {
     "name": "stdout",
     "output_type": "stream",
     "text": [
      "None\n",
      "Hello, stranger!\n",
      "Hello, Alice!\n",
      "False\n",
      "False\n",
      "False\n",
      "x is None\n"
     ]
    }
   ],
   "source": [
    "# -------------------------\n",
    "# Example of None in Python\n",
    "# -------------------------\n",
    "\n",
    "# Function with no return (implicitly returns None)\n",
    "def fn1():\n",
    "    pass\n",
    "\n",
    "# Default argument value of None\n",
    "def greet(name=None):\n",
    "    if name is None:\n",
    "        return \"Hello, stranger!\"\n",
    "    return f\"Hello, {name}!\"\n",
    "\n",
    "# Assigning None as a placeholder\n",
    "x = None\n",
    "\n",
    "print(fn1())  # Output: None (default return value of fn1())\n",
    "print(greet())  # Output: Hello, stranger! (No argument passed)\n",
    "print(greet(\"Alice\"))  # Output: Hello, Alice! (Argument passed)\n",
    "\n",
    "# -------------------------\n",
    "# Comparison with other values\n",
    "# -------------------------\n",
    "\n",
    "# None is not equal to False, 0, or \"\"\n",
    "print(None == False)  # Output: False\n",
    "print(None == 0)  # Output: False\n",
    "print(None == \"\")  # Output: False\n",
    "\n",
    "# Correct way to check for None\n",
    "if x is None:\n",
    "    print(\"x is None\")  # Output: x is None\n"
   ]
  }
 ],
 "metadata": {
  "kernelspec": {
   "display_name": "Python 3",
   "language": "python",
   "name": "python3"
  },
  "language_info": {
   "codemirror_mode": {
    "name": "ipython",
    "version": 3
   },
   "file_extension": ".py",
   "mimetype": "text/x-python",
   "name": "python",
   "nbconvert_exporter": "python",
   "pygments_lexer": "ipython3",
   "version": "3.13.2"
  }
 },
 "nbformat": 4,
 "nbformat_minor": 5
}
