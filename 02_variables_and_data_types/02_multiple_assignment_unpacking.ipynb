{
 "cells": [
  {
   "cell_type": "markdown",
   "id": "d030bd2f",
   "metadata": {},
   "source": [
    "### Multiple Assignment and Iterable Unpacking in Python\n",
    "In Python, multiple assignment allows you to assign values to multiple variables in a single statement. Iterable unpacking is a more advanced form where you unpack elements from an iterable (like a list or tuple) into separate variables.\n",
    "\n",
    "### Key Concepts:\n",
    "- **Basic Multiple Assignment**: Assigning multiple variables from a sequence.\n",
    "- **Swapping Variables**: Efficiently swapping variable values.\n",
    "- **Iterable Unpacking**: Unpacking elements from an iterable (e.g., lists, tuples).\n",
    "- **Extended Unpacking**: Using the `*` operator to capture remaining elements.\n",
    "\n",
    "---\n",
    "\n",
    "**Examples**"
   ]
  },
  {
   "cell_type": "code",
   "execution_count": 3,
   "id": "aa002147",
   "metadata": {},
   "outputs": [
    {
     "name": "stdout",
     "output_type": "stream",
     "text": [
      "[1, 2] ['abc', 'xyz'] [None, ' ']\n",
      "20 10\n",
      "1\n",
      "[2, 3, 4]\n",
      "John 30\n",
      "Hello, John! You are 30 years old.\n"
     ]
    }
   ],
   "source": [
    "# -------------------------\n",
    "# Basic Multiple Assignment\n",
    "# -------------------------\n",
    "\n",
    "num, other, ec = [1,2], [\"abc\",\"xyz\"], [None, \" \"]\n",
    "\n",
    "# Explanation:\n",
    "# - The right-hand side is unpacked as a tuple: ([], [], [])\n",
    "# - The values are assigned to the corresponding variables\n",
    "print(num, other, ec)  # Output: [] [] []\n",
    "\n",
    "# -------------------------\n",
    "# Swapping Variables\n",
    "# -------------------------\n",
    "\n",
    "a, b = 10, 20\n",
    "a, b = b, a  # swapping\n",
    "\n",
    "print(a, b)  # Output: 20 10\n",
    "\n",
    "# -------------------------\n",
    "# Extended Unpacking with *rest\n",
    "# -------------------------\n",
    "\n",
    "first, *rest = [1, 2, 3, 4]\n",
    "\n",
    "print(first)  # Output: 1\n",
    "print(rest)   # Output: [2, 3, 4]\n",
    "\n",
    "# -------------------------\n",
    "# Unpacking a Dictionary\n",
    "# -------------------------\n",
    "\n",
    "person = {\"name\": \"John\", \"age\": 30}\n",
    "name, age = person.values()\n",
    "print(name, age)  # Output: John 30\n",
    "\n",
    "# -------------------------\n",
    "# Using ** to unpack the dictionary into the function arguments\n",
    "#       - The ** operator would be used if you were unpacking a dictionary into keyword arguments, such as when passing arguments to a function. Here's an example of that:\n",
    "# -------------------------\n",
    "def greet(name, age):\n",
    "    print(f\"Hello, {name}! You are {age} years old.\")\n",
    "\n",
    "person = {\"name\": \"John\", \"age\": 30}\n",
    "\n",
    "# Using ** to unpack the dictionary into the function arguments\n",
    "greet(**person)  # Output: Hello, John! You are 30 years old.\n",
    "\n"
   ]
  },
  {
   "cell_type": "markdown",
   "id": "caf7c786",
   "metadata": {},
   "source": [
    "##### Python doesn't allow commas in numbers directly.\n",
    "Using a comma within numeric values can lead to confusion, as it gets interpreted as an element separator in a tuple. This is why Python doesn't allow commas in numbers directly.\n",
    "\n",
    "To represent large numbers more clearly, it's common practice to use an underscore _ as a visual separator for readability.\n"
   ]
  },
  {
   "cell_type": "code",
   "execution_count": 4,
   "id": "c3eef1db",
   "metadata": {},
   "outputs": [
    {
     "name": "stdout",
     "output_type": "stream",
     "text": [
      "(1, 500)\n",
      "1500\n"
     ]
    }
   ],
   "source": [
    "x = 1,500  # Incorrect usage - the comma is interpreted as a delimiter\n",
    "print(x)    # Output: (1, 500) - Returns a tuple with two elements: 1 and 50\n",
    "\n",
    "x = 1_500  # Correct usage - underscores used for clarity\n",
    "print(x)   # Output: 1500 - Represents the number 1050 without a tuple\n"
   ]
  }
 ],
 "metadata": {
  "kernelspec": {
   "display_name": "Python 3",
   "language": "python",
   "name": "python3"
  },
  "language_info": {
   "codemirror_mode": {
    "name": "ipython",
    "version": 3
   },
   "file_extension": ".py",
   "mimetype": "text/x-python",
   "name": "python",
   "nbconvert_exporter": "python",
   "pygments_lexer": "ipython3",
   "version": "3.13.2"
  }
 },
 "nbformat": 4,
 "nbformat_minor": 5
}
