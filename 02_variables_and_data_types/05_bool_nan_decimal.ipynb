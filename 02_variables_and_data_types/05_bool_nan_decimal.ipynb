{
 "cells": [
  {
   "cell_type": "markdown",
   "id": "c04b7329",
   "metadata": {},
   "source": [
    "### bool() \n",
    "\n",
    "**🟡 Evaluates to False in Python:**\n",
    "- None\n",
    "- False\n",
    "- 0, 0.0, 0j (all zeroes across numeric types)\n",
    "- '' (empty string)\n",
    "- [] (empty list)\n",
    "- {} (empty dict)\n",
    "- set() (empty set)\n",
    "- () (empty tuple)\n",
    "- range(0)\n",
    "These are all considered falsy.\n",
    "\n",
    "**🟢 Everything else evaluates to True, including:**\n",
    "- Non-zero numbers (like 1, -1, 3.14)\n",
    "- Non-empty strings (\"abc\")\n",
    "- Non-empty containers ([1], {'a':1}, (0,))\n",
    "- Custom objects (unless they override __bool__ or __len__ to return False)\n",
    "\n",
    "**Example:**"
   ]
  },
  {
   "cell_type": "code",
   "execution_count": 1,
   "id": "b8ee9acd",
   "metadata": {},
   "outputs": [
    {
     "name": "stdout",
     "output_type": "stream",
     "text": [
      "True\n",
      "True\n",
      "-------\n",
      "False\n",
      "False\n",
      "False\n",
      "False\n",
      "--------------\n",
      "1\n",
      "True\n",
      "True\n",
      "['a', 'b', 'c']\n"
     ]
    }
   ],
   "source": [
    "# ✅ Truthy values\n",
    "print(bool(1))       # True: non-zero integer\n",
    "print(bool(\" \"))     # True: non-empty string (even just space)\n",
    "\n",
    "print(\"-------\")\n",
    "\n",
    "# ❌ Falsy values\n",
    "print(bool(0))       # False: zero is falsy\n",
    "print(bool(False))   # False: explicitly False\n",
    "print(bool(\"\"))      # False: empty string\n",
    "print(bool(None))    # False: None is falsy\n",
    "\n",
    "print(\"--------------\")\n",
    "\n",
    "# ✅ Converting bool to int\n",
    "# bool(-1) is True (since -1 is non-zero)\n",
    "print(int(bool(-1)))  # 1\n",
    "\n",
    "# ✅ Comparing boolean and integer values\n",
    "print(True == 1)       # True: True is equivalent to integer 1\n",
    "print(bool(-1) == 1)   # True: bool(-1) is True, which equals 1\n",
    "\n",
    "# ✅ Converting string to list of characters\n",
    "print(list(\"abc\"))     # ['a', 'b', 'c']\n"
   ]
  },
  {
   "cell_type": "markdown",
   "id": "aacb38b5",
   "metadata": {},
   "source": [
    "### NaN\n",
    "- in Python, NaN (Not a Number) is specifically a floating-point concept and only occurs with float types.\n",
    "- It's a special floating-point value used to represent **missing, undefined, or unrepresentable** values\n",
    "    - NaN comes from the IEEE 754 floating-point standard.\n",
    "    - It does not exist for integers, strings, or other data types.\n",
    "    - Even if you try to assign or compare NaN to an int, it still gets treated as a float.\n",
    "\n",
    "- NaN is needed in floating-point math to represent undefined or missing values, like:\n",
    "    - 0.0 / 0.0\n",
    "    - log(-1.0)\n",
    "    - sqrt(-1.0)"
   ]
  },
  {
   "cell_type": "code",
   "execution_count": 2,
   "id": "4b0c2a28",
   "metadata": {},
   "outputs": [
    {
     "name": "stdout",
     "output_type": "stream",
     "text": [
      "True\n",
      "True\n"
     ]
    }
   ],
   "source": [
    "# Create NaN\n",
    "# 1. Using float\n",
    "nan_val1 = float('nan')\n",
    "\n",
    "# 2. Using Numpy\n",
    "import numpy as np\n",
    "nan_val2 = np.nan\n",
    "\n",
    "import math\n",
    "# How to check for NaN\n",
    "print(math.isnan(nan_val1)) # True\n",
    "print(np.isnan(nan_val2))   # True\n"
   ]
  },
  {
   "cell_type": "markdown",
   "id": "a0b321e9",
   "metadata": {},
   "source": [
    "### decimal module\n",
    "\n",
    "#### ⚠️ Issue with float\n",
    "- float() / floating-point numbers use binary floating-point representation, which makes operations fast, but potentially imprecise.\n",
    "- This can lead to rounding errors in arithmetic, especially with decimal fractions. So, float is not recommended in use cases where precision is critical.\n",
    "\n",
    "**🚫 Avoid float in the following scenarios:**\n",
    "- 💰 Financial applications (e.g. banking, POS systems)\n",
    "- 📊 High-precision arithmetic\n",
    "- 🔬 Scientific computing (when accuracy is more important than speed)\n",
    "- ✅ When you need to avoid rounding issues\n",
    "\n",
    "**Example**\n",
    "```python\n",
    "print(0.1 + 0.2 == 0.3) # False\n",
    "print(0.1 + 0.2)  # Outputs: 0.30000000000000004\n",
    "```\n",
    "\n",
    "---\n",
    "\n",
    "#### decimal module to the rescue\n",
    "\n",
    "The decimal module in Python is super useful when you need precise decimal arithmetic, especially in scenarios where floating-point inaccuracies just won't do — like financial applications, accounting, or currency calculations.\n",
    "\n",
    "Decimal (Decimal)\n",
    "Slower, but high precision\n",
    "Uses decimal arithmetic\n",
    "Accurate rounding and math\n",
    "\n",
    "**Example**"
   ]
  },
  {
   "cell_type": "code",
   "execution_count": 4,
   "id": "5042488b",
   "metadata": {},
   "outputs": [
    {
     "name": "stdout",
     "output_type": "stream",
     "text": [
      "1.1\n",
      "1.100000000000000088817841970012523233890533447265625\n",
      "10\n",
      "0.333333\n",
      "0.40\n",
      "0.20\n",
      "0.60\n",
      "0.15\n",
      "True\n",
      "False\n",
      "2.68\n"
     ]
    }
   ],
   "source": [
    "# 📦 Importing Decimal tools\n",
    "from decimal import Decimal, getcontext, ROUND_HALF_UP\n",
    "\n",
    "# ----------------------------------------\n",
    "# 🧱 Creating Decimals\n",
    "# ----------------------------------------\n",
    "\n",
    "# ✅ Accurate decimal from string\n",
    "d1 = Decimal('1.1')\n",
    "print(d1)  # 1.1\n",
    "\n",
    "# ⚠️ Inaccurate decimal from float (not recommended)\n",
    "d2 = Decimal(1.1)\n",
    "print(d2)  # 1.100000000000000088817841970...\n",
    "\n",
    "# ✅ Decimal from integer is fine\n",
    "d3 = Decimal(10)\n",
    "print(d3)  # 10\n",
    "\n",
    "# ----------------------------------------\n",
    "# 🔧 Setting Global Precision\n",
    "# ----------------------------------------\n",
    "\n",
    "getcontext().prec = 6  # Sets precision to 6 significant digits\n",
    "\n",
    "# Shows effect of precision on division\n",
    "result = Decimal('1') / Decimal('3')\n",
    "print(result)  # 0.333333\n",
    "\n",
    "# ----------------------------------------\n",
    "# ➕ Arithmetic with Decimals\n",
    "# ----------------------------------------\n",
    "\n",
    "a = Decimal('0.10')\n",
    "b = Decimal('0.30')\n",
    "\n",
    "print(a + b)             # 0.40\n",
    "print(b - a)             # 0.20\n",
    "print(b * 2)             # 0.60\n",
    "print(b / Decimal('2'))  # 0.15\n",
    "\n",
    "# ----------------------------------------\n",
    "# 🧪 Comparisons\n",
    "# ----------------------------------------\n",
    "\n",
    "# Accurate comparison using Decimal\n",
    "print(Decimal('0.1') + Decimal('0.2') == Decimal('0.3'))  # ✅ True\n",
    "\n",
    "# Inaccurate comparison using float\n",
    "print(0.1 + 0.2 == 0.3)  # ❌ False\n",
    "\n",
    "# ----------------------------------------\n",
    "# 🎯 Rounding using quantize()\n",
    "# ----------------------------------------\n",
    "\n",
    "rounded = Decimal('2.675').quantize(\n",
    "    Decimal('0.01'),\n",
    "    rounding=ROUND_HALF_UP\n",
    ")\n",
    "print(rounded)  # 2.68\n"
   ]
  },
  {
   "cell_type": "markdown",
   "id": "99761d5c",
   "metadata": {},
   "source": [
    "**Notes**\n",
    "- Always prefer strings when creating Decimals.\n",
    "- Slower than float, but accuracy is worth it for finance.\n",
    "- Can be used safely with int, not with float.\n",
    "\n",
    "**Rounding Modes**\n",
    "| Rounding Mode      | Description                          |\n",
    "|--------------------|--------------------------------------|\n",
    "| `ROUND_HALF_UP`    | Rounds away from zero on 0.5         |\n",
    "| `ROUND_HALF_EVEN`  | \"Bankers' rounding\" (default)        |\n",
    "| `ROUND_DOWN`       | Truncates toward zero                |\n",
    "| `ROUND_UP`         | Rounds away from zero                |\n",
    "\n",
    "\n"
   ]
  }
 ],
 "metadata": {
  "kernelspec": {
   "display_name": "Python 3",
   "language": "python",
   "name": "python3"
  },
  "language_info": {
   "codemirror_mode": {
    "name": "ipython",
    "version": 3
   },
   "file_extension": ".py",
   "mimetype": "text/x-python",
   "name": "python",
   "nbconvert_exporter": "python",
   "pygments_lexer": "ipython3",
   "version": "3.13.2"
  }
 },
 "nbformat": 4,
 "nbformat_minor": 5
}
