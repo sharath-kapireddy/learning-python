{
 "cells": [
  {
   "cell_type": "markdown",
   "id": "814ac7df",
   "metadata": {},
   "source": [
    "## Variables and Assignment in Python\n",
    "\n",
    "In Python, variables are used to store values that can be referenced and manipulated throughout your code. Variable assignment is the process of assigning a value to a variable name. Understanding how variables and assignment work is fundamental to writing Python code.\n",
    "\n",
    "### Key Concepts:\n",
    "1. **Variable Assignment**: Assigning a value to a variable using the `=` operator.\n",
    "2. **Dynamic Typing**: Python variables do not require explicit type declaration; the type is inferred at runtime.\n",
    "3. **Re-assigning Variables**: Variables can be reassigned to different values or types.\n",
    "4. **Multiple Assignment**: Python allows multiple variables to be assigned in a single line, simplifying the code.\n",
    "5. **Strongly Typed**: Python is a strongly typed language. While you don't need to declare variable types explicitly, the interpreter enforces type consistency during operations. Attempting to perform an invalid operation on incompatible types will result in a TypeError.\n",
    "\n",
    "---\n",
    "\n"
   ]
  },
  {
   "cell_type": "code",
   "execution_count": 2,
   "id": "22ce224d",
   "metadata": {},
   "outputs": [
    {
     "name": "stdout",
     "output_type": "stream",
     "text": [
      "10 Hello [1, 2, 3]\n",
      "This is a string\n",
      "[1, 2, 3]\n",
      "5 Python [1, 2, 3]\n",
      "20 10\n"
     ]
    }
   ],
   "source": [
    "# -------------------------\n",
    "# Variable Assignment\n",
    "# -------------------------\n",
    "\n",
    "x = 10  # Assigning an integer value\n",
    "y = \"Hello\"  # Assigning a string value\n",
    "z = [1, 2, 3]  # Assigning a list\n",
    "\n",
    "# Output the values of variables\n",
    "print(x, y, z)  # Output: 10 Hello [1, 2, 3]\n",
    "\n",
    "# -------------------------\n",
    "# Dynamic Typing\n",
    "# -------------------------\n",
    "\n",
    "# Re-assigning variable x to a string\n",
    "x = \"This is a string\"\n",
    "print(x)  # Output: This is a string\n",
    "\n",
    "# Re-assigning variable y to a list\n",
    "y = [1, 2, 3]\n",
    "print(y)  # Output: [1, 2, 3]\n",
    "\n",
    "# -------------------------\n",
    "# Multiple Assignment\n",
    "# -------------------------\n",
    "\n",
    "# Assigning multiple variables in one line\n",
    "a, b, c = 5, \"Python\", [1, 2, 3]\n",
    "print(a, b, c)  # Output: 5 Python [1, 2, 3]\n",
    "\n",
    "# -------------------------\n",
    "# Swapping Variables\n",
    "# -------------------------\n",
    "\n",
    "# Swapping values of variables in Python\n",
    "a, b = 10, 20\n",
    "a, b = b, a  # Swapping\n",
    "print(a, b)  # Output: 20 10\n"
   ]
  }
 ],
 "metadata": {
  "kernelspec": {
   "display_name": "Python 3",
   "language": "python",
   "name": "python3"
  },
  "language_info": {
   "codemirror_mode": {
    "name": "ipython",
    "version": 3
   },
   "file_extension": ".py",
   "mimetype": "text/x-python",
   "name": "python",
   "nbconvert_exporter": "python",
   "pygments_lexer": "ipython3",
   "version": "3.13.2"
  }
 },
 "nbformat": 4,
 "nbformat_minor": 5
}
