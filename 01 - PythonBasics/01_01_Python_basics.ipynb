{
 "cells": [
  {
   "cell_type": "markdown",
   "id": "7424ea53",
   "metadata": {},
   "source": [
    "# Introduction\n",
    "## Understanding Python and its Tools\n",
    "\n",
    "This section provides a concise overview of essential Python commands and concepts for beginners.\n",
    "\n",
    "**Checking Python Version:**\n",
    "\n",
    "* To check the installed Python version, you can use either of the following commands in your command line or terminal:\n",
    "    ```\n",
    "    python --version\n",
    "    py --version\n",
    "    ```\n",
    "    The `python` command is commonly used, while `py` is a Windows-specific launcher that can be helpful if you have multiple Python versions installed.\n",
    "\n",
    "**Python is a strongly typed language**\n",
    "- It's important to note that Python is a **strongly typed language**, meaning that variables do have a type, and the type matters during operations.  \n",
    "- Even though you don't have to explicitly declare the type of a variable before using it, **Python will enforce type consistency at runtime, preventing unexpected behavior.**\n",
    "\n",
    " **Python as an Interpreted Language:**\n",
    "\n",
    "* Python, similar to JavaScript, is an **interpreted language**. This means that the code is executed line by line by an interpreter, without the need for a separate compilation step into machine code before execution.\n",
    "\n",
    "**Python Interpreter Mode:**\n",
    "\n",
    "* To enter the interactive Python interpreter directly in your command line or terminal, simply type:\n",
    "    ```\n",
    "    python\n",
    "    ```\n",
    "    or\n",
    "    ```\n",
    "    py\n",
    "    ```\n",
    "    You will see a prompt (usually `>>>`) where you can type and execute Python code directly.\n",
    "\n",
    "**Exiting Interpreter Mode:**\n",
    "\n",
    "* To exit the interactive Python interpreter and return to your command line or terminal, type the following and press Enter:\n",
    "    ```python\n",
    "    exit()\n",
    "    ```\n",
    "    Alternatively, you can often use the keyboard shortcut `Ctrl + Z` (on Windows) or `Ctrl + D` (on macOS and Linux).\n",
    "\n",
    "**pip: Python Package Installer:**\n",
    "\n",
    "* **pip** is the standard **package installer for Python**. It allows you to easily install, upgrade, and manage third-party libraries and dependencies that extend Python's functionality.\n",
    "\n",
    "**Checking pip Version:**\n",
    "\n",
    "* To check the installed version of pip, use the following command:\n",
    "    ```\n",
    "    pip --version\n",
    "    ```\n",
    "    The output will typically show the pip version and the Python installation it is associated with, for example:\n",
    "    ```bash\n",
    "    pip 24.3.1 from C:\\Users\\admin\\AppData\\Local\\Programs\\Python\\Python313\\Lib\\site-packages\\pip (python 3.13)\n",
    "    ```\n",
    "\n",
    "**JupyterLab: Interactive Development Environment:**\n",
    "\n",
    "* **JupyterLab** is a web-based interactive development environment for working with **Jupyter Notebooks** (files with the `.ipynb` extension). These notebooks can contain live code, equations, visualizations, and narrative text, making them ideal for data analysis, scientific computing, and educational purposes.\n",
    "\n",
    "**Installing JupyterLab:**\n",
    "\n",
    "* To install JupyterLab, you can use pip with the following command:\n",
    "    ```\n",
    "    pip install jupyterlab\n",
    "    ```\n",
    "    This command will download and install JupyterLab and its dependencies. Once installed, you can typically launch it from your command line using the command `jupyter lab`.\n"
   ]
  },
  {
   "cell_type": "markdown",
   "id": "7e30333b",
   "metadata": {},
   "source": [
    "## Your First Python Program: \"Hello World!\""
   ]
  },
  {
   "cell_type": "code",
   "execution_count": 1,
   "id": "e8d5c9dd",
   "metadata": {},
   "outputs": [
    {
     "name": "stdout",
     "output_type": "stream",
     "text": [
      "Hello World!\n",
      "Hello test1\n",
      "Hello 12345\n",
      "Total Bill is 80\n"
     ]
    }
   ],
   "source": [
    "def main1():\n",
    "    print(\"\"\"Hello World!\"\"\")\n",
    "    # x = input(\"Enter your name: \")\n",
    "    x = \"test1\"\n",
    "    print('Hello', x)\n",
    "    x = 12345\n",
    "    print('''Hello''', x)\n",
    "\n",
    "    # TODO: String can be enclosed in '' OR \"\" OR ''' ''' OR \"\"\" \"\"\"\n",
    "\n",
    "    # TODO: f-strings for formatted output\n",
    "    qty = 10\n",
    "    cost = 8\n",
    "    print(f\"Total Bill is {qty * cost}\")\n",
    "\n",
    "if __name__ == \"__main__\":\n",
    "    main1()"
   ]
  },
  {
   "cell_type": "markdown",
   "id": "19866445",
   "metadata": {},
   "source": [
    "**Explanation of the Code:**\n",
    "- `def main1()`:: This line defines a function named main1. Functions are blocks of reusable code.\n",
    "- The triple quotes (\"\"\") allow for multi-line strings, although in the example, it's a single line.\n",
    "- String can be enclosed in `''` OR `\"\"` OR `''' '''` OR `\"\"\" \"\"\"`"
   ]
  },
  {
   "cell_type": "markdown",
   "id": "790fa867",
   "metadata": {},
   "source": [
    "### Understanding if __name__ == \"__main__\":\n",
    "\n",
    "```Python\n",
    "if __name__ == \"__main__\":\n",
    "    main1()\n",
    "```\n",
    "\n",
    "Unlike Java's `public static void main(String[] args)`, Python doesn't automatically execute a function named main when a script starts. The `if __name__ == \"__main__\":` block serves a crucial purpose:\n",
    "\n",
    "- *Script Execution:* When you run a Python file directly (e.g., python my_script.py), the special built-in variable `__name__` is set to the string `\"__main__\"`. Therefore, the condition `if __name__ == \"__main__\":` evaluates to `True`, and the code inside this block (in this case, calling the main1() function) is executed.\n",
    "\n",
    "- *Module Import:* However, if this Python file is imported as a module into another Python script (e.g., import my_script), the `__name__` variable in the imported module is set to the name of the module (e.g., \"my_script\"). In this scenario, the `if __name__ == \"__main__\":` condition becomes `False`, and the code inside this block is not executed automatically.\n",
    "\n",
    "* In essence, this construct ensures that the `main1()` function (or any code within this block) runs only when the script is executed directly, and not when it's imported as a reusable component (module) in another program. *"
   ]
  },
  {
   "cell_type": "markdown",
   "id": "ab5130b9",
   "metadata": {},
   "source": [
    "#### For Jupyter Notebook Execution:\n",
    "\n",
    "- *No `if __name__ == \"__main__\":` Needed:* In a Jupyter Notebook, each cell is essentially executed in the global scope of the notebook's kernel. The concept of a script being run as the \"main\" program versus being imported as a module doesn't apply in the same way. When you run a cell, the code within it is executed directly. Therefore, the `if __name__ == \"__main__\":` block is unnecessary for simple execution within a notebook.\n",
    "\n",
    "- *Direct Function Call:* So, you simply need to call the hello_world_notebook() function directly in a notebook cell. When you execute that cell, the code inside the function will run sequentially."
   ]
  },
  {
   "cell_type": "code",
   "execution_count": 2,
   "id": "8ecc3ef3",
   "metadata": {},
   "outputs": [
    {
     "name": "stdout",
     "output_type": "stream",
     "text": [
      "Hello World!\n",
      "Hello, test1!\n"
     ]
    }
   ],
   "source": [
    "def hello_world_notebook():\n",
    "    print(\"Hello World!\")\n",
    "    # name = input(\"Enter your name: \")\n",
    "    name = \"test1\"\n",
    "    print(f\"Hello, {name}!\")\n",
    "\n",
    "hello_world_notebook()"
   ]
  },
  {
   "cell_type": "markdown",
   "id": "0b92bb9a",
   "metadata": {},
   "source": []
  },
  {
   "cell_type": "markdown",
   "id": "a3c19cea",
   "metadata": {},
   "source": [
    "\n",
    "## f-strings\n",
    "- An f-string is a string literal that is prefixed with the letter f or F.  Inside the string, you can include expressions enclosed in curly braces {}. These expressions are evaluated at runtime, and their values are then inserted into the string.\n",
    "- You can embed almost any Python expression inside the curly braces, including:\n",
    "**Variables, Arithmetic operations, Function calls,Object attributes**\n",
    "\n",
    "```python\n",
    "x = 5\n",
    "y = 10\n",
    "print(f\"The sum of {x} and {y} is {x + y}.\")  # Output: The sum of 5 and 10 is 15.\n",
    "\n",
    "def greet(person):\n",
    "    return f\"Hello, {person}!\"\n",
    "\n",
    "print(greet(\"Bob\"))  # Output: Hello, Bob!\n",
    "\n",
    "class MyClass:\n",
    "    value = 42\n",
    "\n",
    "obj = MyClass()\n",
    "print(f\"The value is {obj.value}.\")  # Output: The value is 42.\n",
    "```\n",
    "\n",
    "- F-strings are the preferred way to format strings in modern Python. They offer a combination of readability, conciseness, and performance that makes them a valuable tool"
   ]
  }
 ],
 "metadata": {
  "kernelspec": {
   "display_name": "Python 3",
   "language": "python",
   "name": "python3"
  },
  "language_info": {
   "codemirror_mode": {
    "name": "ipython",
    "version": 3
   },
   "file_extension": ".py",
   "mimetype": "text/x-python",
   "name": "python",
   "nbconvert_exporter": "python",
   "pygments_lexer": "ipython3",
   "version": "3.13.2"
  }
 },
 "nbformat": 4,
 "nbformat_minor": 5
}
