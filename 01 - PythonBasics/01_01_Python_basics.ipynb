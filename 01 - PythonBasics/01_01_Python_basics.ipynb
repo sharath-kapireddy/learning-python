{
 "cells": [
  {
   "cell_type": "markdown",
   "id": "7424ea53",
   "metadata": {},
   "source": [
    "# Introduction\n",
    "## Understanding Python and its Tools\n",
    "\n",
    "This section provides a concise overview of essential Python commands and concepts for beginners.\n",
    "\n",
    "**Checking Python Version:**\n",
    "\n",
    "* To check the installed Python version, you can use either of the following commands in your command line or terminal:\n",
    "    ```\n",
    "    python --version\n",
    "    py --version\n",
    "    ```\n",
    "    The `python` command is commonly used, while `py` is a Windows-specific launcher that can be helpful if you have multiple Python versions installed.\n",
    "\n",
    " **Python as an Interpreted Language:**\n",
    "\n",
    "* Python, similar to JavaScript, is an **interpreted language**. This means that the code is executed line by line by an interpreter, without the need for a separate compilation step into machine code before execution.\n",
    "\n",
    "**Python Interpreter Mode:**\n",
    "\n",
    "* To enter the interactive Python interpreter directly in your command line or terminal, simply type:\n",
    "    ```\n",
    "    python\n",
    "    ```\n",
    "    or\n",
    "    ```\n",
    "    py\n",
    "    ```\n",
    "    You will see a prompt (usually `>>>`) where you can type and execute Python code directly.\n",
    "\n",
    "**Exiting Interpreter Mode:**\n",
    "\n",
    "* To exit the interactive Python interpreter and return to your command line or terminal, type the following and press Enter:\n",
    "    ```python\n",
    "    exit()\n",
    "    ```\n",
    "    Alternatively, you can often use the keyboard shortcut `Ctrl + Z` (on Windows) or `Ctrl + D` (on macOS and Linux).\n",
    "\n",
    "**pip: Python Package Installer:**\n",
    "\n",
    "* **pip** is the standard **package installer for Python**. It allows you to easily install, upgrade, and manage third-party libraries and dependencies that extend Python's functionality.\n",
    "\n",
    "**Checking pip Version:**\n",
    "\n",
    "* To check the installed version of pip, use the following command:\n",
    "    ```\n",
    "    pip --version\n",
    "    ```\n",
    "    The output will typically show the pip version and the Python installation it is associated with, for example:\n",
    "    ```bash\n",
    "    pip 24.3.1 from C:\\Users\\admin\\AppData\\Local\\Programs\\Python\\Python313\\Lib\\site-packages\\pip (python 3.13)\n",
    "    ```\n",
    "\n",
    "**JupyterLab: Interactive Development Environment:**\n",
    "\n",
    "* **JupyterLab** is a web-based interactive development environment for working with **Jupyter Notebooks** (files with the `.ipynb` extension). These notebooks can contain live code, equations, visualizations, and narrative text, making them ideal for data analysis, scientific computing, and educational purposes.\n",
    "\n",
    "**Installing JupyterLab:**\n",
    "\n",
    "* To install JupyterLab, you can use pip with the following command:\n",
    "    ```\n",
    "    pip install jupyterlab\n",
    "    ```\n",
    "    This command will download and install JupyterLab and its dependencies. Once installed, you can typically launch it from your command line using the command `jupyter lab`.\n"
   ]
  },
  {
   "cell_type": "markdown",
   "id": "9dee1819",
   "metadata": {},
   "source": []
  },
  {
   "cell_type": "markdown",
   "id": "7e30333b",
   "metadata": {},
   "source": [
    "ww\n",
    "ww"
   ]
  },
  {
   "cell_type": "code",
   "execution_count": 3,
   "id": "e8d5c9dd",
   "metadata": {},
   "outputs": [
    {
     "name": "stdout",
     "output_type": "stream",
     "text": [
      "Hello World!\n",
      "Hello test1\n",
      "Hello 12345\n",
      "Total Bill is 80\n"
     ]
    }
   ],
   "source": [
    "def main1():\n",
    "    print(\"\"\"Hello World!\"\"\")\n",
    "    # x = input(\"Enter your name: \")\n",
    "    x = \"test1\"\n",
    "    print('Hello', x)\n",
    "    x = 12345\n",
    "    print('''Hello''', x)\n",
    "\n",
    "    # TODO: String can be enclosed in '' OR \"\" OR ''' ''' OR \"\"\" \"\"\"\n",
    "\n",
    "    # TODO: f-strings for formatted output\n",
    "    qty = 10\n",
    "    cost = 8\n",
    "    print(f\"Total Bill is {qty * cost}\")\n",
    "\n",
    "if __name__ == \"__main__\":\n",
    "    main1()"
   ]
  }
 ],
 "metadata": {
  "kernelspec": {
   "display_name": "Python 3",
   "language": "python",
   "name": "python3"
  },
  "language_info": {
   "codemirror_mode": {
    "name": "ipython",
    "version": 3
   },
   "file_extension": ".py",
   "mimetype": "text/x-python",
   "name": "python",
   "nbconvert_exporter": "python",
   "pygments_lexer": "ipython3",
   "version": "3.13.2"
  }
 },
 "nbformat": 4,
 "nbformat_minor": 5
}
