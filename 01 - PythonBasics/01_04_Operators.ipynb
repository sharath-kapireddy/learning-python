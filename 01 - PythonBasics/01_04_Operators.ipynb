{
 "cells": [
  {
   "cell_type": "markdown",
   "id": "11522d37",
   "metadata": {},
   "source": [
    "# Operators\n",
    "- **Arithmetic Operators** \n",
    "    > `+`,`-`, `*`, `/`, `//`(Floor division), `%`, `**`(Exponential)\n",
    "    - `//` is floor division. It Divides and returns the integer part of the quotient\n",
    "    - **Example:** 10 //3 is equals to 3\n",
    "- **Comparision Operators** \n",
    "    > `==`, `!=`, `>=`, `<=`, `>`, `<`\n",
    "- **Logical Operators**\n",
    "    > `and`, `or`, `not`\n",
    "- **Assignment Operator** \n",
    "    > `=`, `+=`, `-=`, `*=`, `/=`, `//=`, `%=`, `**=`\n",
    "- **Bitwise Operators** \n",
    "  > `&`, `|`, `^`, `~`, `<<`, `>>`\n",
    "  - Bitwise AND(&): 1010 & 1100 = 1000 (8)\n",
    "  - Bitwise OR(|) : 1010 & 1100 = 1110 (14)\n",
    "  - Bitwise NOT(~) : ~1010 = -11 \n",
    "    - Because Python uses two's complement representation for signed integers.\n",
    "    - *Quick tip:* ~n = -n - 1\n",
    "  - Bitwise XOR (^) : Set bit to 1 only if one of the two bits is 1. 1010 ^ 1100 = 0110 (6)\n",
    "  - Left Shift(<<)  : 1010 << 2 = 101000 (40) \n",
    "  - Right Shift(>>) : 1010 >> 1 = 101 (5)\n",
    "- **Identity Operators**\n",
    "    > `is` and `is not`\n",
    "    - `is`: `x is y` is True if both variables refer to the same object\n",
    "    - `is not`: `x is not y` is True if both variables do not refer to the same object\t\n",
    "- **Membership Operator**\n",
    "    > `in`, `not in`\n",
    "    - `in`: `True` if a sequence with the specified value is present in the object\n",
    "        - Result of `'a' in 'banana'` is `True`\n",
    "    - `not in`: True if a sequence with the specified value is not present in the object\n",
    "        - Result of `'x' not in 'banana'` is `True`"
   ]
  },
  {
   "cell_type": "code",
   "execution_count": 1,
   "id": "6d582e79",
   "metadata": {},
   "outputs": [
    {
     "name": "stdout",
     "output_type": "stream",
     "text": [
      "True\n",
      "False\n",
      "True\n",
      "True\n",
      "-------\n",
      "False\n",
      "True\n",
      "True\n",
      "True\n",
      "-------\n",
      "8\n",
      "14\n",
      "-11\n",
      "40\n",
      "5\n",
      "--hey----hey----hey----hey--\n"
     ]
    }
   ],
   "source": [
    "## Identity Operators\n",
    "# Identity operators (`is` and `is not`) are used to check if two variables refer to the same object in memory. They do not compare the values of the objects.\n",
    "list1 = [1, 2, 3]\n",
    "list2 = list1\n",
    "list3 = [1, 2, 3]\n",
    "\n",
    "print(list1 is list2)     # Output: True (both refer to the same object)\n",
    "print(list1 is list3)     # Output: False (different objects, though content is the same)\n",
    "print(list1 == list3)     # Output: True (content is the same)\n",
    "print(list1 is not list3) # Output: True\n",
    "print(\"-------\")\n",
    "\n",
    "## Membership Operators\n",
    "# Membership operators (`in` and `not in`) are used to test if a sequence (like a list, string, or tuple) contains a particular element.\n",
    "my_list = [1, 2, 3, 4, 5]\n",
    "my_string = 'banana'\n",
    "\n",
    "print(6 in my_list)         # Output: False - The value 6 is not present in the list.\n",
    "print(6 not in my_list)     # Output: True - The value 6 is indeed not present in the list.\n",
    "print('n' in my_string)     # Output: True - The character 'n' is found within the string 'banana'.\n",
    "print('ana' in my_string)   # Output: True - The substring 'ana' is found within the string 'banana'.\n",
    "print(\"-------\")\n",
    "\n",
    "# Example: Bitwise operators\n",
    "x, y = 10, 12\n",
    "\n",
    "# Binary representation of x (10): 00001010\n",
    "# Binary representation of y (12): 00001100\n",
    "\n",
    "print(x & y)  # Output: 8  (Bitwise AND: 00001000) - Result is 1 only if both corresponding bits are 1.\n",
    "print(x | y)  # Output: 14 (Bitwise OR:  00001110) - Result is 1 if at least one of the corresponding bits is 1.\n",
    "print(~x)    # Output: -11 (Bitwise NOT: 11110101 in 2's complement) - Inverts all bits. For a signed integer n, ~n is equivalent to -n - 1.\n",
    "print(x << 2) # Output: 40 (Left Shift: 00101000) - Shifts the bits of x to the left by 2 positions (equivalent to multiplying by 2**2).\n",
    "print(x >> 1) # Output: 5  (Right Shift: 00000101) - Shifts the bits of x to the right by 1 position (equivalent to integer division by 2**1).\n",
    "\n",
    "## Misc\n",
    "my_string = \"--hey--\"\n",
    "print(my_string * 4) # output: --hey----hey----hey----hey--"
   ]
  },
  {
   "cell_type": "markdown",
   "id": "1d30b575",
   "metadata": {},
   "source": [
    "## Precedence\n",
    "1. Parentheses: `()` (Used for grouping expressions)\n",
    "2. Exponentiation: `**` (Right-associative)\n",
    "3. Unary Operators: `+` (positive), `-` (negative), `~` (bitwise NOT)\n",
    "4. Multiplicative Operators: `*` (multiplication), `/` (division), `//` (floor division), `%` (modulus), `@` (matrix multiplication - new in Python 3.5)\n",
    "5. Additive Operators: `+` (addition), `-` (subtraction)\n",
    "6. Bitwise Shift Operators: `<<` (left shift), `>>` (right shift)\n",
    "7. Bitwise AND: `&`\n",
    "8. Bitwise XOR: `^`\n",
    "9. Bitwise OR: `|`\n",
    "10. Comparison Operators: `<`, `<=`, `>`, `>=`, `==`, `!=`, `is`, `is not`, `in`, `not in`\n",
    "11. Boolean NOT: `not`\n",
    "12. Boolean AND: `and`\n",
    "13. Boolean OR: `or`\n",
    "14. Assignment Operators: `=`, `+=`, `-=`, `*=`, `/=`, `//=`, `%=`, `**=`, `&=`, `|=`, `^=`, `<<=`, `>>=` (Right-associative)\n",
    "15. Lambda Expressions: `lambda`\n",
    "\n",
    "- Unary Negative Operator (-): The unary negative operator is used to negate a numeric value. It changes the sign of the operand. `y=10`; `x= -y`\n",
    "- Unary Positive Operator (+): The unary positive operator is primarily used for clarity `y=10`; `x=+y`"
   ]
  },
  {
   "cell_type": "markdown",
   "id": "7689e081",
   "metadata": {},
   "source": [
    "## Associativity\n",
    "- **Right-associative:** Exponentiation (**) and assignment operators are evaluated from right to left (e.g., `a ** b ** c` is evaluated as `a ** (b ** c)`, and `x = y = 5` is evaluated as `y = 5`; `x = y`).\n",
    "- **Left-associative:** Others are evaluated from left to right"
   ]
  }
 ],
 "metadata": {
  "kernelspec": {
   "display_name": "Python 3",
   "language": "python",
   "name": "python3"
  },
  "language_info": {
   "codemirror_mode": {
    "name": "ipython",
    "version": 3
   },
   "file_extension": ".py",
   "mimetype": "text/x-python",
   "name": "python",
   "nbconvert_exporter": "python",
   "pygments_lexer": "ipython3",
   "version": "3.13.2"
  }
 },
 "nbformat": 4,
 "nbformat_minor": 5
}
