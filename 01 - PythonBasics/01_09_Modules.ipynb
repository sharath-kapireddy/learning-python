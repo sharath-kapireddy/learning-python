{
 "cells": [
  {
   "cell_type": "markdown",
   "id": "35cf2f7b",
   "metadata": {},
   "source": [
    "# Introduction: Python Modules\n",
    "This notebook explores Python modules, a fundamental concept for organizing and reusing code. A module is essentially a Python file (.py) containing Python definitions and statements (like functions, classes, and variables).\n",
    "\n",
    "Modules allow you to:\n",
    "- **Organize Code:** Break down large programs into smaller, more manageable, and logical files.\n",
    "- **Reuse Code:** Write code once in a module and import it into multiple other scripts or notebooks without rewriting it.\n",
    "- **Namespace Management:** Avoid naming conflicts between identifiers (functions, variables) defined in different files.\n",
    "\n",
    "We will cover:\n",
    "- What modules are and why they are important.\n",
    "- How to create your own simple Python module.\n",
    "- Different ways to import modules and their components into your code using `import` and `from ... import`.\n",
    "- Commonly used built-in modules provided by Python."
   ]
  },
  {
   "cell_type": "code",
   "execution_count": 1,
   "id": "2be98a67",
   "metadata": {},
   "outputs": [
    {
     "name": "stdout",
     "output_type": "stream",
     "text": [
      "--- Using the 'math' module ---\n",
      "Square root of 16 is: 4.0\n",
      "Ceiling of 2.4 is: 3\n",
      "The value of Pi is: 3.141592653589793\n",
      "The value of Pi using alias 'm' is: 3.141592653589793\n",
      "5\n",
      "32.0\n",
      "\n",
      "--- Using the 'os.path' submodule ---\n",
      "Does 'my_imaginary_file.txt' exist? False\n",
      "\n",
      "--- Using the 'datetime' module ---\n",
      "Today's date: 2025-04-16\n",
      "\n",
      "--- Using the 'time' module (aliased as standard_time) ---\n",
      "Current timestamp: 1744744493.9871366\n",
      "Pausing for 1 second...\n",
      "Resumed.\n"
     ]
    }
   ],
   "source": [
    "# --- Importing Modules ---\n",
    "\n",
    "# Method 1: Import the entire module\n",
    "# Access functions/constants using module_name.item_name\n",
    "import math\n",
    "\n",
    "# Method 2: Import the entire module with an alias\n",
    "# Useful for brevity or avoiding name conflicts\n",
    "import math as m\n",
    "\n",
    "# Method 3: Import specific items from a module\n",
    "# Allows direct use of the imported item's name (e.g., path)\n",
    "# Can also import multiple items: from os import path, getcwd\n",
    "from os import path\n",
    "\n",
    "# Method 4: Import specific items from submodules\n",
    "# datetime is a module containing classes like date, time, timedelta\n",
    "import datetime # Import the main module first (optional but sometimes clarifies)\n",
    "from datetime import date, time, timedelta\n",
    "\n",
    "# Example: Importing the time module (different from datetime.time)\n",
    "import time as standard_time # Using alias to avoid confusion with datetime.time\n",
    "\n",
    "\n",
    "# --- Using Imported Modules ---\n",
    "\n",
    "print(\"--- Using the 'math' module ---\")\n",
    "# Using functions from the math module\n",
    "print(f\"Square root of 16 is: {math.sqrt(16)}\") # Output: 4.0\n",
    "\n",
    "# Using the alias 'm' for the math module\n",
    "print(f\"Ceiling of 2.4 is: {m.ceil(2.4)}\") # Output: 3\n",
    "\n",
    "# Accessing constants defined in the math module\n",
    "print(f\"The value of Pi is: {math.pi}\") # Output: 3.14159...\n",
    "print(f\"The value of Pi using alias 'm' is: {m.pi}\") # Output: 3.14159...\n",
    "\n",
    "# TODO: try some of the math functions for yourself here:\n",
    "print(math.floor(5.7))\n",
    "print(math.pow(2, 5))\n",
    "\n",
    "\n",
    "print(\"\\n--- Using the 'os.path' submodule ---\")\n",
    "# Using the 'path' object imported directly from 'os'\n",
    "# Check if a file or directory exists\n",
    "file_path = \"my_imaginary_file.txt\"\n",
    "print(f\"Does '{file_path}' exist? {path.exists(file_path)}\") # Output: False (likely)\n",
    "\n",
    "\n",
    "print(\"\\n--- Using the 'datetime' module ---\")\n",
    "# Using the 'date' class imported from 'datetime'\n",
    "today = date.today()\n",
    "print(f\"Today's date: {today}\")\n",
    "\n",
    "print(\"\\n--- Using the 'time' module (aliased as standard_time) ---\")\n",
    "# Get the current timestamp (seconds since the epoch)\n",
    "current_timestamp = standard_time.time()\n",
    "print(f\"Current timestamp: {current_timestamp}\")\n",
    "# Pause execution for 1 second\n",
    "print(\"Pausing for 1 second...\")\n",
    "standard_time.sleep(1)\n",
    "print(\"Resumed.\")\n",
    "\n"
   ]
  },
  {
   "cell_type": "markdown",
   "id": "73c94e4b",
   "metadata": {},
   "source": []
  }
 ],
 "metadata": {
  "kernelspec": {
   "display_name": "Python 3",
   "language": "python",
   "name": "python3"
  },
  "language_info": {
   "codemirror_mode": {
    "name": "ipython",
    "version": 3
   },
   "file_extension": ".py",
   "mimetype": "text/x-python",
   "name": "python",
   "nbconvert_exporter": "python",
   "pygments_lexer": "ipython3",
   "version": "3.13.2"
  }
 },
 "nbformat": 4,
 "nbformat_minor": 5
}
