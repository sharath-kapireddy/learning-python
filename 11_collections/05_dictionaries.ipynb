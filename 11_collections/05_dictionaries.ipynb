{
 "cells": [
  {
   "cell_type": "markdown",
   "id": "a57ee666",
   "metadata": {},
   "source": [
    "# Dictionary\n",
    "- A dictionary is an unordered collection of key-value pairs. Each key must be unique and immutable.\n",
    "\n",
    "### Common Dictionary operations in Python\n",
    "1. Dictionary Creation\n",
    "2. Accessing Values\n",
    "3. Modifying Values\n",
    "4. Adding/Removing Items\n",
    "5. Copying\n",
    "6. Keys, Values, and Items\n",
    "7. Checking for Keys or Values\n",
    "8. Dictionary Comprehensions\n",
    "9. Looping Through a Dictionary\n"
   ]
  },
  {
   "cell_type": "code",
   "execution_count": 1,
   "id": "f9b7c3b8",
   "metadata": {},
   "outputs": [
    {
     "name": "stdout",
     "output_type": "stream",
     "text": [
      "Dictionary Creation Examples:\n",
      "{'a': 1, 'b': 2, 'c': 3}\n",
      "{'name': 'John', 'age': 25}\n",
      "{'a': 1, 'b': 2, 'c': 3}\n"
     ]
    }
   ],
   "source": [
    "# -------------------------\n",
    "# Dictionary Creation\n",
    "# -------------------------\n",
    "my_dict1 = {\"a\": 1, \"b\": 2, \"c\": 3}        # {'a': 1, 'b': 2, 'c': 3}\n",
    "my_dict2 = dict(name=\"John\", age=25)        # {'name': 'John', 'age': 25}\n",
    "my_dict3 = dict(zip([\"a\", \"b\", \"c\"], [1, 2, 3]))  # {'a': 1, 'b': 2, 'c': 3}\n",
    "\n",
    "print(\"Dictionary Creation Examples:\")\n",
    "print(my_dict1)  # {'a': 1, 'b': 2, 'c': 3}\n",
    "print(my_dict2)  # {'name': 'John', 'age': 25}\n",
    "print(my_dict3)  # {'a': 1, 'b': 2, 'c': 3}"
   ]
  },
  {
   "cell_type": "code",
   "execution_count": 2,
   "id": "06837a8a",
   "metadata": {},
   "outputs": [
    {
     "name": "stdout",
     "output_type": "stream",
     "text": [
      "\n",
      "Accessing & Modifying Examples:\n",
      "Value for key 'b': 2\n",
      "Modified dict: {'a': 10, 'b': 2, 'c': 3}\n"
     ]
    }
   ],
   "source": [
    "# -------------------------\n",
    "# Accessing & Modifying\n",
    "# -------------------------\n",
    "my_dict1 = {\"a\": 1, \"b\": 2, \"c\": 3}        # {'a': 1, 'b': 2, 'c': 3}\n",
    "print(\"\\nAccessing & Modifying Examples:\")\n",
    "print(\"Value for key 'b':\", my_dict1[\"b\"])     # 2\n",
    "my_dict1[\"a\"] = 10                             # Modify value for key 'a'\n",
    "print(\"Modified dict:\", my_dict1)              # {'a': 10, 'b': 2, 'c': 3}"
   ]
  },
  {
   "cell_type": "code",
   "execution_count": 3,
   "id": "5b36c341",
   "metadata": {},
   "outputs": [
    {
     "name": "stdout",
     "output_type": "stream",
     "text": [
      "\n",
      "Adding/Removing Items Examples:\n",
      "After adding: {'a': 10, 'b': 2, 'c': 3, 'd': 4}\n",
      "After deleting 'b': {'a': 10, 'c': 3, 'd': 4}\n",
      "After pop: {'a': 10, 'c': 3}\n"
     ]
    }
   ],
   "source": [
    "# -------------------------\n",
    "# Adding/Removing Items\n",
    "# -------------------------\n",
    "my_dict1 = {'a': 10, 'b': 2, 'c': 3}\n",
    "print(\"\\nAdding/Removing Items Examples:\")\n",
    "my_dict1[\"d\"] = 4                             # Add new key-value pair\n",
    "print(\"After adding:\", my_dict1)              # {'a': 10, 'b': 2, 'c': 3, 'd': 4}\n",
    "del my_dict1[\"b\"]                             # Remove key 'b'\n",
    "print(\"After deleting 'b':\", my_dict1)        # {'a': 10, 'c': 3, 'd': 4}\n",
    "my_dict1.pop(\"d\")                             # Remove and return value for key 'd'\n",
    "print(\"After pop:\", my_dict1)                 # {'a': 10, 'c': 3}"
   ]
  },
  {
   "cell_type": "code",
   "execution_count": 4,
   "id": "66017589",
   "metadata": {},
   "outputs": [
    {
     "name": "stdout",
     "output_type": "stream",
     "text": [
      "my_dict.get('x'): 10\n",
      "my_dict.get('z', 0): 0\n",
      "my_dict.setdefault('x', 100): 10\n",
      "my_dict.setdefault('z', 30): 30\n",
      "After setdefault: {'x': 10, 'y': 20, 'z': 30}\n"
     ]
    }
   ],
   "source": [
    "# -------------------------\n",
    "# Dictionary get(), setdefault()\n",
    "# -------------------------\n",
    "\n",
    "my_dict = {\"x\": 10, \"y\": 20}\n",
    "\n",
    "# get(): returns value if key exists, else default\n",
    "print(\"my_dict.get('x'):\", my_dict.get(\"x\"))          # 10\n",
    "print(\"my_dict.get('z', 0):\", my_dict.get(\"z\", 0))     # 0\n",
    "\n",
    "# setdefault(): returns value if key exists, else sets key with default\n",
    "print(\"my_dict.setdefault('x', 100):\", my_dict.setdefault(\"x\", 100))  # 10 (already exists)\n",
    "print(\"my_dict.setdefault('z', 30):\", my_dict.setdefault(\"z\", 30))    # 30 (new key set)\n",
    "print(\"After setdefault:\", my_dict)  # {'x': 10, 'y': 20, 'z': 30}"
   ]
  },
  {
   "cell_type": "code",
   "execution_count": 5,
   "id": "62b7eec3",
   "metadata": {},
   "outputs": [
    {
     "name": "stdout",
     "output_type": "stream",
     "text": [
      "Popped 'b': 2\n",
      "After pop: {'a': 1, 'c': 3}\n",
      "Popped 'x': Not Found\n",
      "Popped last item: ('c', 3)\n",
      "After popitem: {'a': 1}\n",
      "After update: {'a': 100, 'd': 4}\n"
     ]
    }
   ],
   "source": [
    "# -------------------------\n",
    "# Dictionary pop(), popitem(), and update()\n",
    "# -------------------------\n",
    "\n",
    "my_dict = {\"a\": 1, \"b\": 2, \"c\": 3}\n",
    "\n",
    "# pop(): removes key and returns its value\n",
    "val_b = my_dict.pop(\"b\")\n",
    "print(\"Popped 'b':\", val_b)           # 2\n",
    "print(\"After pop:\", my_dict)          # {'a': 1, 'c': 3}\n",
    "\n",
    "# pop() with default: avoids KeyError if key missing\n",
    "val_x = my_dict.pop(\"x\", \"Not Found\")\n",
    "print(\"Popped 'x':\", val_x)           # Not Found\n",
    "\n",
    "# popitem(): removes & returns last inserted key-value pair\n",
    "last_item = my_dict.popitem()\n",
    "print(\"Popped last item:\", last_item) # ('c', 3)\n",
    "print(\"After popitem:\", my_dict)      # {'a': 1}\n",
    "\n",
    "# update(): adds or updates entries from another dict\n",
    "my_dict.update({\"a\": 100, \"d\": 4})\n",
    "print(\"After update:\", my_dict)       # {'a': 100, 'd': 4}\n"
   ]
  },
  {
   "cell_type": "code",
   "execution_count": 6,
   "id": "850dd39f",
   "metadata": {},
   "outputs": [
    {
     "name": "stdout",
     "output_type": "stream",
     "text": [
      "\n",
      "Keys, Values, and Items Examples:\n",
      "Keys: dict_keys(['a', 'c'])\n",
      "Values: dict_values([10, 3])\n",
      "Items: dict_items([('a', 10), ('c', 3)])\n",
      "\n",
      "Checking for Keys or Values Examples:\n",
      "'a' in my_dict1: True\n",
      "10 in my_dict1.values(): True\n",
      "'b' in my_dict1: False\n"
     ]
    }
   ],
   "source": [
    "# -------------------------\n",
    "# Keys, Values, and Items\n",
    "# -------------------------\n",
    "my_dict1 = {'a': 10, 'c': 3}\n",
    "print(\"\\nKeys, Values, and Items Examples:\")\n",
    "keys = my_dict1.keys()                        # dict_keys(['a', 'c'])\n",
    "values = my_dict1.values()                    # dict_values([10, 3])\n",
    "items = my_dict1.items()                      # dict_items([('a', 10), ('c', 3)])\n",
    "\n",
    "print(\"Keys:\", keys)   # dict_keys(['a', 'c'])\n",
    "print(\"Values:\", values)  # dict_values([10, 3])\n",
    "print(\"Items:\", items)   # dict_items([('a', 10), ('c', 3)])\n",
    "\n",
    "# -------------------------\n",
    "# Checking for Keys or Values\n",
    "# -------------------------\n",
    "print(\"\\nChecking for Keys or Values Examples:\")\n",
    "print(\"'a' in my_dict1:\", 'a' in my_dict1)  # True\n",
    "print(\"10 in my_dict1.values():\", 10 in my_dict1.values())  # True\n",
    "print(\"'b' in my_dict1:\", 'b' in my_dict1)  # False"
   ]
  },
  {
   "cell_type": "code",
   "execution_count": 7,
   "id": "0f1c4164",
   "metadata": {},
   "outputs": [
    {
     "name": "stdout",
     "output_type": "stream",
     "text": [
      "\n",
      "Dictionary Comprehension Examples:\n",
      "Squared values: {'a': 100, 'b': 4, 'c': 9}\n"
     ]
    }
   ],
   "source": [
    "# -------------------------\n",
    "# Dictionary Comprehensions\n",
    "# -------------------------\n",
    "my_dict1 = {'a': 10, 'b': 2, 'c': 3}\n",
    "print(\"\\nDictionary Comprehension Examples:\")\n",
    "squared_dict = {key: value ** 2 for key, value in my_dict1.items()}\n",
    "print(\"Squared values:\", squared_dict)  # {'a': 100, 'c': 9}"
   ]
  },
  {
   "cell_type": "code",
   "execution_count": 8,
   "id": "0f178890",
   "metadata": {},
   "outputs": [
    {
     "name": "stdout",
     "output_type": "stream",
     "text": [
      "\n",
      "Looping Through a Dictionary Examples:\n",
      "Key: a, Value: 10\n",
      "Key: b, Value: 2\n",
      "Key: c, Value: 3\n",
      "Value: 10\n",
      "Value: 2\n",
      "Value: 3\n",
      "Key: a, Value: 10\n",
      "Key: b, Value: 2\n",
      "Key: c, Value: 3\n"
     ]
    }
   ],
   "source": [
    "# -------------------------\n",
    "# Looping Through a Dictionary\n",
    "# -------------------------\n",
    "my_dict1 = {'a': 10, 'b': 2, 'c': 3}\n",
    "print(\"\\nLooping Through a Dictionary Examples:\")\n",
    "# Loop through keys\n",
    "for key in my_dict1:\n",
    "    print(f\"Key: {key}, Value: {my_dict1[key]}\")\n",
    "\n",
    "# Loop through values only\n",
    "for value in my_dict1.values():\n",
    "    print(f\"Value: {value}\")\n",
    "\n",
    "# Loop through key-value pairs\n",
    "for key, value in my_dict1.items():\n",
    "    print(f\"Key: {key}, Value: {value}\")"
   ]
  },
  {
   "cell_type": "code",
   "execution_count": 9,
   "id": "84ef1963",
   "metadata": {},
   "outputs": [
    {
     "name": "stdout",
     "output_type": "stream",
     "text": [
      "Set of keys: {'z', 'x', 'y'}\n",
      "Set of values: {10, 20, 30}\n"
     ]
    }
   ],
   "source": [
    "# -------------------------\n",
    "# Create set of dict keys/values\n",
    "# -------------------------\n",
    "# set(): used to create a set of dictionary keys\n",
    "my_dict = {\"x\": 10, \"y\": 20, \"z\": 30}\n",
    "key_set = set(my_dict)\n",
    "print(\"Set of keys:\", key_set)       # {'x', 'y', 'z'}\n",
    "\n",
    "# OR: create set of values\n",
    "value_set = set(my_dict.values())\n",
    "print(\"Set of values:\", value_set)   # {10, 20, 30}\n"
   ]
  },
  {
   "cell_type": "markdown",
   "id": "778fb987",
   "metadata": {},
   "source": [
    "### Summary\n",
    "\n",
    "**✅ Dictionary Creation**\n",
    "- `{}` → Basic dictionary creation\n",
    "- `dict()` → Create dictionary from iterable or keyword arguments\n",
    "- `dict(zip(keys, values))` → Create dict from two sequences\n",
    "\n",
    "**🔑 Accessing Values**\n",
    "- `dict[key]` → Access value by key\n",
    "- `.get(key)` → Access value with default return if key is missing\n",
    "\n",
    "**✍️ Modifying Values**\n",
    "- `dict[key] = value` → Modify value for a key\n",
    "\n",
    "**➕ Adding Items**\n",
    "- `dict[key] = value` → Add a new key-value pair\n",
    "\n",
    "**❌ Removing Items**\n",
    "- `del dict[key]` → Delete key-value pair by key\n",
    "- `dict.pop(key)` → Remove and return value for key\n",
    "- `dict.clear()` → Remove all items from the dictionary\n",
    "\n",
    "**🔑 Keys, Values, and Items**\n",
    "- `.keys()` → Get all keys as a view object\n",
    "- `.values()` → Get all values as a view object\n",
    "- `.items()` → Get all key-value pairs as a view object\n",
    "\n",
    "**🧠 Checking for Keys or Values**\n",
    "- `key in dict` → Check if key exists in the dictionary\n",
    "- `value in dict.values()` → Check if value exists in the dictionary\n",
    "\n",
    "**📚 Dictionary Comprehensions**\n",
    "- `{key: value for key, value in iterable}` → Create dictionary from iterable\n",
    "\n",
    "**🔁 Looping Through a Dictionary**\n",
    "- `for key in dict`: → Iterate through keys\n",
    "- `for key, value in dict.items()`: → Iterate through key-value pairs\n"
   ]
  }
 ],
 "metadata": {
  "kernelspec": {
   "display_name": "Python 3",
   "language": "python",
   "name": "python3"
  },
  "language_info": {
   "codemirror_mode": {
    "name": "ipython",
    "version": 3
   },
   "file_extension": ".py",
   "mimetype": "text/x-python",
   "name": "python",
   "nbconvert_exporter": "python",
   "pygments_lexer": "ipython3",
   "version": "3.13.2"
  }
 },
 "nbformat": 4,
 "nbformat_minor": 5
}
