{
 "cells": [
  {
   "cell_type": "markdown",
   "id": "fe513b1a",
   "metadata": {},
   "source": [
    "# Tuple\n",
    "- Tuples in Python are used to store collections of values, like lists, but unlike lists, they are immutable—once created, their contents can't be changed.\n",
    "\n",
    "### Common Tuple Operations in Python\n",
    "1. Tuple Creation\n",
    "2. Length\n",
    "3. Accessing Elements\n",
    "4. Immutability\n",
    "5. Looping\n",
    "6. Tuple Info\n",
    "7. Packing & Unpacking\n",
    "8. Named Tuples\n",
    "9. Checking Conditions\n",
    "10. Conversion\n"
   ]
  },
  {
   "cell_type": "code",
   "execution_count": 1,
   "id": "f8be7a5b",
   "metadata": {},
   "outputs": [
    {
     "name": "stdout",
     "output_type": "stream",
     "text": [
      "my_tuple1: (1, 2, 3)\n",
      "single_tuple: (1,)\n"
     ]
    }
   ],
   "source": [
    "# -------------------------\n",
    "# Tuple Creation\n",
    "# -------------------------\n",
    "my_tuple1 = (1, 2, 3)              # (1, 2, 3)\n",
    "empty_tuple = ()                   # ()\n",
    "single_tuple = (1,)                # (1,)\n",
    "tuple_from_range = tuple(range(5, 8))  # (5, 6, 7)\n",
    "tuple_from_str = tuple(\"abc\")     # ('a', 'b', 'c')\n",
    "\n",
    "print(\"my_tuple1:\", my_tuple1)    # (1, 2, 3)\n",
    "print(\"single_tuple:\", single_tuple)  # (1,)"
   ]
  },
  {
   "cell_type": "code",
   "execution_count": 2,
   "id": "017e06ff",
   "metadata": {},
   "outputs": [
    {
     "name": "stdout",
     "output_type": "stream",
     "text": [
      "Index 1: 2\n",
      "Slice [1:3]: (2, 3)\n"
     ]
    }
   ],
   "source": [
    "# -------------------------\n",
    "# Accessing Elements\n",
    "# -------------------------\n",
    "print(\"Index 1:\", my_tuple1[1])  # 2\n",
    "print(\"Slice [1:3]:\", my_tuple1[1:3])  # (2, 3)"
   ]
  },
  {
   "cell_type": "code",
   "execution_count": 3,
   "id": "965c6e7e",
   "metadata": {},
   "outputs": [
    {
     "name": "stdout",
     "output_type": "stream",
     "text": [
      "Error: 'tuple' object does not support item assignment\n"
     ]
    }
   ],
   "source": [
    "# -------------------------\n",
    "# Immutability\n",
    "# -------------------------\n",
    "try:\n",
    "    my_tuple1[1] = 99  # This will raise an error\n",
    "except TypeError as e:\n",
    "    print(\"Error:\", e)  # TypeError: 'tuple' object does not support item assignment"
   ]
  },
  {
   "cell_type": "code",
   "execution_count": 4,
   "id": "981dbe2d",
   "metadata": {},
   "outputs": [
    {
     "name": "stdout",
     "output_type": "stream",
     "text": [
      "Item: 1\n",
      "Item: 2\n",
      "Item: 3\n"
     ]
    }
   ],
   "source": [
    "# -------------------------\n",
    "# Looping\n",
    "# -------------------------\n",
    "for item in my_tuple1:\n",
    "    print(\"Item:\", item)  # Prints 1, 2, 3"
   ]
  },
  {
   "cell_type": "code",
   "execution_count": 5,
   "id": "e33f367f",
   "metadata": {},
   "outputs": [
    {
     "name": "stdout",
     "output_type": "stream",
     "text": [
      "Index of 2: 1\n",
      "Count of 3: 1\n"
     ]
    }
   ],
   "source": [
    "# -------------------------\n",
    "# Tuple Info\n",
    "# -------------------------\n",
    "print(\"Index of 2:\", my_tuple1.index(2))   # 1\n",
    "print(\"Count of 3:\", my_tuple1.count(3))    # 1"
   ]
  },
  {
   "cell_type": "code",
   "execution_count": 6,
   "id": "e259bdd3",
   "metadata": {},
   "outputs": [
    {
     "name": "stdout",
     "output_type": "stream",
     "text": [
      "a=1, b=2, c=3\n",
      "a=1, rest=[2, 3]\n"
     ]
    }
   ],
   "source": [
    "# -------------------------\n",
    "# Packing & Unpacking\n",
    "# -------------------------\n",
    "a, b, c = my_tuple1  # Unpacking\n",
    "print(f\"a={a}, b={b}, c={c}\")  # a=1, b=2, c=3\n",
    "\n",
    "a, *rest = my_tuple1  # Extended unpacking\n",
    "print(f\"a={a}, rest={rest}\")  # a=1, rest=[2, 3]"
   ]
  },
  {
   "cell_type": "code",
   "execution_count": 7,
   "id": "7ea9f594",
   "metadata": {},
   "outputs": [
    {
     "name": "stdout",
     "output_type": "stream",
     "text": [
      "Any True? True\n",
      "All True? False\n"
     ]
    }
   ],
   "source": [
    "# -------------------------\n",
    "# Checking Conditions\n",
    "# -------------------------\n",
    "tuple_check = (0, 1, 2)\n",
    "print(\"Any True?\", any(tuple_check))  # True (1 is truthy)\n",
    "print(\"All True?\", all(tuple_check))  # False (0 is falsy)"
   ]
  },
  {
   "cell_type": "code",
   "execution_count": 8,
   "id": "b5843f8a",
   "metadata": {},
   "outputs": [
    {
     "name": "stdout",
     "output_type": "stream",
     "text": [
      "Tuple to List: [1, 2, 3]\n",
      "List to Tuple: (1, 2, 3)\n",
      "length of Tuple: 3\n"
     ]
    }
   ],
   "source": [
    "# -------------------------\n",
    "# Conversion\n",
    "# -------------------------\n",
    "tuple_from_list = tuple([1, 2, 3])  # (1, 2, 3)\n",
    "list_from_tuple = list(my_tuple1)   # [1, 2, 3]\n",
    "print(\"Tuple to List:\", list_from_tuple)  # [1, 2, 3]\n",
    "print(\"List to Tuple:\", tuple_from_list)  # (1, 2, 3)\n",
    "print(\"length of Tuple:\",len(tuple_from_list))"
   ]
  },
  {
   "cell_type": "markdown",
   "id": "1f1d922d",
   "metadata": {},
   "source": [
    "### Named tuples\n",
    "- namedtuple is a factory function from Python’s collections module that creates tuple subclasses with named fields.\n",
    "\n",
    "**When to Use**\n",
    "- When you want a simple object-like structure without full class overhead.\n",
    "- When you need to make your tuple data more readable and meaningful."
   ]
  },
  {
   "cell_type": "code",
   "execution_count": 9,
   "id": "39258f8a",
   "metadata": {},
   "outputs": [
    {
     "name": "stdout",
     "output_type": "stream",
     "text": [
      "Name: Sharath, Age: 35\n"
     ]
    }
   ],
   "source": [
    "# -------------------------\n",
    "# Named Tuples\n",
    "# -------------------------\n",
    "from collections import namedtuple\n",
    "Person = namedtuple('Person', ['name', 'age'])\n",
    "p1 = Person(name='Sharath', age=35)\n",
    "print(f\"Name: {p1.name}, Age: {p1.age}\")  # Name: Sharath, Age: 35"
   ]
  },
  {
   "cell_type": "markdown",
   "id": "747f8903",
   "metadata": {},
   "source": [
    "### Summary\n",
    "\n",
    "**✅ Tuple Creation**  \n",
    "- `(1, 2, 3)` → Basic tuple  \n",
    "- `()` → Empty tuple  \n",
    "- `(1,)` → Single-element tuple *(note the comma!)*  \n",
    "- `tuple(iterable)` → Convert to tuple  \n",
    "- `tuple(\"abc\")` → From string  \n",
    "\n",
    "**📏 Length**  \n",
    "- `len(tuple)` → Number of elements  \n",
    "\n",
    "**🔢 Accessing Elements**  \n",
    "- `tuple[i]` → Access by index  \n",
    "- `tuple[i:j]` → Slicing  \n",
    "- `nested[i][j]` → Access nested tuples  \n",
    "\n",
    "**🚫 Immutability**  \n",
    "- Tuples are **immutable** → Cannot modify after creation  \n",
    "- `tuple[i] = value` → ❌ Raises error  \n",
    "\n",
    "**🔁 Looping**  \n",
    "- `for item in tuple`: → Iterate through items  \n",
    "\n",
    "**🧠 Tuple Info**  \n",
    "- `.index(value)` → First index of value  \n",
    "- `.count(value)` → Count occurrences  \n",
    "\n",
    "**📦 Packing & Unpacking**  \n",
    "- `a, b = (1, 2)` → Unpacking tuple values  \n",
    "- `a, *rest = (1, 2, 3)` → Extended unpacking  \n",
    "\n",
    "**🪪 Named Tuples**  \n",
    "- `from collections import namedtuple`  \n",
    "- `Person = namedtuple('Person', ['name', 'age'])`  \n",
    "- `p = Person('Sharath', 35)`  \n",
    "- `p.name` / `p.age` → Access by name  \n",
    "\n",
    "**🔍 Checking Conditions**  \n",
    "- `any(tuple)` → True if any element is truthy  \n",
    "- `all(tuple)` → True if all elements are truthy  \n",
    "\n",
    "**🔄 Conversion**  \n",
    "- `list(tuple)` → Tuple → List  \n",
    "- `tuple(list)` → List → Tuple  \n"
   ]
  }
 ],
 "metadata": {
  "kernelspec": {
   "display_name": "Python 3",
   "language": "python",
   "name": "python3"
  },
  "language_info": {
   "codemirror_mode": {
    "name": "ipython",
    "version": 3
   },
   "file_extension": ".py",
   "mimetype": "text/x-python",
   "name": "python",
   "nbconvert_exporter": "python",
   "pygments_lexer": "ipython3",
   "version": "3.13.2"
  }
 },
 "nbformat": 4,
 "nbformat_minor": 5
}
