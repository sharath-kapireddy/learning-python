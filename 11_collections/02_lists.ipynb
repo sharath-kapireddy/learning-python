{
 "cells": [
  {
   "cell_type": "markdown",
   "id": "63722bb5",
   "metadata": {},
   "source": [
    "# List\n",
    "- A list is an ordered collection of items, where each item is identified by an index\n",
    "\n",
    "### Common List operations in python\n",
    "1. List Creation\n",
    "2. Concatenation\n",
    "3. Length\n",
    "4. Accessing Elements\n",
    "5. Modifying Elements\n",
    "6. Adding Elements\n",
    "7. Removing Elements\n",
    "8. Copying\n",
    "9. Reordering\n",
    "10. List Info\n",
    "11. Unpacking\n",
    "12. Checking Conditions\n",
    "13. Looping"
   ]
  },
  {
   "cell_type": "code",
   "execution_count": 1,
   "id": "44605ef8",
   "metadata": {},
   "outputs": [
    {
     "name": "stdout",
     "output_type": "stream",
     "text": [
      "[1, 2, 3, 4, 5, 6, 7]\n"
     ]
    }
   ],
   "source": [
    "# -------------------------\n",
    "# List Creation\n",
    "# -------------------------\n",
    "my_list1 = [1,2,3,4]                         # [1, 2, 3, 4]\n",
    "my_list2 = list(range(5,8))                 # [5, 6, 7]\n",
    "my_list3 = list(\"abc\")                      # ['a', 'b', 'c']\n",
    "squared_list = [x**2 for x in my_list1]     # [1, 4, 9, 16]\n",
    "my_list4 = my_list1 + my_list2              # [1, 2, 3, 4, 5, 6, 7]\n",
    "\n",
    "print(my_list4)      # [1, 2, 3, 4, 5, 6, 7]"
   ]
  },
  {
   "cell_type": "code",
   "execution_count": 2,
   "id": "75e8fe37",
   "metadata": {},
   "outputs": [
    {
     "name": "stdout",
     "output_type": "stream",
     "text": [
      "length: 4\n",
      "Index 2: 3\n",
      "Modified: ['0.0', 2, 3, 4]\n",
      "Length after mod: 4\n"
     ]
    }
   ],
   "source": [
    "# -------------------------\n",
    "# Accessing & Modifying\n",
    "# -------------------------\n",
    "my_list1 = [1,2,3,4]                         # [1, 2, 3, 4]\n",
    "print(\"length:\", len(my_list1))    # 4\n",
    "print(\"Index 2:\", my_list1[2])     # 3\n",
    "my_list1[0] = \"0.0\"                # Change 1 to string \"0.0\"\n",
    "print(\"Modified:\", my_list1)       # ['0.0', 2, 3, 4]\n",
    "print(\"Length after mod:\", len(my_list1))  # 4"
   ]
  },
  {
   "cell_type": "code",
   "execution_count": 3,
   "id": "38784daf",
   "metadata": {},
   "outputs": [
    {
     "name": "stdout",
     "output_type": "stream",
     "text": [
      "After adding: ['0.0', 1.0, 2, 3, 4, 5, 6, 7]\n"
     ]
    }
   ],
   "source": [
    "# -------------------------\n",
    "# Adding Elements\n",
    "#     Methods: append(), insert(), extend()\n",
    "# -------------------------\n",
    "my_list1 = ['0.0', 2, 3, 4]\n",
    "my_list1.append(5)                # ['0.0', 2, 3, 4, 5]\n",
    "my_list1.insert(1, 1.00)          # ['0.0', 1.0, 2, 3, 4, 5]\n",
    "my_list1.extend([6,7])            # ['0.0', 1.0, 2, 3, 4, 5, 6, 7]\n",
    "print(\"After adding:\", my_list1)  # ['0.0', 1.0, 2, 3, 4, 5, 6, 7]"
   ]
  },
  {
   "cell_type": "code",
   "execution_count": 4,
   "id": "21c931a4",
   "metadata": {},
   "outputs": [
    {
     "name": "stdout",
     "output_type": "stream",
     "text": [
      "After removing: ['0.0', 2, 5, 6, 7]\n"
     ]
    }
   ],
   "source": [
    "# -------------------------\n",
    "# Removing Elements\n",
    "#     Methods: del, remove, pop(index), pop()\n",
    "#     Notes:\n",
    "#         - del: removes by index\n",
    "#         - remove: removes first occurrence by value\n",
    "#         - pop: removes by index or last element if no index\n",
    "#         - All may raise exceptions if index/value is invalid\n",
    "# -------------------------\n",
    "my_list1 = ['0.0', 1.0, 2, 3, 4, 5, 6, 7]\n",
    "my_list1 = ['0.0', 1.0, 2, 3, 4, 5, 6, 7]\n",
    "del(my_list1[3])                  # Remove 3 → ['0.0', 1.0, 2, 4, 5, 6, 7]\n",
    "if 1.0 in my_list1:\n",
    "    my_list1.remove(1.0)          # Remove value 1.0\n",
    "if 99 in my_list1:\n",
    "    my_list1.remove(99)           # Will not run\n",
    "my_list1.pop(2)                   # Remove index 2 → 2 → ['0.0', 4, 5, 6, 7]\n",
    "print(\"After removing:\", my_list1)  # ['0.0', 4, 5, 6, 7]"
   ]
  },
  {
   "cell_type": "code",
   "execution_count": 5,
   "id": "f13fe3ac",
   "metadata": {},
   "outputs": [
    {
     "name": "stdout",
     "output_type": "stream",
     "text": [
      "After 2 pops: [1, 2, 3]\n"
     ]
    }
   ],
   "source": [
    "# -------------------------\n",
    "# Pop Last & Reset\n",
    "# -------------------------\n",
    "my_list1 = [1,2,3,4,5]             \n",
    "my_list1.pop()                   # Removes 5 → [1,2,3,4]\n",
    "my_list1.pop()                   # Removes 4 → [1,2,3]\n",
    "print(\"After 2 pops:\", my_list1)  # [1, 2, 3]"
   ]
  },
  {
   "cell_type": "code",
   "execution_count": 6,
   "id": "924c4502",
   "metadata": {},
   "outputs": [
    {
     "name": "stdout",
     "output_type": "stream",
     "text": [
      "Sliced: [2, 3, 4, None, 5]\n"
     ]
    }
   ],
   "source": [
    "# -------------------------\n",
    "# Slicing\n",
    "# -------------------------\n",
    "my_list1 = [0,1,2,3,4,None,5,6,7,8]\n",
    "new_list = my_list1[2:7]          # [2, 3, 4, None, 5]\n",
    "print(\"Sliced:\", new_list)        # [2, 3, 4, None, 5]"
   ]
  },
  {
   "cell_type": "code",
   "execution_count": 7,
   "id": "c3f0ab3b",
   "metadata": {},
   "outputs": [
    {
     "name": "stdout",
     "output_type": "stream",
     "text": [
      "Nested access: 7\n"
     ]
    }
   ],
   "source": [
    "# -------------------------\n",
    "# Nested Lists\n",
    "# -------------------------\n",
    "matrix = [[1,2,3,4], [5,6], [7,8]]\n",
    "print(\"Nested access:\", matrix[2][0])  # 7"
   ]
  },
  {
   "cell_type": "code",
   "execution_count": 8,
   "id": "42040f78",
   "metadata": {},
   "outputs": [
    {
     "name": "stdout",
     "output_type": "stream",
     "text": [
      "Index of 4: 4\n",
      "Count of 2: 3\n",
      "Reversed: [2, 2, 8, 7, 6, 5, 4, 3, 2, 1, 0]\n",
      "Cleared List: []\n"
     ]
    }
   ],
   "source": [
    "# -------------------------\n",
    "# Extra List Methods\n",
    "#       Methods: index, count, reverse, clear\n",
    "# -------------------------\n",
    "my_list1 = [0,1,2,3,4,5,6,7,8,2,2]\n",
    "print(\"Index of 4:\", my_list1.index(4))  # 4\n",
    "print(\"Count of 2:\", my_list1.count(2))  # 3\n",
    "\n",
    "my_list1.reverse()              # Reversed in-place\n",
    "print(\"Reversed:\", my_list1)    # [2, 2, 8, 7, 6, 5, 4, 3, 2, 1, 0]\n",
    "\n",
    "my_list1.clear()\n",
    "print(\"Cleared List:\", my_list1)  # []"
   ]
  },
  {
   "cell_type": "code",
   "execution_count": 10,
   "id": "0aa8f43b",
   "metadata": {},
   "outputs": [
    {
     "name": "stdout",
     "output_type": "stream",
     "text": [
      "Copied List: [1, 2, 3, 4, 5]\n",
      "Copied List: [1, 2, 3, 4]\n"
     ]
    }
   ],
   "source": [
    "# -------------------------\n",
    "# copy\n",
    "# -------------------------\n",
    "my_list1 = [1,2,3,4]\n",
    "copy_list = my_list1 # any changes to original list also impacts copied list\n",
    "my_list1.append(5) \n",
    "print(\"Copied List:\", copy_list)  # [1,2,3,4,5]\n",
    "\n",
    "my_list1 = [1,2,3,4]\n",
    "copy_list = my_list1.copy()       # changes to my_lis1 does not impact copy_list\n",
    "print(\"Copied List:\", copy_list)  # [1,2,3,4]"
   ]
  },
  {
   "cell_type": "code",
   "execution_count": 11,
   "id": "db32d5c2",
   "metadata": {},
   "outputs": [
    {
     "name": "stdout",
     "output_type": "stream",
     "text": [
      "Unpacked: 1 2 [3, 4, 5]\n"
     ]
    }
   ],
   "source": [
    "# -------------------------\n",
    "# Unpacking\n",
    "# -------------------------\n",
    "a, b, *rest = [1,2,3,4,5]\n",
    "print(\"Unpacked:\", a, b, rest)  # 1 2 [3, 4, 5]"
   ]
  },
  {
   "cell_type": "code",
   "execution_count": 12,
   "id": "2193e410",
   "metadata": {},
   "outputs": [
    {
     "name": "stdout",
     "output_type": "stream",
     "text": [
      "Any true: True\n",
      "All true: True\n"
     ]
    }
   ],
   "source": [
    "# -------------------------\n",
    "# Any & All\n",
    "# -------------------------\n",
    "print(\"Any true:\", any([False, True, False]))  # True\n",
    "print(\"All true:\", all([True, True, True]))    # True"
   ]
  },
  {
   "cell_type": "code",
   "execution_count": 13,
   "id": "bbccc598",
   "metadata": {},
   "outputs": [
    {
     "name": "stdout",
     "output_type": "stream",
     "text": [
      "Loop item: 5\n",
      "Loop item: 6\n",
      "Loop item: 7\n"
     ]
    }
   ],
   "source": [
    "# -------------------------\n",
    "# Looping\n",
    "# -------------------------\n",
    "for item in my_list2:\n",
    "    print(\"Loop item:\", item)  # 5\\n6\\n7"
   ]
  },
  {
   "cell_type": "code",
   "execution_count": 14,
   "id": "b844f860",
   "metadata": {},
   "outputs": [
    {
     "name": "stdout",
     "output_type": "stream",
     "text": [
      "[9, 2, 5, 1]\n",
      "[1, 2, 5, 9]\n",
      "[1, 2, 5, 9]\n"
     ]
    }
   ],
   "source": [
    "# -------------------------\n",
    "# Sort \n",
    "#       Methods: sorted(), list.sort()\n",
    "# -------------------------\n",
    "import math\n",
    "my_list1 = [9,2,5,1]\n",
    "## without modifying the original list\n",
    "sorted_list = sorted(my_list1)\n",
    "print(my_list1)     # [9, 2, 5, 1]\n",
    "print(sorted_list)  # [1, 2, 5, 9]\n",
    "\n",
    "## sort() - in-place; modifies the original list\n",
    "my_list1 = [9,2,5,1]\n",
    "my_list1.sort()\n",
    "print(my_list1) # [1, 2, 5, 9]"
   ]
  },
  {
   "cell_type": "code",
   "execution_count": 15,
   "id": "fb93567e",
   "metadata": {},
   "outputs": [
    {
     "name": "stdout",
     "output_type": "stream",
     "text": [
      "[1, 2, 3, 5, 9, 'abc', 'a', None, nan]\n",
      "[1, 2, 3, 5, 9, 'abc', 'a', None, nan]\n",
      "[1, 2, 3, 5, 9, 'abc', 'a', None, nan]\n",
      "[1, 2, 3, 5, 9, 'abc', 'a', None, nan]\n"
     ]
    }
   ],
   "source": [
    "# -------------------------\n",
    "# Advanced Sorting\n",
    "#     Methods: sorted(), list.sort()\n",
    "#     Notes:\n",
    "#         - Fails if list contains non-comparable types\n",
    "#         - Example: TypeError: '<' not supported between 'str' and 'int'\n",
    "#         - Use the 'key' parameter to resolve type issues\n",
    "# -------------------------\n",
    "import math\n",
    "my_list1 = [9,2,None,5,float('nan'),\"abc\",1,\"a\",3]\n",
    "\n",
    "## Works but one disadvantage is we are looping through the my_list1 3 times\n",
    "sorted_list = (\n",
    "            sorted(x for x in my_list1 if isinstance(x,(int, float)) and not math.isnan(x)) \n",
    "            + [x for x in my_list1 if not isinstance(x,(int,float)) and x is not None] \n",
    "            + [x for x in my_list1 if x is None or (isinstance(x,float) and math.isnan(x))]\n",
    "        )\n",
    "print(sorted_list) # [1, 2, 3, 5, 9, 'abc', 'a', None, nan]\n",
    "\n",
    "## Alternate aproach avoiding looping multiple times; Slightly longer code, but arguably clearer and more performant.\n",
    "nums, others, edge_cases = [],[],[]\n",
    "\n",
    "for x in my_list1:\n",
    "    if isinstance(x, (int, float)) and not math.isnan(x):\n",
    "        nums.append(x)\n",
    "    elif x is None or (isinstance(x, float) and math.isnan(x)):\n",
    "        edge_cases.append(x)\n",
    "    else:\n",
    "        others.append(x)\n",
    "sorted_list = sorted(nums) + others + edge_cases\n",
    "print(sorted_list) # [1, 2, 3, 5, 9, 'abc', 'a', None, nan]\n",
    "\n",
    "## lambda\n",
    "sorted_list = sorted(\n",
    "        my_list1,\n",
    "        key=lambda x: (\n",
    "            0 if isinstance(x, (int, float)) and not math.isnan(x) else\n",
    "            1 if not isinstance(x, (int, float)) and x is not None else\n",
    "            2,\n",
    "            x if isinstance(x, (int, float)) and not math.isnan(x) else 0\n",
    "        )\n",
    "    )\n",
    "print(sorted_list) # [1, 2, 3, 5, 9, 'abc', 'a', None, nan]\n",
    "\n",
    "## In-place sort using list.sort()\n",
    "my_list1.sort(key=lambda x: (\n",
    "            0 if isinstance(x, (int, float)) and not math.isnan(x) else\n",
    "            1 if not isinstance(x, (int, float)) and x is not None else\n",
    "            2,\n",
    "            x if isinstance(x, (int, float)) and not math.isnan(x) else 0\n",
    "        ))\n",
    "print(my_list1) # [1, 2, 3, 5, 9, 'abc', 'a', None, nan]\n"
   ]
  },
  {
   "cell_type": "markdown",
   "id": "9d4dff81",
   "metadata": {},
   "source": [
    "### Summary\n",
    "\n",
    "**✅ List Creation**\n",
    "- `[]` → Basic list creation\n",
    "- `list()` → Convert iterable to list\n",
    "- `list(range())` → Create list from range\n",
    "- `list(\"abc\")` → From string\n",
    "- `List comprehension` → [x ** 2 for x in my_list]\n",
    "\n",
    "**➕ Concatenation**\n",
    "- `+` → Combines two lists into one\n",
    "\n",
    "**📏 Length**\n",
    "- `len(list)` → Returns number of elements\n",
    " \n",
    "**🔢 Accessing Elements**\n",
    "- `list[i]` → Access by index\n",
    "- `list[i:j]` → Slicing\n",
    "- `nested_list[i][j]` → Access nested elements\n",
    "\n",
    "**✍️ Modifying Elements**\n",
    "- `list[i]` = value → Replace value at index\n",
    " \n",
    "**➕ Adding Elements**\n",
    "- `.append(value)` → Add to end\n",
    "- `.insert(index, value)` → Insert at index\n",
    "- `.extend(iterable)` → Add all items from another list\n",
    " \n",
    "**❌ Removing Elements**\n",
    "- `del list[i]` → Delete by index\n",
    "- `.pop(index)` → Remove & return element at index\n",
    "- `.pop()` → Remove & return last element\n",
    "- `.remove(value)` → Remove first occurrence by value\n",
    "- `list.clear()` → Empty the list\n",
    " \n",
    "**🔁 Copying**\n",
    "- `.copy()` → Shallow copy of list\n",
    " \n",
    "**🔄 Reordering**\n",
    "- `.reverse()` → Reverse list in place\n",
    "- `.sort()` / `.sort(key=...)` → Sort list in place\n",
    " \n",
    "**🧠 List Info**\n",
    "- `.index(value)` → First index of value\n",
    "- `.count(value)` → Count occurrences\n",
    " \n",
    "**🪄 Unpacking**\n",
    "- `a, b, *rest = list` → Tuple-style unpacking\n",
    " \n",
    "**🔍 Checking Conditions**\n",
    "- `any(list)` → True if any element is truthy\n",
    "- `all(list)` → True if all elements are truthy\n",
    " \n",
    "**🔁 Looping**\n",
    "- `for item in list`: → Iterate through items\n"
   ]
  }
 ],
 "metadata": {
  "kernelspec": {
   "display_name": "Python 3",
   "language": "python",
   "name": "python3"
  },
  "language_info": {
   "codemirror_mode": {
    "name": "ipython",
    "version": 3
   },
   "file_extension": ".py",
   "mimetype": "text/x-python",
   "name": "python",
   "nbconvert_exporter": "python",
   "pygments_lexer": "ipython3",
   "version": "3.13.2"
  }
 },
 "nbformat": 4,
 "nbformat_minor": 5
}
