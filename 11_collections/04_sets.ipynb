{
 "cells": [
  {
   "cell_type": "markdown",
   "id": "4c477e79",
   "metadata": {},
   "source": [
    "# Set\n",
    "- A set is an unordered collection of unique items, meaning it does not allow duplicates.\n",
    "\n",
    "### Common Set operations in Python\n",
    "1. Set Creation\n",
    "2. Union\n",
    "3. Intersection\n",
    "4. Difference\n",
    "5. Symmetric Difference\n",
    "6. Adding Elements\n",
    "7. Removing Elements\n",
    "8. Set Info\n",
    "9. Copying\n",
    "10. Checking Membership\n",
    "11. Looping\n"
   ]
  },
  {
   "cell_type": "code",
   "execution_count": 1,
   "id": "72c9b1c2",
   "metadata": {},
   "outputs": [
    {
     "name": "stdout",
     "output_type": "stream",
     "text": [
      "Union: {1, 2, 3, 4, 5, 6}\n"
     ]
    }
   ],
   "source": [
    "# -------------------------\n",
    "# Set Creation\n",
    "# -------------------------\n",
    "my_set1 = {1, 2, 3, 4}                       # {1, 2, 3, 4}\n",
    "my_set2 = set([4, 5, 6])                     # {4, 5, 6}\n",
    "my_set3 = set(\"abc\")                         # {'a', 'b', 'c'}\n",
    "my_set4 = my_set1 | my_set2                  # {1, 2, 3, 4, 5, 6}\n",
    "\n",
    "print(\"Union:\", my_set4)                     # {1, 2, 3, 4, 5, 6}"
   ]
  },
  {
   "cell_type": "code",
   "execution_count": 2,
   "id": "4c63a366",
   "metadata": {},
   "outputs": [
    {
     "name": "stdout",
     "output_type": "stream",
     "text": [
      "union: {1, 2, 3, 4, 5}\n",
      "Intersection: {3}\n",
      "Difference: {1, 2}\n",
      "Symmetric Difference: {1, 2, 4, 5}\n"
     ]
    }
   ],
   "source": [
    "# -------------------------\n",
    "# Set Operations: Union, Intersection, Difference\n",
    "# -------------------------\n",
    "set_a = {1, 2, 3}\n",
    "set_b = {3, 4, 5}\n",
    "print(\"union:\", set_a | set_b)        # {3}\n",
    "print(\"Intersection:\", set_a & set_b)        # {3}\n",
    "print(\"Difference:\", set_a - set_b)          # {1, 2}\n",
    "print(\"Symmetric Difference:\", set_a ^ set_b) # {1, 2, 4, 5}"
   ]
  },
  {
   "cell_type": "code",
   "execution_count": 3,
   "id": "3e1d0674",
   "metadata": {},
   "outputs": [
    {
     "name": "stdout",
     "output_type": "stream",
     "text": [
      "Union: {1, 2, 3, 4, 5}\n",
      "Intersection: {3}\n",
      "Difference: {1, 2}\n",
      "Symmetric Difference: {1, 2, 4, 5}\n"
     ]
    }
   ],
   "source": [
    "# -------------------------\n",
    "# Set Operations using Methods\n",
    "# -------------------------\n",
    "set_a = {1, 2, 3}\n",
    "set_b = {3, 4, 5}\n",
    "\n",
    "print(\"Union:\", set_a.union(set_b))                   # {1, 2, 3, 4, 5}\n",
    "print(\"Intersection:\", set_a.intersection(set_b))     # {3}\n",
    "print(\"Difference:\", set_a.difference(set_b))         # {1, 2}\n",
    "print(\"Symmetric Difference:\", set_a.symmetric_difference(set_b)) # {1, 2, 4, 5}\n"
   ]
  },
  {
   "cell_type": "code",
   "execution_count": 4,
   "id": "0ba7063a",
   "metadata": {},
   "outputs": [
    {
     "name": "stdout",
     "output_type": "stream",
     "text": [
      "Popped: 1\n",
      "Set after popping: {3, 6}\n"
     ]
    }
   ],
   "source": [
    "# -------------------------\n",
    "# Adding & Removing Elements\n",
    "# -------------------------\n",
    "set_a = {1, 2, 3}\n",
    "set_b = {3, 4, 5}\n",
    "\n",
    "set_a.add(6)                                 # {1, 2, 3, 6}\n",
    "set_a.remove(2)                              # {1, 3, 6} error if element is not present\n",
    "set_a.discard(10)                            # No error if element doesn't exist\n",
    "popped_element = set_a.pop()                 # Removes and returns a random element\n",
    "print(\"Popped:\", popped_element)             # Random element popped\n",
    "print(\"Set after popping:\", set_a)           # Remaining set"
   ]
  },
  {
   "cell_type": "code",
   "execution_count": 5,
   "id": "e54fb9ed",
   "metadata": {},
   "outputs": [
    {
     "name": "stdout",
     "output_type": "stream",
     "text": [
      "Set contains 3: True\n",
      "Set contains 10: False\n",
      "Length: 3\n"
     ]
    }
   ],
   "source": [
    "# -------------------------\n",
    "# Set Info and Membership\n",
    "# -------------------------\n",
    "set_a = {1, 2, 3}\n",
    "set_b = {3, 4, 5}\n",
    "\n",
    "print(\"Set contains 3:\", 3 in set_a)         # True\n",
    "print(\"Set contains 10:\", 10 in set_a)       # False\n",
    "\n",
    "my_set = {10, 20, 30}\n",
    "print(\"Length:\", len(my_set))         # 3"
   ]
  },
  {
   "cell_type": "code",
   "execution_count": 6,
   "id": "438ea99d",
   "metadata": {},
   "outputs": [
    {
     "name": "stdout",
     "output_type": "stream",
     "text": [
      "Copied Set: {10, 20, 30}\n"
     ]
    }
   ],
   "source": [
    "# -------------------------\n",
    "# Shallow copy\n",
    "# -------------------------\n",
    "my_set = {10, 20, 30}\n",
    "copied_set = my_set.copy()           # Shallow copy\n",
    "print(\"Copied Set:\", copied_set)     # {10, 20, 30}"
   ]
  },
  {
   "cell_type": "code",
   "execution_count": 7,
   "id": "1510c0bd",
   "metadata": {},
   "outputs": [
    {
     "name": "stdout",
     "output_type": "stream",
     "text": [
      "20 in set: True\n",
      "50 in set: False\n"
     ]
    }
   ],
   "source": [
    "# -------------------------\n",
    "# Checking Membership\n",
    "# -------------------------\n",
    "my_set = {10, 20, 30}\n",
    "print(\"20 in set:\", 20 in my_set)    # True\n",
    "print(\"50 in set:\", 50 in my_set)    # False\n"
   ]
  },
  {
   "cell_type": "code",
   "execution_count": 8,
   "id": "40fef30b",
   "metadata": {},
   "outputs": [
    {
     "name": "stdout",
     "output_type": "stream",
     "text": [
      "Looping through my_set:\n",
      "10\n",
      "20\n",
      "30\n"
     ]
    }
   ],
   "source": [
    "\n",
    "# -------------------------\n",
    "# Looping through Set\n",
    "# -------------------------\n",
    "my_set = {10, 20, 30}\n",
    "print(\"Looping through my_set:\")\n",
    "for item in my_set:\n",
    "    print(item)                      # 10, 20, 30 (order may vary)"
   ]
  },
  {
   "cell_type": "markdown",
   "id": "e93109ea",
   "metadata": {},
   "source": [
    "### Summary\n",
    "\n",
    "**✅ Set Creation**\n",
    "- {} → Basic set creation\n",
    "- set() → Convert iterable to set\n",
    "- set(\"abc\") → From string\n",
    "\n",
    "**➕ Union**\n",
    "- | → Combine two sets (union)\n",
    "\n",
    "**🔄 Intersection**\n",
    "- & → Common elements between sets\n",
    "\n",
    "**❌ Difference**\n",
    "- - → Elements in the first set but not in the second\n",
    "\n",
    "**🔀 Symmetric Difference**\n",
    "- ^ → Elements in either set, but not in both\n",
    "\n",
    "**✍️ Adding Elements**\n",
    "- .add(value) → Add a single element\n",
    "\n",
    "**❌ Removing Elements**\n",
    "- .remove(value) → Remove by value (raises KeyError if not found)\n",
    "- .discard(value) → Remove by value (no error if not found)\n",
    "- .pop() → Removes a random element\n",
    "- .clear() → Empty the set\n",
    "\n",
    "**🔍 Set Info**\n",
    "- len(set) → Returns number of elements\n",
    "- .copy() → Shallow copy of set\n",
    "\n",
    "**🔍 Checking Membership**\n",
    "- value in set → Check if value is present\n",
    "\n",
    "**🔁 Looping**\n",
    "- for item in set: → Iterate through elements\n"
   ]
  }
 ],
 "metadata": {
  "kernelspec": {
   "display_name": "Python 3",
   "language": "python",
   "name": "python3"
  },
  "language_info": {
   "codemirror_mode": {
    "name": "ipython",
    "version": 3
   },
   "file_extension": ".py",
   "mimetype": "text/x-python",
   "name": "python",
   "nbconvert_exporter": "python",
   "pygments_lexer": "ipython3",
   "version": "3.13.2"
  }
 },
 "nbformat": 4,
 "nbformat_minor": 5
}
