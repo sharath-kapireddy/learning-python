{
 "cells": [
  {
   "cell_type": "markdown",
   "id": "d45d264c",
   "metadata": {},
   "source": [
    "# random\n",
    "\n",
    "- A standard library module in Python.\n",
    "- Used to generate pseudo-random numbers.\n",
    "- Great for random selection, shuffling, sampling, and random number generation.\n",
    "- These are pseudo-random numbers (deterministic with a seed).\n",
    "- Not suitable for cryptographic use — for that, use secrets module.\n",
    "\n",
    "**Example 1:**"
   ]
  },
  {
   "cell_type": "code",
   "execution_count": 1,
   "id": "2eed33e4",
   "metadata": {},
   "outputs": [
    {
     "name": "stdout",
     "output_type": "stream",
     "text": [
      "Random integer between 1 and 100: 82\n",
      "Random float between 0.0 and 1.0: 0.22989920087742788\n",
      "Random integer from range(10, 20, 2): 18\n",
      "-------\n",
      "Distribution of random integers between 1 and 5 (over {num_iterations} trials):\n",
      "{1: 20149, 2: 20111, 3: 19738, 4: 20057, 5: 19946}\n"
     ]
    }
   ],
   "source": [
    "import random\n",
    "\n",
    "import random\n",
    "\n",
    "# Generate a random integer between a and b (inclusive).\n",
    "my_int = random.randint(1, 100)\n",
    "print(f\"Random integer between 1 and 100: {my_int}\")\n",
    "\n",
    "# Generate a random floating-point number in the range [0.0, 1.0).\n",
    "my_float = random.random()\n",
    "print(f\"Random float between 0.0 and 1.0: {my_float}\")\n",
    "\n",
    "# Generate a random integer chosen from the range specified by start, stop, and step.\n",
    "# This is equivalent to choosing randomly from range(start, stop, step).\n",
    "my_int_range = random.randrange(10, 20, 2) # Possible values: 10, 12, 14, 16, 18\n",
    "print(f\"Random integer from range(10, 20, 2): {my_int_range}\")\n",
    "\n",
    "print(\"-------\")\n",
    "\n",
    "# Generate a random integer between 1 and 5 (inclusive) 1001 times and print the distribution.\n",
    "distribution = {1:0, 2:0, 3:0, 4:0, 5:0}\n",
    "num_iterations = 100001\n",
    "min_val = 1\n",
    "max_val = 5\n",
    "\n",
    "for _ in range(num_iterations):\n",
    "    num = random.randint(min_val, max_val)\n",
    "    if num in distribution:\n",
    "        distribution[num] += 1\n",
    "    else:\n",
    "        distribution[num] = 1\n",
    "\n",
    "print(\"Distribution of random integers between 1 and 5 (over {num_iterations} trials):\")\n",
    "print(distribution)\n",
    "# Expected Output (will vary slightly on each run):\n",
    "# {1: ~20000, 2: ~20000, 3: ~20000, 4: ~20000, 5: ~20000} - Approximately equal counts"
   ]
  },
  {
   "cell_type": "markdown",
   "id": "e23c0428",
   "metadata": {},
   "source": [
    "**Example 2**"
   ]
  },
  {
   "cell_type": "code",
   "execution_count": 4,
   "id": "5b7b4940",
   "metadata": {},
   "outputs": [
    {
     "name": "stdout",
     "output_type": "stream",
     "text": [
      "Going to sleep for 1 second(s)...\n",
      "Woke up!\n"
     ]
    }
   ],
   "source": [
    "import random\n",
    "import time\n",
    "\n",
    "# Generate a random number of seconds (between 1 and 3 inclusive) to sleep.\n",
    "stop_secs = random.randint(1, 3)\n",
    "\n",
    "print(f\"Going to sleep for {stop_secs} second(s)...\")\n",
    "time.sleep(stop_secs)  # Pause the script's execution for the generated number of seconds.\n",
    "print(\"Woke up!\")"
   ]
  }
 ],
 "metadata": {
  "kernelspec": {
   "display_name": "Python 3",
   "language": "python",
   "name": "python3"
  },
  "language_info": {
   "codemirror_mode": {
    "name": "ipython",
    "version": 3
   },
   "file_extension": ".py",
   "mimetype": "text/x-python",
   "name": "python",
   "nbconvert_exporter": "python",
   "pygments_lexer": "ipython3",
   "version": "3.13.2"
  }
 },
 "nbformat": 4,
 "nbformat_minor": 5
}
