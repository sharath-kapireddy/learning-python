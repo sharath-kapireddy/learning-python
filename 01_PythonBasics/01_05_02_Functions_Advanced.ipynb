{
 "cells": [
  {
   "cell_type": "markdown",
   "id": "66c6c1db",
   "metadata": {},
   "source": [
    "## First-class objects\n",
    "In Python, functions are **first-class objects**, which means you can:\n",
    "- Assign them to variables\n",
    "- Pass them as arguments\n",
    "- Return them from other functions"
   ]
  },
  {
   "cell_type": "code",
   "execution_count": 1,
   "id": "b74b6cdb",
   "metadata": {},
   "outputs": [
    {
     "name": "stdout",
     "output_type": "stream",
     "text": [
      "Hello, Sharath!\n",
      "-------\n",
      "15\n",
      "5\n"
     ]
    }
   ],
   "source": [
    "# Example using variable as function\n",
    "def greet(name):\n",
    "    return f\"Hello, {name}!\"\n",
    "\n",
    "# Assign function to a variable\n",
    "say_hello = greet\n",
    "\n",
    "# Call using the variable\n",
    "print(say_hello(\"Sharath\"))\n",
    "\n",
    "print(\"-------\")\n",
    "\n",
    "# Example using dictionary to store multiple functions\n",
    "def add(x, y): return x + y\n",
    "def sub(x, y): return x - y\n",
    "\n",
    "ops = {\n",
    "    \"sum\": add,\n",
    "    \"diff\": sub\n",
    "}\n",
    "\n",
    "print(ops[\"sum\"](10, 5))   # ➡️ 15\n",
    "print(ops[\"diff\"](10, 5))  # ➡️ 5\n",
    " "
   ]
  },
  {
   "cell_type": "markdown",
   "id": "082f73b0",
   "metadata": {},
   "source": [
    "**One more Example of using functions as first-class objects**"
   ]
  },
  {
   "cell_type": "code",
   "execution_count": 2,
   "id": "004ccc1e",
   "metadata": {},
   "outputs": [
    {
     "name": "stdout",
     "output_type": "stream",
     "text": [
      "welcome2025topython\n"
     ]
    }
   ],
   "source": [
    "# Original input string\n",
    "input_str = \"  Welcome@2025! To PYTHON.  \"\n",
    "\n",
    "# Step 1: Trim leading and trailing spaces\n",
    "def strip_whitespace(s):\n",
    "    return s.strip()\n",
    "\n",
    "# Step 2: Convert to lowercase\n",
    "def to_lowercase(s):\n",
    "    return s.lower()\n",
    "\n",
    "# Step 3: Reverse the string\n",
    "def reverse_string(s):\n",
    "    return s[::-1]\n",
    "\n",
    "# Step 4: Remove all non-alphanumeric characters\n",
    "def remove_non_alphanum(s):\n",
    "    return ''.join(char for char in s if char.isalnum())\n",
    "\n",
    "# List of transformation functions (pipeline)\n",
    "transform_pipeline = [\n",
    "    strip_whitespace,\n",
    "    to_lowercase,\n",
    "    reverse_string,\n",
    "    remove_non_alphanum,\n",
    "    reverse_string  # final reverse\n",
    "]\n",
    "\n",
    "# Apply each function in the pipeline\n",
    "for transform in transform_pipeline:\n",
    "    input_str = transform(input_str)\n",
    "\n",
    "# Final result\n",
    "print(input_str)  # Output: welcomet2025otpython\n"
   ]
  },
  {
   "cell_type": "markdown",
   "id": "b7434c6e",
   "metadata": {},
   "source": [
    "## closures \n",
    "A closure is an inner function that remembers and has access to variables in the enclosing scope, even after the outer function has finished executing.\n",
    "\n",
    "**Closure Examples:**"
   ]
  },
  {
   "cell_type": "code",
   "execution_count": 3,
   "id": "b5dc2be0",
   "metadata": {},
   "outputs": [
    {
     "name": "stdout",
     "output_type": "stream",
     "text": [
      "16\n",
      "8\n"
     ]
    }
   ],
   "source": [
    "def power_factory(exp):\n",
    "    def raise_to(x):\n",
    "        return x ** exp\n",
    "    return raise_to\n",
    "\n",
    "square = power_factory(2)\n",
    "cube = power_factory(3)\n",
    "\n",
    "print(square(4))  # ➡️ 16\n",
    "print(cube(2))    # ➡️ 8\n"
   ]
  },
  {
   "cell_type": "markdown",
   "id": "b25ef898",
   "metadata": {},
   "source": [
    "**Example: Closure as a Way to Maintain State Without Classes**"
   ]
  },
  {
   "cell_type": "code",
   "execution_count": 4,
   "id": "81702400",
   "metadata": {},
   "outputs": [
    {
     "name": "stdout",
     "output_type": "stream",
     "text": [
      "1\n",
      "2\n"
     ]
    }
   ],
   "source": [
    "def counter():\n",
    "    count = 0\n",
    "    def increment():\n",
    "        nonlocal count\n",
    "        count += 1\n",
    "        return count\n",
    "    return increment\n",
    "\n",
    "next_count = counter()\n",
    "print(next_count())  # ➡️ 1\n",
    "print(next_count())  # ➡️ 2\n"
   ]
  },
  {
   "cell_type": "markdown",
   "id": "6e236c2e",
   "metadata": {},
   "source": [
    "**global vs nonlocal**\n",
    "- Use **global** when you want to modify a global variable from inside a function.\n",
    "- Use **nonlocal** when you want to modify a variable from an enclosing function, not the global scope."
   ]
  }
 ],
 "metadata": {
  "kernelspec": {
   "display_name": "Python 3",
   "language": "python",
   "name": "python3"
  },
  "language_info": {
   "codemirror_mode": {
    "name": "ipython",
    "version": 3
   },
   "file_extension": ".py",
   "mimetype": "text/x-python",
   "name": "python",
   "nbconvert_exporter": "python",
   "pygments_lexer": "ipython3",
   "version": "3.13.2"
  }
 },
 "nbformat": 4,
 "nbformat_minor": 5
}
