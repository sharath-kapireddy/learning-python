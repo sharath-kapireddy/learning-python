{
 "cells": [
  {
   "cell_type": "markdown",
   "id": "19551bcf",
   "metadata": {},
   "source": [
    "## Conditional Statements\n",
    "- The fundamental `if`, `elif`, and `else` statements for branching logic.\n",
    "- The concise conditional expression (ternary operator) for simple assignments.\n",
    "- The `match...case` statement (introduced in Python 3.10) for pattern matching against multiple possible values."
   ]
  },
  {
   "cell_type": "code",
   "execution_count": 1,
   "id": "1a61a223",
   "metadata": {},
   "outputs": [
    {
     "name": "stdout",
     "output_type": "stream",
     "text": [
      "Initial values: x = 1000, y = 100\n",
      "\n",
      "--- if-elif-else ---\n",
      "x is greater than y\n",
      "\n",
      "--- Ternary Operator ---\n",
      "Using ternary operator: x >= y\n",
      "Directly in f-string: x >= y\n",
      "\n",
      "--- match-case ---\n",
      "Match result for 'three': (3, 4)\n",
      "\n",
      "--- FizzBuzz Example (Ternary) ---\n",
      "1: 1\n",
      "2: Fizz\n",
      "3: Buzz\n",
      "4: Fizz\n",
      "5: 5\n",
      "6: FizzBuzz\n",
      "7: 7\n",
      "8: Fizz\n",
      "9: Buzz\n",
      "10: Fizz\n",
      "11: 11\n",
      "12: FizzBuzz\n",
      "13: 13\n",
      "14: Fizz\n",
      "15: Buzz\n"
     ]
    }
   ],
   "source": [
    "# Main function to encapsulate the examples\n",
    "def conditionals_example():\n",
    "    x, y = 1000, 100\n",
    "    print(f\"Initial values: x = {x}, y = {y}\")\n",
    "\n",
    "    # --- Conditional flow using if, elif, else ---\n",
    "    print(\"\\n--- if-elif-else ---\")\n",
    "    result = \"\"\n",
    "    if x > y:\n",
    "        result = \"x is greater than y\"\n",
    "    elif x == y:\n",
    "        result = \"x is equal to y\"\n",
    "    else:\n",
    "        result = \"x is less than y\"\n",
    "    print(result) # Output: x is greater than y\n",
    "\n",
    "    # --- Conditional expression (ternary operator) ---\n",
    "    # Format: value_if_true if condition else value_if_false\n",
    "    print(\"\\n--- Ternary Operator ---\")\n",
    "    result = \"x < y\" if x < y else \"x >= y\"\n",
    "    print(f\"Using ternary operator: {result}\") # Output: x >= y\n",
    "\n",
    "    # Example of using f-string directly with ternary operator\n",
    "    print(f\"Directly in f-string: {'x < y' if x < y else 'x >= y'}\") # Output: x >= y\n",
    "\n",
    "    # --- match-case statement (Python 3.10+) ---\n",
    "    # Useful for comparing a variable against multiple literal patterns\n",
    "    print(\"\\n--- match-case ---\")\n",
    "    var1 = \"three\" # Changed value to match a case\n",
    "    res = \"\"\n",
    "\n",
    "    match var1:\n",
    "        case \"one\":\n",
    "            res = 1\n",
    "        case \"two\":\n",
    "            res = 2\n",
    "        case \"three\" | \"four\": # Matches if var1 is \"three\" OR \"four\"\n",
    "            res = (3, 4)\n",
    "        case _: # Default case (wildcard), matches anything else\n",
    "            res = -1\n",
    "\n",
    "    print(f\"Match result for '{var1}': {res}\") # Output: (3, 4)\n",
    "\n",
    "    # --- Fizz Buzz Problem using conditional statement (Demo for ternary operator) ---\n",
    "    print(\"\\n--- FizzBuzz Example (Ternary) ---\")\n",
    "    # For numbers between 1 to 15:\n",
    "    # - Print \"FizzBuzz\" if the number is divisible by 6 (i.e., by 2 and 3)\n",
    "    # - Print \"Fizz\" if divisible by 2 (and not 6)\n",
    "    # - Print \"Buzz\" if divisible by 3 (and not 6 or 2)\n",
    "    # - Else print the number itself\n",
    "\n",
    "    # Nested ternary operators execute from left to right.\n",
    "    # Check most specific condition first (divisible by 6).\n",
    "    for num in range(1, 16):\n",
    "        result = \"FizzBuzz\" if num % 6 == 0 else \"Fizz\" if num % 2 == 0 else \"Buzz\" if num % 3 == 0 else num\n",
    "        print(f\"{num}: {result}\")\n",
    "\n",
    "conditionals_example()\n"
   ]
  },
  {
   "cell_type": "markdown",
   "id": "357a138e",
   "metadata": {},
   "source": []
  }
 ],
 "metadata": {
  "kernelspec": {
   "display_name": "Python 3",
   "language": "python",
   "name": "python3"
  },
  "language_info": {
   "codemirror_mode": {
    "name": "ipython",
    "version": 3
   },
   "file_extension": ".py",
   "mimetype": "text/x-python",
   "name": "python",
   "nbconvert_exporter": "python",
   "pygments_lexer": "ipython3",
   "version": "3.13.2"
  }
 },
 "nbformat": 4,
 "nbformat_minor": 5
}
