{
 "cells": [
  {
   "cell_type": "markdown",
   "id": "7d763788",
   "metadata": {},
   "source": [
    "# Lambdas\n",
    "lambdas are small anonymous functions defined with the lambda keyword. They are commonly used for short, throwaway functions that are not reused elsewhere.\n",
    "\n",
    "**Syntax:**\n",
    "```python\n",
    "lambda arguments: expression\n",
    "```\n",
    "- Takes any number of arguments.\n",
    "- Can only contain one expression (no statements).\n",
    "- Returns the result of the expression.\n",
    "\n",
    "**Uses:**\n",
    "- When the function is simple and used once.\n",
    "- Inside functions like map(), filter(), sorted(), etc.\n",
    "- To avoid cluttering code with full def statements.\n",
    "\n",
    "**Examples**"
   ]
  },
  {
   "cell_type": "code",
   "execution_count": 1,
   "id": "67a4bc47",
   "metadata": {},
   "outputs": [
    {
     "name": "stdout",
     "output_type": "stream",
     "text": [
      "16\n",
      "8\n",
      "10\n",
      "[(2, 1), (4, 2), (1, 3)]\n"
     ]
    }
   ],
   "source": [
    "# Square a number\n",
    "square = lambda x: x * x\n",
    "print(square(4))  # Output: 16\n",
    "\n",
    "# Add two numbers\n",
    "add = lambda x, y: x + y\n",
    "print(add(3, 5))  # Output: 8\n",
    "\n",
    "# Compute inline\n",
    "res = (lambda x:x+3)(7)\n",
    "print(res) # Output: 10\n",
    "\n",
    "# Sort list of tuples by second element\n",
    "data = [(1, 3), (2, 1), (4, 2)]\n",
    "sorted_data = sorted(data, key=lambda x: x[1])\n",
    "print(sorted_data)  # [(2, 1), (4, 2), (1, 3)]\n"
   ]
  }
 ],
 "metadata": {
  "kernelspec": {
   "display_name": "Python 3",
   "language": "python",
   "name": "python3"
  },
  "language_info": {
   "codemirror_mode": {
    "name": "ipython",
    "version": 3
   },
   "file_extension": ".py",
   "mimetype": "text/x-python",
   "name": "python",
   "nbconvert_exporter": "python",
   "pygments_lexer": "ipython3",
   "version": "3.13.2"
  }
 },
 "nbformat": 4,
 "nbformat_minor": 5
}
