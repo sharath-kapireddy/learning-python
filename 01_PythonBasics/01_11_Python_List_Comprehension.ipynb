{
 "cells": [
  {
   "cell_type": "markdown",
   "id": "48b8b850",
   "metadata": {},
   "source": [
    "# 🧠 Python List Comprehension Cheat Sheet + Practice"
   ]
  },
  {
   "cell_type": "markdown",
   "id": "b6ff1e61",
   "metadata": {},
   "source": [
    "\n",
    "## ✅ Cheat Sheet\n",
    "\n",
    "| Type                                 | Syntax Example                                         | Purpose                         |\n",
    "|--------------------------------------|--------------------------------------------------------|----------------------------------|\n",
    "| **Basic**                            | `[x*2 for x in nums]`                                  | Apply logic to all               |\n",
    "| **Filter only**                      | `[x for x in nums if x % 2 == 0]`                      | Include elements conditionally   |\n",
    "| **Ternary inside**                   | `[x**2 if x%2==0 else x**3 for x in nums]`             | Choose between two options       |\n",
    "| **Filter + Ternary**                 | `[x**2 if x<10 else x**3 for x in nums if x%2==0]`     | Combine filter + conditional     |\n",
    "| **Nested List**                      | `[[x*2 for x in row] for row in matrix]`               | Handle nested structures         |\n",
    "| **Dictionary Comprehension**         | `{x: x**2 if x%2==0 else x**3 for x in nums}`          | Create key-value mapping         |\n",
    "| **Set Comprehension**                | `{x*2 for x in nums}`                                  | Unique values only               |\n",
    "| **With enumerate/zip**               | `[i for i, v in enumerate(nums) if v > 0]`             | Track indices with conditions    |\n"
   ]
  },
  {
   "cell_type": "markdown",
   "id": "8c621827",
   "metadata": {},
   "source": [
    "## 🧩 Practice Exercises\n",
    "\n",
    "### 1. Double the even numbers only\n",
    "Given a list of integers, return a list with only the even numbers doubled.\n",
    "```python\n",
    "# Output: [4, 8, 12]\n",
    "nums = [1, 2, 3, 4, 5, 6]\n",
    "```"
   ]
  },
  {
   "cell_type": "code",
   "execution_count": null,
   "id": "657a713d",
   "metadata": {},
   "outputs": [],
   "source": [
    "## "
   ]
  },
  {
   "cell_type": "markdown",
   "id": "2100db81",
   "metadata": {},
   "source": [
    "### 2. Replace negatives with 0, leave others\n",
    "Given a list of integers, replace negative numbers with 0.\n",
    "```python \n",
    "# Output: [0, 5, 0, 10, 15]\n",
    "nums = [-2, 5, -3, 10, 15]\n",
    "```"
   ]
  },
  {
   "cell_type": "code",
   "execution_count": null,
   "id": "97111bbe",
   "metadata": {},
   "outputs": [],
   "source": [
    "## "
   ]
  },
  {
   "cell_type": "markdown",
   "id": "de9f7a38",
   "metadata": {},
   "source": [
    "### 3. If divisible by 3, cube it, else square it\n",
    "Given a list of integers, cube those divisible by 3 and square the rest.\n",
    "```python\n",
    "# Output: [1, 4, 27, 16, 25, 216]\n",
    "nums = [1, 2, 3, 4, 5, 6]\n",
    "```"
   ]
  },
  {
   "cell_type": "code",
   "execution_count": null,
   "id": "b55e8ca7",
   "metadata": {},
   "outputs": [],
   "source": [
    "## "
   ]
  },
  {
   "cell_type": "markdown",
   "id": "38c0ef04",
   "metadata": {},
   "source": [
    "### 4. Matrix flatten and square each\n",
    "Given a 2D list (matrix), flatten it and return a list of squares of all numbers.\n",
    "```python\n",
    "# Output: [1, 4, 9, 16]\n",
    "matrix = [[1, 2], [3, 4]]\n",
    "```"
   ]
  },
  {
   "cell_type": "code",
   "execution_count": null,
   "id": "2e64b86e",
   "metadata": {},
   "outputs": [],
   "source": [
    "## "
   ]
  },
  {
   "cell_type": "markdown",
   "id": "56cc80bc",
   "metadata": {},
   "source": [
    "### 5. Create dict: num → 'even' or 'odd'\n",
    "Given a list of integers, return a dictionary where the key is the number and the value is either 'even' or 'odd'.\n",
    "```python\n",
    "# Output: {1: 'odd', 2: 'even', 3: 'odd'}\n",
    "nums = [1, 2, 3]\n",
    "```"
   ]
  },
  {
   "cell_type": "code",
   "execution_count": null,
   "id": "bc16783d",
   "metadata": {},
   "outputs": [],
   "source": [
    "## "
   ]
  },
  {
   "cell_type": "markdown",
   "id": "773cf5a7",
   "metadata": {},
   "source": [
    "### 6. Set of squares of odd numbers only\n",
    "Given a list of integers, return a set containing squares of all odd numbers.\n",
    "```python\n",
    "# Output: {1, 9, 25}\n",
    "nums = [1, 2, 3, 4, 5]\n",
    "```"
   ]
  },
  {
   "cell_type": "code",
   "execution_count": null,
   "id": "99de3f03",
   "metadata": {},
   "outputs": [],
   "source": [
    "## "
   ]
  }
 ],
 "metadata": {
  "language_info": {
   "name": "python"
  }
 },
 "nbformat": 4,
 "nbformat_minor": 5
}
