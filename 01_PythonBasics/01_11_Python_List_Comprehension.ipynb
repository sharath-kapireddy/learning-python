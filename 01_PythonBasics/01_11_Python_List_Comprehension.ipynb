{
 "cells": [
  {
   "cell_type": "markdown",
   "id": "48b8b850",
   "metadata": {},
   "source": [
    "# 🧠 Python List Comprehension Cheat Sheet + Practice"
   ]
  },
  {
   "cell_type": "markdown",
   "id": "b6ff1e61",
   "metadata": {},
   "source": [
    "\n",
    "## ✅ Cheat Sheet\n",
    "\n",
    "| Type                                 | Syntax Example                                         | Purpose                          |\n",
    "|--------------------------------------|--------------------------------------------------------|----------------------------------|\n",
    "| **Basic**                            | `[x*2 for x in nums]`                                  | Apply logic to all               |\n",
    "| **Filter only**                      | `[x for x in nums if x % 2 == 0]`                      | Include elements conditionally   |\n",
    "| **Ternary inside**                   | `[x**2 if x%2==0 else x**3 for x in nums]`             | Choose between two options       |\n",
    "| **Filter + Ternary**                 | `[x**2 if x<10 else x**3 for x in nums if x%2==0]`     | Combine filter + conditional     |\n",
    "| **Nested List**                      | `[[x*2 for x in row] for row in matrix]`               | Handle nested structures         |\n",
    "| **Flattening List**                  | `[x**2 for row in matrix for x in row]`                | Flatten the nested structure     |\n",
    "| **Dictionary Comprehension**         | `{x: x**2 if x%2==0 else x**3 for x in nums}`          | Create key-value mapping         |\n",
    "| **Set Comprehension**                | `{x*2 for x in nums}`                                  | Unique values only               |\n",
    "| **With enumerate/zip**               | `[i for i, v in enumerate(nums) if v > 0]`             | Track indices with conditions    |\n",
    "| **Tuple (via cast)**                 | `tuple(x*2 for x in range(3))`                         | Tuple                            |             \n",
    "\n",
    "\n",
    "\n",
    "\n",
    "## 🔁 Comprehension Summary with Use Case & Memory Behavior\n",
    "\n",
    "| Type                | Syntax Example                                 | Result Type       | Use Case                              | Memory Behavior        |\n",
    "|---------------------|------------------------------------------------|-------------------|---------------------------------------|------------------------|\n",
    "| List Comprehension  | `[x*2 for x in range(3)]`                      | List              | Store and reuse computed elements     | Eager (stores all)     |\n",
    "| Set Comprehension   | `{x*2 for x in range(3)}`                      | Set               | Unique items from a computation       | Eager (stores all)     |\n",
    "| Dict Comprehension  | `{x: x*2 for x in range(3)}`                   | Dictionary        | Build mappings from key to value      | Eager (stores all)     |\n",
    "| Generator Expression| `(x*2 for x in range(3))`                      | Generator object  | Iterate lazily, save memory           | Lazy (on-demand)       |\n",
    "| Tuple (via cast)    | `tuple(x*2 for x in range(3))`                 | Tuple             | Fixed-size, immutable collection      | Lazy → Eager (via cast)|\n",
    "\n"
   ]
  },
  {
   "cell_type": "markdown",
   "id": "8c621827",
   "metadata": {},
   "source": [
    "## 🧩 Practice Exercises\n",
    "### 1. Double all numbers\n",
    "Given a list of integers, return a list with all numbers doubled.\n",
    "```python\n",
    "# Output: [2, 4, 6, 8, 10, 12]\n",
    "nums = [1, 2, 3, 4, 5, 6]\n",
    "```\n"
   ]
  },
  {
   "cell_type": "code",
   "execution_count": 1,
   "id": "4828cad8",
   "metadata": {},
   "outputs": [
    {
     "name": "stdout",
     "output_type": "stream",
     "text": [
      "[2, 4, 6, 8, 10, 12]\n"
     ]
    }
   ],
   "source": [
    "nums = [1, 2, 3, 4, 5, 6]\n",
    "result = [x*2 for x in nums]\n",
    "print(result)"
   ]
  },
  {
   "cell_type": "markdown",
   "id": "ddd6192c",
   "metadata": {},
   "source": [
    "### 2. Return only even numbers\n",
    "Given a list of integers, return a list with all numbers doubled.\n",
    "```python\n",
    "# Output: [2, 4, 6]\n",
    "nums = [1, 2, 3, 4, 5, 6]\n",
    "```"
   ]
  },
  {
   "cell_type": "code",
   "execution_count": 2,
   "id": "abafadb3",
   "metadata": {},
   "outputs": [
    {
     "name": "stdout",
     "output_type": "stream",
     "text": [
      "[2, 4, 6]\n"
     ]
    }
   ],
   "source": [
    "nums = [1, 2, 3, 4, 5, 6]\n",
    "result = [x for x in nums if x%2 == 0]\n",
    "print(result)"
   ]
  },
  {
   "cell_type": "markdown",
   "id": "34902e72",
   "metadata": {},
   "source": [
    "### 3. Double the even numbers only\n",
    "Given a list of integers, return a list with only the even numbers doubled.\n",
    "```python\n",
    "# Output: [4, 8, 12]\n",
    "nums = [1, 2, 3, 4, 5, 6]\n",
    "```"
   ]
  },
  {
   "cell_type": "code",
   "execution_count": 3,
   "id": "657a713d",
   "metadata": {},
   "outputs": [
    {
     "name": "stdout",
     "output_type": "stream",
     "text": [
      "[4, 8, 12]\n"
     ]
    }
   ],
   "source": [
    "nums = [1,2,3,4,5,6]\n",
    "result = [x*2 for x in nums if x%2 == 0]\n",
    "print(result)"
   ]
  },
  {
   "cell_type": "markdown",
   "id": "2100db81",
   "metadata": {},
   "source": [
    "### 4. Replace negatives with 0, leave others\n",
    "Given a list of integers, replace negative numbers with 0.\n",
    "```python \n",
    "# Output: [0, 5, 0, 10, 15]\n",
    "nums = [-2, 5, -3, 10, 15]\n",
    "```"
   ]
  },
  {
   "cell_type": "code",
   "execution_count": 4,
   "id": "97111bbe",
   "metadata": {},
   "outputs": [
    {
     "name": "stdout",
     "output_type": "stream",
     "text": [
      "[0, 5, 0, 10, 15]\n"
     ]
    }
   ],
   "source": [
    "nums = [-2, 5, -3, 10, 15]\n",
    "result = [0 if x < 0 else x for x in nums]\n",
    "print(result)"
   ]
  },
  {
   "cell_type": "markdown",
   "id": "de9f7a38",
   "metadata": {},
   "source": [
    "### 5. If divisible by 3, cube it, else square it\n",
    "Given a list of integers, cube those divisible by 3 and square the rest.\n",
    "```python\n",
    "# Output: [1, 4, 27, 16, 25, 216]\n",
    "nums = [1, 2, 3, 4, 5, 6]\n",
    "```"
   ]
  },
  {
   "cell_type": "code",
   "execution_count": 5,
   "id": "b55e8ca7",
   "metadata": {},
   "outputs": [
    {
     "name": "stdout",
     "output_type": "stream",
     "text": [
      "[1, 4, 27, 16, 25, 216]\n"
     ]
    }
   ],
   "source": [
    "nums = [1,2,3,4,5,6]\n",
    "result = [x**3 if x%3 == 0 else x**2  for x in nums]\n",
    "print(result)"
   ]
  },
  {
   "cell_type": "markdown",
   "id": "f9b9423c",
   "metadata": {},
   "source": [
    "### 6. Consider only even numbers. cube the numbers If divisible by 3 , else square them\n",
    "Given a list of integers, conidering only even numbers cube those divisible by 3 and square the rest.\n",
    "```python\n",
    "# Output: [4, 16, 216, 400]\n",
    "nums = [1, 2, 3, 4, 5, 6, 11, 20]\n",
    "```"
   ]
  },
  {
   "cell_type": "code",
   "execution_count": 6,
   "id": "0ed1bbc3",
   "metadata": {},
   "outputs": [
    {
     "name": "stdout",
     "output_type": "stream",
     "text": [
      "[4, 16, 216, 400]\n"
     ]
    }
   ],
   "source": [
    "nums = [1, 2, 3, 4, 5, 6, 11, 20]\n",
    "result = [x**3 if x%3 == 0 else x**2 for x in nums if x%2 == 0]\n",
    "print(result)"
   ]
  },
  {
   "cell_type": "markdown",
   "id": "38c0ef04",
   "metadata": {},
   "source": [
    "### 7. Matrix flatten and square each\n",
    "Given a 2D list (matrix), flatten it and return a list of squares of all numbers.\n",
    "```python\n",
    "# Output: [1, 4, 9, 16]\n",
    "matrix = [[1, 2], [3, 4]]\n",
    "```"
   ]
  },
  {
   "cell_type": "code",
   "execution_count": 7,
   "id": "2e64b86e",
   "metadata": {},
   "outputs": [
    {
     "name": "stdout",
     "output_type": "stream",
     "text": [
      "[1, 4, 9, 16]\n"
     ]
    }
   ],
   "source": [
    "matrix = [[1,2], [3,4]]\n",
    "result = [x**2 for row in matrix for x in row]\n",
    "print(result)"
   ]
  },
  {
   "cell_type": "markdown",
   "id": "ed9154a5",
   "metadata": {},
   "source": [
    "### 8. Matrix square each and do not flatten\n",
    "Given a 2D list (matrix), flatten it and return a list of squares of all numbers.\n",
    "```python\n",
    "# Output: [[1, 4], [9, 16]]\n",
    "matrix = [[1, 2], [3, 4]]\n",
    "```"
   ]
  },
  {
   "cell_type": "code",
   "execution_count": 8,
   "id": "8fd749e5",
   "metadata": {},
   "outputs": [
    {
     "name": "stdout",
     "output_type": "stream",
     "text": [
      "[[1, 4], [9, 16]]\n"
     ]
    }
   ],
   "source": [
    "matrix = [[1, 2], [3, 4]]\n",
    "result = [[x**2 for x in row] for row in matrix]\n",
    "print(result)"
   ]
  },
  {
   "cell_type": "markdown",
   "id": "56cc80bc",
   "metadata": {},
   "source": [
    "### 9. Create dict: num → 'even' or 'odd'\n",
    "Given a list of integers, return a dictionary where the key is the number and the value is either 'even' or 'odd'.\n",
    "```python\n",
    "# Output: {1: 'odd', 2: 'even', 3: 'odd'}\n",
    "nums = [1, 2, 3]\n",
    "```"
   ]
  },
  {
   "cell_type": "code",
   "execution_count": 9,
   "id": "bc16783d",
   "metadata": {},
   "outputs": [
    {
     "name": "stdout",
     "output_type": "stream",
     "text": [
      "{1: 'odd', 2: 'even', 3: 'odd'}\n"
     ]
    }
   ],
   "source": [
    "nums = [1, 2, 3]\n",
    "result = {x:\"odd\" if x%2 ==1 else \"even\" for x in nums}\n",
    "print(result)"
   ]
  },
  {
   "cell_type": "markdown",
   "id": "773cf5a7",
   "metadata": {},
   "source": [
    "### 10. Set of squares of odd numbers only\n",
    "Given a list of integers, return a set containing squares of all odd numbers.\n",
    "```python\n",
    "# Output: {1, 9, 25}\n",
    "nums = [1, 2, 3, 4, 5]\n",
    "```"
   ]
  },
  {
   "cell_type": "code",
   "execution_count": 10,
   "id": "99de3f03",
   "metadata": {},
   "outputs": [
    {
     "name": "stdout",
     "output_type": "stream",
     "text": [
      "{1, 9, 25}\n"
     ]
    }
   ],
   "source": [
    "nums = [1,2,3,4,5]\n",
    "result = {x**2 for x in nums if x%2 == 1}\n",
    "print(result)"
   ]
  },
  {
   "cell_type": "markdown",
   "id": "08cfa32e",
   "metadata": {},
   "source": [
    "### 11. tuple of squares of even numbers only\n",
    "Given a list of integers, return a tuple containing squares of all even numbers.\n",
    "```python\n",
    "# Output: (4, 16)\n",
    "nums = [1, 2, 3, 4, 5]\n",
    "```"
   ]
  },
  {
   "cell_type": "code",
   "execution_count": 11,
   "id": "a0350d89",
   "metadata": {},
   "outputs": [
    {
     "name": "stdout",
     "output_type": "stream",
     "text": [
      "type of (4, 16) is: <class 'tuple'>\n"
     ]
    }
   ],
   "source": [
    "nums = [1, 2, 3, 4, 5]\n",
    "result = tuple(x**2 for x in nums if x%2 == 0)\n",
    "print(f\"type of {result} is: {type(result)}\")"
   ]
  },
  {
   "cell_type": "markdown",
   "id": "ac0b42a3",
   "metadata": {},
   "source": [
    "### 12. return a list containing only the indexes of positive numbers\n",
    "Given a list of integers, return a tuple containing squares of all even numbers.\n",
    "```python\n",
    "# Output: [0, 2, 5]\n",
    "nums = [1, -2, 3, -4, -5, 6]\n",
    "```"
   ]
  },
  {
   "cell_type": "code",
   "execution_count": 12,
   "id": "5b8915dd",
   "metadata": {},
   "outputs": [
    {
     "name": "stdout",
     "output_type": "stream",
     "text": [
      "[0, 2, 5]\n"
     ]
    }
   ],
   "source": [
    "nums = [1, -2, 3, -4, -5, 6]\n",
    "result = [ i for i,v in enumerate(nums) if v >= 0]\n",
    "print(result)"
   ]
  },
  {
   "cell_type": "markdown",
   "id": "d48cf229",
   "metadata": {},
   "source": [
    "### 13. Extract the data from comma delimited string and standardize each data to float\n",
    "Given a comma seperated string, return a list containing cleaned data.\n",
    "```python\n",
    "# Output: [42.0, 7.5, 19.0]\n",
    "raw_data = \" 42,   7.5, 19 \"\n",
    "```"
   ]
  },
  {
   "cell_type": "code",
   "execution_count": 13,
   "id": "1f4f6184",
   "metadata": {},
   "outputs": [
    {
     "name": "stdout",
     "output_type": "stream",
     "text": [
      "[42.0, 7.5, 19.0]\n"
     ]
    }
   ],
   "source": [
    "raw_data = \" 42,   7.5, 19 \"\n",
    "result = [float(x.strip())  for x in raw_data.split(\",\")]\n",
    "print(result)"
   ]
  }
 ],
 "metadata": {
  "kernelspec": {
   "display_name": "Python 3",
   "language": "python",
   "name": "python3"
  },
  "language_info": {
   "codemirror_mode": {
    "name": "ipython",
    "version": 3
   },
   "file_extension": ".py",
   "mimetype": "text/x-python",
   "name": "python",
   "nbconvert_exporter": "python",
   "pygments_lexer": "ipython3",
   "version": "3.13.2"
  }
 },
 "nbformat": 4,
 "nbformat_minor": 5
}
