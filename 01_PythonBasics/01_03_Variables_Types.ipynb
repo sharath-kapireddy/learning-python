{
 "cells": [
  {
   "cell_type": "markdown",
   "id": "028c20c1",
   "metadata": {},
   "source": [
    "# type(), isinstance(), is\n",
    "## type()\n",
    "- The `type()` function in Python is used to determine the data type of an object. It's a built-in function that takes one argument (an object) and returns the type of that object.\n",
    "- The `type()` function returns a type object. This type object represents the class of the given object. You can compare this type object with the built-in type names (like `int`, `str`, `list`, `dict`, etc.) to check the object's type.\n",
    "- While you can use `type()` for explicit type checking, it's often considered less Pythonic than using `isinstance()`.\n",
    "\n",
    "## isinstance()\n",
    "- `isinstance()` checks if an object is an instance of a particular class or a subclass thereof. This is important for polymorphism and inheritance.\n",
    "\n",
    "## is operator\n",
    "- The is operator checks for object identity (whether two variables refer to the same object in memory), while == checks for equality of value. \n",
    "- **None checking:** Since there's only one None object, checking identity is more appropriate and often slightly faster."
   ]
  },
  {
   "cell_type": "code",
   "execution_count": 1,
   "id": "1651bd95",
   "metadata": {},
   "outputs": [
    {
     "name": "stdout",
     "output_type": "stream",
     "text": [
      "The type of 1 is: <class 'int'>\n",
      "The type of 3.142857142857143 is: <class 'float'>\n",
      "The type of (3+5j) is: <class 'complex'>\n",
      "The type of 'Hello' is: <class 'str'>\n",
      "The type of True is: <class 'bool'>\n",
      "The type of [1, 2, 'three', 4] is: <class 'list'>\n",
      "The type of (1, 2, 'three') is: <class 'tuple'>\n",
      "The type of range(0, 6) is: <class 'range'>\n",
      "The type of {'one': 1, 'two': 2} is: <class 'dict'>\n",
      "The type of {1, 2, 3} is: <class 'set'>\n",
      "The type of frozenset({1, 2, 3, 4}) is: <class 'type'>>\n",
      "The type of None is: <class 'NoneType'>\n",
      "The type of my_function is: <class 'function'>\n",
      "The type of the MyClass is: <class 'type'>\n",
      "The type of an instance of MyClass (obj) is: <class '__main__.MyClass'>\n",
      "The type of the method my_method of the object is: <class 'method'>\n",
      "The type of the result of calling obj.my_method() is: <class 'NoneType'>\n"
     ]
    }
   ],
   "source": [
    "\n",
    "my_int = 1\n",
    "my_float = 22/7\n",
    "my_complex = 3+5j\n",
    "\n",
    "my_str = \"Hello\"\n",
    "my_bool = True\n",
    "\n",
    "my_list = [1, 2, \"three\", 4]\n",
    "my_tuple = (1, 2, \"three\")\n",
    "my_range = range(6)\n",
    "\n",
    "my_dict = {\"one\": 1, \"two\": 2}\n",
    "\n",
    "my_set = {1, 2, 3, 3} # Duplicate '3' will be automatically removed\n",
    "my_frozenset = frozenset({1, 2, 3, 4})\n",
    "\n",
    "### The None Type\n",
    "# `None` is a special singleton object in Python used to represent the absence of a value or a null value. Its type is `NoneType`.\n",
    "my_none = None\n",
    "\n",
    "def my_function():\n",
    "    pass\n",
    "\n",
    "class MyClass():\n",
    "    def my_method(self):\n",
    "        pass\n",
    "\n",
    "obj = MyClass()\n",
    "\n",
    "print(f\"The type of {my_int} is: {type(my_int)}\")       # Output: <class 'int'>\n",
    "print(f\"The type of {my_float} is: {type(my_float)}\")     # Output: <class 'float'>\n",
    "print(f\"The type of {my_complex} is: {type(my_complex)}\") # Output: <class 'complex'>\n",
    "\n",
    "print(f\"The type of '{my_str}' is: {type(my_str)}\")   # Output: <class 'str'>\n",
    "print(f\"The type of {my_bool} is: {type(my_bool)}\")     # Output: <class 'bool'>\n",
    "\n",
    "print(f\"The type of {my_list} is: {type(my_list)}\")     # Output: <class 'list'>\n",
    "print(f\"The type of {my_tuple} is: {type(my_tuple)}\")   # Output: <class 'tuple'>\n",
    "print(f\"The type of {my_range} is: {type(my_range)}\")   # Output: <class 'range'>\n",
    "\n",
    "print(f\"The type of {my_dict} is: {type(my_dict)}\")     # Output: <class 'dict'>\n",
    "\n",
    "print(f\"The type of {my_set} is: {type(my_set)}\")         # Output: <class 'set'>\n",
    "print(f\"The type of {my_frozenset} is: {type(frozenset)}>\") # Output: <class 'frozenset'>\n",
    "\n",
    "print(f\"The type of {my_none} is: {type(my_none)}\")       # Output: <class 'NoneType'>\n",
    "\n",
    "print(f\"The type of my_function is: {type(my_function)}\")     # Output: <class 'function'>\n",
    "\n",
    "print(f\"The type of the MyClass is: {type(MyClass)}\")         # Output: <class 'type'>\n",
    "print(f\"The type of an instance of MyClass (obj) is: {type(obj)}\") # Output: <class '__main__.MyClass'>\n",
    "print(f\"The type of the method my_method of the object is: {type(obj.my_method)}\") # Output: <class 'method'>\n",
    "# Calling the method returns None as it doesn't explicitly return anything\n",
    "print(f\"The type of the result of calling obj.my_method() is: {type(obj.my_method())}\") # Output: <class 'NoneType'>\n"
   ]
  },
  {
   "cell_type": "code",
   "execution_count": 2,
   "id": "3ab3d94e",
   "metadata": {},
   "outputs": [
    {
     "name": "stdout",
     "output_type": "stream",
     "text": [
      "Using type(): my_int is an integer\n",
      "Using isinstance(): my_int is an integer\n",
      "-----------------------------------------\n",
      "Using type(): Works for None comparison, but 'is None' is preferred\n",
      "Using 'is': The value of my_none is NoneType\n",
      "Using isinstance(): The value of my_none is NoneType\n",
      "-----------------------------------------\n"
     ]
    }
   ],
   "source": [
    "# Though we can check for Data Type using type(), the Pythonic way of doing it is using isinstance()\n",
    "if type(my_int) == int:\n",
    "    print(\"Using type(): my_int is an integer\")             # Output: Using type(): my_int is an integer\n",
    "\n",
    "if isinstance(my_int, int):\n",
    "    print(\"Using isinstance(): my_int is an integer\")         # Output: Using isinstance(): my_int is an integer\n",
    "\n",
    "print(\"-----------------------------------------\")\n",
    "\n",
    "# Checking for None\n",
    "# While you can compare the type directly, the suggested way to check for None is using the 'is' operator for identity comparison.\n",
    "if type(my_none) == type(None):\n",
    "    print(\"Using type(): Works for None comparison, but 'is None' is preferred\") # Output: Using type(): Works for None comparison, but 'is None' is preferred\n",
    "\n",
    "if my_none is None:\n",
    "    print(f\"Using 'is': The value of my_none is NoneType\")   # Output: Using 'is': The value of my_none is NoneType\n",
    "\n",
    "if isinstance(my_none, type(None)):\n",
    "    print(f\"Using isinstance(): The value of my_none is NoneType\") # Output: Using isinstance(): The value of my_none is NoneType\n",
    "\n",
    "print(\"-----------------------------------------\")"
   ]
  },
  {
   "cell_type": "code",
   "execution_count": 3,
   "id": "e2426425",
   "metadata": {},
   "outputs": [
    {
     "name": "stdout",
     "output_type": "stream",
     "text": [
      "False\n",
      "False\n",
      "True\n",
      "True\n"
     ]
    }
   ],
   "source": [
    "## Comparing Data Structures\n",
    "# The equality comparison (`==`) behaves differently for different data structures based on whether they are ordered and mutable.\n",
    "\n",
    "print ([1, 2] == [2, 1])  # Output: False - Lists are ordered, so the order of elements matters for equality.\n",
    "print((1, 2, 3) == (1, 3, 2)) # Output: False - Tuples are ordered, so the order of elements matters for equality.\n",
    "print({\"one\": 1, \"two\": 2} == {\"two\": 2, \"one\": 1}) # Output: True - Dictionaries are unordered, so only the key-value pairs matter.\n",
    "print({1, 2, 3, 3} == {3, 2, 1}) ## Output: True - Sets are unordered and contain only unique elements, so order and duplicates don't affect equality.\n"
   ]
  },
  {
   "cell_type": "markdown",
   "id": "600dc2da",
   "metadata": {},
   "source": [
    "## NaN\n",
    "- in Python, NaN (Not a Number) is specifically a floating-point concept and only occurs with float types.\n",
    "- It's a special floating-point value used to represent **missing, undefined, or unrepresentable** values\n",
    "    - NaN comes from the IEEE 754 floating-point standard.\n",
    "    - It does not exist for integers, strings, or other data types.\n",
    "    - Even if you try to assign or compare NaN to an int, it still gets treated as a float.\n",
    "\n",
    "- NaN is needed in floating-point math to represent undefined or missing values, like:\n",
    "    - 0.0 / 0.0\n",
    "    - log(-1.0)\n",
    "    - sqrt(-1.0)"
   ]
  },
  {
   "cell_type": "code",
   "execution_count": 4,
   "id": "7c2efafb",
   "metadata": {},
   "outputs": [
    {
     "name": "stdout",
     "output_type": "stream",
     "text": [
      "True\n",
      "True\n"
     ]
    }
   ],
   "source": [
    "# Create NaN\n",
    "# 1. Using float\n",
    "nan_val1 = float('nan')\n",
    "\n",
    "# 2. Using Numpy\n",
    "import numpy as np\n",
    "nan_val2 = np.nan\n",
    "\n",
    "import math\n",
    "# How to check for NaN\n",
    "print(math.isnan(nan_val1)) # True\n",
    "print(np.isnan(nan_val2))   # True\n"
   ]
  },
  {
   "cell_type": "markdown",
   "id": "5ba794b2",
   "metadata": {},
   "source": [
    "### Multiple assignment (aka iterable unpacking).\n",
    "```python\n",
    "num, other, ec = [], [], []\n",
    "```\n",
    "\n",
    "**What happens here:**\n",
    "- Python evaluates the right-hand side as a tuple: ([], [], [])\n",
    "- Then it unpacks each element into the corresponding variable:\n",
    "    - num = []\n",
    "    - other = []\n",
    "    - ec = []\n",
    "\n",
    "**You can also do this with other types:**\n",
    "```python\n",
    "a, b = 10, 20           # integers\n",
    "x, y = y, x             # swapping\n",
    "first, *rest = [1,2,3]  # unpack with *rest\n",
    "```\n",
    "\n",
    "**Examples**"
   ]
  },
  {
   "cell_type": "code",
   "execution_count": null,
   "id": "becc9bec",
   "metadata": {},
   "outputs": [
    {
     "name": "stdout",
     "output_type": "stream",
     "text": [
      "20 10 1 [2, 3]\n"
     ]
    }
   ],
   "source": [
    "a, b = 10, 20           # integers\n",
    "a, b = b, a             # swapping\n",
    "first, *rest = [1,2,3]  # unpack with *rest\n",
    "\n",
    "print(a, b , first, rest) ## 20 10 1 [2, 3]\n"
   ]
  }
 ],
 "metadata": {
  "kernelspec": {
   "display_name": "Python 3",
   "language": "python",
   "name": "python3"
  },
  "language_info": {
   "codemirror_mode": {
    "name": "ipython",
    "version": 3
   },
   "file_extension": ".py",
   "mimetype": "text/x-python",
   "name": "python",
   "nbconvert_exporter": "python",
   "pygments_lexer": "ipython3",
   "version": "3.13.2"
  }
 },
 "nbformat": 4,
 "nbformat_minor": 5
}
