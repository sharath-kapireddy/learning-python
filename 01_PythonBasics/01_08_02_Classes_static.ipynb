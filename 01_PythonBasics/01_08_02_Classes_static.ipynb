{
 "cells": [
  {
   "cell_type": "markdown",
   "id": "131f5e8e",
   "metadata": {},
   "source": [
    "## Classes - static attributes and static methods\n",
    "\n",
    "**Static Attributes (a.k.a. Class Variables)**\n",
    "- Belong to the class itself, not any individual object\n",
    "- Shared across all instances\n",
    "- Defined outside __init__, inside the class"
   ]
  },
  {
   "cell_type": "code",
   "execution_count": 1,
   "id": "554c0409",
   "metadata": {},
   "outputs": [
    {
     "name": "stdout",
     "output_type": "stream",
     "text": [
      "Infosys\n",
      "Infosys\n",
      "Infosys\n",
      "edgeverve\n"
     ]
    }
   ],
   "source": [
    "class Employee:\n",
    "    company = \"Infosys\"  # static/class attribute\n",
    "\n",
    "    def __init__(self, name):\n",
    "        self.name = name  # instance attribute\n",
    "\n",
    "e1 = Employee(\"Sharath\")\n",
    "e2 = Employee(\"Krishna\")\n",
    "\n",
    "# Accessing static variable with Class name instead of instance name\n",
    "print(Employee.company) # Infosys\n",
    "\n",
    "# Can access static variables with instance name as well\n",
    "print(e1.company)  # Infosys\n",
    "print(e2.company)  # Infosys\n",
    "\n",
    "Employee.company = \"edgeverve\"\n",
    "print(e1.company)  # edgeverve (changed for all)\n"
   ]
  },
  {
   "cell_type": "markdown",
   "id": "f18f5860",
   "metadata": {},
   "source": [
    "### 🔒 Python Access Conventions\n",
    "\n",
    "| Name       | Access Level | Meaning                                                        |\n",
    "|------------|--------------|----------------------------------------------------------------|\n",
    "| `company`  | Public       | Safe to access from anywhere (`obj.company`)                   |\n",
    "| `_company` | Protected    | Internal use; not enforced, but discouraged to access          |\n",
    "| `__company`| Private      | Name-mangled by Python → becomes `_ClassName__company`         |\n",
    "\n",
    "**✅ Use Cases**\n",
    "- Use public for regular stuff\n",
    "- Use _protected when subclass might need it\n",
    "- Use __private when you want to avoid accidental access or override\n",
    "\n",
    "\n",
    "**⚠️ Note**\n",
    "- _ is just a convention; Python won't stop you from accessing _company.\n",
    "- Unlike Java/C++, Python relies on the developer's discipline, not strict access control.\n",
    "\n",
    "**Name Mangling**\n",
    "- Name mangling is a mechanism Python uses to prevent accidental override or access of a class’s private attributes (those starting with __) — especially useful in inheritance scenarios.\n",
    "- When you define something like self.__secret, Python internally renames it to: `_ClassName__secret`\n",
    "    - So if you define self.__secret in class Employee, Python turns it into: `self._Employee__secret`\n",
    "- This makes it harder to access or override by mistake — but not truly private. Say you're inheriting from a class and you accidentally use the same __name attribute. Thanks to name mangling, the base class and subclass don’t clash. Both __data coexist peacefully due to name mangling.\n"
   ]
  },
  {
   "cell_type": "code",
   "execution_count": 2,
   "id": "1cd73ec5",
   "metadata": {},
   "outputs": [
    {
     "name": "stdout",
     "output_type": "stream",
     "text": [
      "Inside class:\n",
      "  public: public\n",
      "  _protected: protected\n",
      "  __private: private\n",
      "\n",
      "Outside class:\n",
      "  public: public\n",
      "  _protected: protected\n",
      "  __private (mangled): private\n"
     ]
    }
   ],
   "source": [
    "class Employee:\n",
    "    def __init__(self):\n",
    "        self.public = \"public\"\n",
    "        self._protected = \"protected\"\n",
    "        self.__private = \"private\"\n",
    "\n",
    "    def show_all(self):\n",
    "        print(\"Inside class:\")\n",
    "        print(\"  public:\", self.public)\n",
    "        print(\"  _protected:\", self._protected)\n",
    "        print(\"  __private:\", self.__private)\n",
    "\n",
    "e = Employee()\n",
    "e.show_all()\n",
    "\n",
    "print(\"\\nOutside class:\")\n",
    "print(\"  public:\", e.public)            # ✅ Accessible\n",
    "print(\"  _protected:\", e._protected)    # ⚠️ Accessible, but discouraged; Suggested way is to use getter/setter\n",
    "# print(\"  __private:\", e.__private)    # ❌ AttributeError: 'Employee' object has no attribute '__private'\n",
    "\n",
    "# ✅ But it exists (name-mangled)\n",
    "print(\"  __private (mangled):\", e._Employee__private)\n"
   ]
  },
  {
   "cell_type": "markdown",
   "id": "82282efa",
   "metadata": {},
   "source": [
    "**Static Methods**\n",
    "- Belong to the class, not any instance\n",
    "- Don't use self or cls\n",
    "- Defined using the @staticmethod decorator\n",
    "- Useful for utility/helper functions that relate to the class, but don’t need access to instance or class data\n",
    "\n",
    "**Example 1 (without using @staticmethod)**"
   ]
  },
  {
   "cell_type": "code",
   "execution_count": 3,
   "id": "7363e7a5",
   "metadata": {},
   "outputs": [
    {
     "name": "stdout",
     "output_type": "stream",
     "text": [
      "25\n"
     ]
    }
   ],
   "source": [
    "# Now the static method cannot be accessed via instances\n",
    "class MathUtils:\n",
    "    def square(x):\n",
    "        return x * x\n",
    "\n",
    "print(MathUtils.square(5))  # 25\n",
    "\n",
    "mymathutil1 = MathUtils()\n",
    "# print(mymathutil1.square(5))  # TypeError: MathUtils.square() takes 1 positional argument but 2 were given\n"
   ]
  },
  {
   "cell_type": "markdown",
   "id": "435ff93a",
   "metadata": {},
   "source": [
    "**Example 2 (using @staticmethod)**\n",
    "- Now You can call a static method:\n",
    "    - Directly via the class: MathUtils.square(5)\n",
    "    - Or via an instance: obj.square(5) (though not recommended)"
   ]
  },
  {
   "cell_type": "code",
   "execution_count": 4,
   "id": "50e5ef73",
   "metadata": {},
   "outputs": [
    {
     "name": "stdout",
     "output_type": "stream",
     "text": [
      "25\n",
      "25\n"
     ]
    }
   ],
   "source": [
    "# Now the static method CAN BE accessed via instances\n",
    "class MathUtils:\n",
    "    @staticmethod\n",
    "    def square(x):\n",
    "        return x * x\n",
    "\n",
    "print(MathUtils.square(5))  # 25\n",
    "\n",
    "mymathutil1 = MathUtils()\n",
    "print(mymathutil1.square(5))  # 25\n"
   ]
  }
 ],
 "metadata": {
  "kernelspec": {
   "display_name": "Python 3",
   "language": "python",
   "name": "python3"
  },
  "language_info": {
   "codemirror_mode": {
    "name": "ipython",
    "version": 3
   },
   "file_extension": ".py",
   "mimetype": "text/x-python",
   "name": "python",
   "nbconvert_exporter": "python",
   "pygments_lexer": "ipython3",
   "version": "3.13.2"
  }
 },
 "nbformat": 4,
 "nbformat_minor": 5
}
