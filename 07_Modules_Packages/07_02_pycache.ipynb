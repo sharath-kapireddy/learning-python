{
 "cells": [
  {
   "cell_type": "markdown",
   "id": "a3d5ad01",
   "metadata": {},
   "source": [
    "## `__pycache__`\n",
    "- `__pycache__` stores compiled bytecode files for faster execution.\n",
    "- It is automatically created when Python imports or runs a script.\n",
    "- The .pyc files are version-specific and platform-independent.\n",
    "\n",
    "**Example Directory Structure:**\n",
    "```text\n",
    "myproject/\n",
    "├── main.py\n",
    "├── utils/\n",
    "│   ├── __init__.py\n",
    "│   ├── math_ops.py\n",
    "│   └── __pycache/\n",
    "│       └── math_ops.cpython-39.pyc\n",
    "└── __pycache__/\n",
    "    └── main.cpython-39.pyc\n",
    "```\n",
    "---"
   ]
  },
  {
   "cell_type": "markdown",
   "id": "e016ac74",
   "metadata": {},
   "source": [
    "## Detailed (can be skipped)\n",
    "### What is `__pycache__` in Python?\n",
    "\n",
    "`__pycache__` is a directory where Python stores **compiled bytecode** files (`.pyc`) for faster script execution. This is done to improve performance by avoiding recompilation of Python files on each run.\n",
    "\n",
    "### How Does it Work?\n",
    "\n",
    "1. **Bytecode Compilation**:\n",
    "   - Python compiles `.py` files into bytecode, which is a lower-level, platform-independent format.\n",
    "   - The compiled bytecode is saved as `.pyc` files inside the `__pycache__` directory.\n",
    "\n",
    "2. **Naming Convention**:\n",
    "   - `.pyc` files are named with a convention that includes the Python version. For example, `script.py` compiled with Python 3.9 would result in `script.cpython-39.pyc`.\n",
    "\n",
    "### Why is it Useful?\n",
    "\n",
    "- **Faster Execution**: Python can skip the compilation step by using `.pyc` files, leading to faster startup times.\n",
    "- **Avoid Recompiling**: Avoids recompiling unchanged scripts.\n",
    "- **Platform Independence**: The `.pyc` files are platform-independent.\n",
    "\n",
    "### Example:\n",
    "\n",
    "After running `script.py`, Python generates `__pycache__/script.cpython-39.pyc` to speed up subsequent executions.\n",
    "\n",
    "### When is `__pycache__` Generated?\n",
    "\n",
    "- **On Import**: Python creates `.pyc` files in `__pycache__` when modules are imported.\n",
    "- **On Execution**: When running a script directly, Python generates the `.pyc` file for that script.\n",
    "\n",
    "### Managing `__pycache__`\n",
    "\n",
    "- **Deleting `__pycache__`**: Deleting it will cause Python to regenerate the files when needed.\n",
    "- **Disabling Bytecode Generation**: You can prevent the creation of `.pyc` files with the `-B` flag:\n",
    "  ```bash\n",
    "  python -B script.py\n"
   ]
  }
 ],
 "metadata": {
  "language_info": {
   "name": "python"
  }
 },
 "nbformat": 4,
 "nbformat_minor": 5
}
