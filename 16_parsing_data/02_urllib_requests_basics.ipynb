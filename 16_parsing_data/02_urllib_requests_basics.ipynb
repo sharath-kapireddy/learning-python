{
 "cells": [
  {
   "cell_type": "markdown",
   "id": "78e69c54",
   "metadata": {},
   "source": [
    "# Example: Retrieving data from internet"
   ]
  },
  {
   "cell_type": "code",
   "execution_count": 1,
   "id": "52dbb89c",
   "metadata": {},
   "outputs": [
    {
     "name": "stdout",
     "output_type": "stream",
     "text": [
      "result code:  200\n",
      "b'<!doctype html><html itemscope=\"\" itemtype=\"http://schema.org/WebPage\" lang=\"en-IN\"><head><meta content=\"text/html; charset=UTF-8\" http-equiv=\"Content-Type\"><meta content=\"/images/branding/googleg/1x/googleg_standard_color_128dp.png\" itemprop=\"image\"><title>Google</title><script nonce=\"xb79QjD39CuLhzh-XNdVFg\">(function(){var _g={kEI:\\'Fv8HaIb6NcO5juMPn-yfmA0\\',kEXPI:\\'0,202791,3497516,1077,538661,14112,34679,30022,94323,266578,94243,133876,42356,19569,11106,5230576,106,87,5988454,30823995,25240237,'\n"
     ]
    }
   ],
   "source": [
    "import urllib.request # instead of urllib2 like in Python 2.7\n",
    "\n",
    "def main():\n",
    "    # open a connection to a URL using urllib2\n",
    "    webUrl = urllib.request.urlopen(\"http://www.google.com\")\n",
    "    \n",
    "    # get the result code and print it\n",
    "    print (\"result code: \", webUrl.getcode())\n",
    "    \n",
    "    # read the data from the URL and print it\n",
    "    data = webUrl.read()\n",
    "    print (data[:500])\n",
    "\n",
    "main()"
   ]
  },
  {
   "cell_type": "markdown",
   "id": "878ed925",
   "metadata": {},
   "source": [
    "## Same Example using context manager protocol (with block)"
   ]
  },
  {
   "cell_type": "code",
   "execution_count": 3,
   "id": "3d9caf21",
   "metadata": {},
   "outputs": [
    {
     "name": "stdout",
     "output_type": "stream",
     "text": [
      "Attempting to open connection to: http://www.google.com\n",
      "Result Code: 200\n",
      "\n",
      "--- Content of the Web Page ---\n",
      "<!doctype html><html itemscope=\"\" itemtype=\"http://schema.org/WebPage\" lang=\"en-IN\"><head><meta content=\"text/html; charset=UTF-8\" http-equiv=\"Content-Type\"><meta content=\"/images/branding/googleg/1x/googleg_standard_color_128dp.png\" itemprop=\"image\"><title>Google</title><script nonce=\"QrIGC5Fyyemnu_iQZQx7RA\">(function(){var _g={kEI:'Jv8HaMCcKMWK4-EP5JTciAs',kEXPI:'0,202791,3497520,1073,538661,14111,71099,354504,219813,50663,19568,11106,5230575,108,86,36812449,25240237,66460,34198,18442,7612,141...\n"
     ]
    }
   ],
   "source": [
    "# -*- coding: utf-8 -*-\n",
    "\n",
    "# Import the `urllib.request` module\n",
    "import urllib.request\n",
    "\n",
    "def main():\n",
    "    try:\n",
    "        # Define the URL to access\n",
    "        url = \"http://www.google.com\"\n",
    "\n",
    "        # Open a connection to the URL using urllib.request.urlopen\n",
    "        print(f\"Attempting to open connection to: {url}\")\n",
    "        with urllib.request.urlopen(url) as webUrl:\n",
    "            # Get the HTTP result code and print it\n",
    "            result_code = webUrl.getcode()\n",
    "            print(f\"Result Code: {result_code}\")\n",
    "\n",
    "            # Check if the request was successful (HTTP status code 200)\n",
    "            if result_code == 200:\n",
    "                # Read the data from the URL\n",
    "                data = webUrl.read().decode('utf-8') # Decode bytes to string\n",
    "                print(\"\\n--- Content of the Web Page ---\")\n",
    "                # Print a snippet of the data to avoid overwhelming output\n",
    "                print(data[:500] + \"...\" if len(data) > 500 else data)\n",
    "            else:\n",
    "                print(f\"Failed to retrieve content. HTTP status code: {result_code}\")\n",
    "\n",
    "    except urllib.error.URLError as e:\n",
    "        print(f\"Error accessing URL: {e}\")\n",
    "    except Exception as e:\n",
    "        print(f\"An unexpected error occurred: {e}\")\n",
    "\n",
    "main()"
   ]
  }
 ],
 "metadata": {
  "kernelspec": {
   "display_name": "Python 3",
   "language": "python",
   "name": "python3"
  },
  "language_info": {
   "codemirror_mode": {
    "name": "ipython",
    "version": 3
   },
   "file_extension": ".py",
   "mimetype": "text/x-python",
   "name": "python",
   "nbconvert_exporter": "python",
   "pygments_lexer": "ipython3",
   "version": "3.13.2"
  }
 },
 "nbformat": 4,
 "nbformat_minor": 5
}
